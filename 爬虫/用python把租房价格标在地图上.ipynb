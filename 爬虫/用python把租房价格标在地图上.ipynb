{
 "cells": [
  {
   "cell_type": "markdown",
   "metadata": {},
   "source": [
    "租房信息已经有了，为了能对北京目前的租房市场有个直观认识，我对数据进行深度分析，并进行可视化展示"
   ]
  },
  {
   "cell_type": "markdown",
   "metadata": {},
   "source": [
    "从分析结果中，我得到了哪些位置房源多、各区租房平均价格以及心仪价格地理位置分布等重要信息，为帮助我租房提供重要依据"
   ]
  },
  {
   "cell_type": "markdown",
   "metadata": {},
   "source": [
    "下面带大家一起看一下整个分析过程"
   ]
  },
  {
   "cell_type": "markdown",
   "metadata": {},
   "source": [
    "### 1.分析各行政区房源数量及单价"
   ]
  },
  {
   "cell_type": "code",
   "execution_count": null,
   "metadata": {},
   "outputs": [],
   "source": [
    "import pandas as pd\n",
    "beijing_daname=['朝阳区', '丰台区', '海淀区', '大兴区', '通州区', '昌平区', '东城区', '西城区', '顺义区']\n",
    "data=pd.read_csv('租房数据加经纬度.csv',encoding='gbk')\n",
    "areas=list(set(list(data['行政区'])))\n",
    "area_sums={}\n",
    "for area in areas:\n",
    "    area_sums[area]=list(data['行政区']).count(area)\n",
    "from pyecharts import options as opts\n",
    "from pyecharts.charts import Bar\n",
    "import random\n",
    "hotel_num=[area_sums[i] for i in beijing_daname]\n",
    "bar = (\n",
    "    Bar()\n",
    "    .add_xaxis(beijing_daname)\n",
    "    .add_yaxis(\"\", hotel_num)\n",
    "    .set_global_opts(title_opts=opts.TitleOpts(title=\"北京各区房源数量\"))\n",
    "    .set_series_opts(\n",
    "        label_opts=opts.LabelOpts(is_show=True),\n",
    "        markline_opts=opts.MarkLineOpts(\n",
    "            data=[\n",
    "                opts.MarkLineItem(type_=\"min\", name=\"最小值\"),\n",
    "                opts.MarkLineItem(type_=\"max\", name=\"最大值\"),\n",
    "                opts.MarkLineItem(type_=\"average\", name=\"平均值\"),\n",
    "            ]\n",
    "        ),\n",
    "    )\n",
    ")\n",
    "bar.render_notebook()"
   ]
  },
  {
   "cell_type": "markdown",
   "metadata": {},
   "source": [
    "从上图可以得出以下结论："
   ]
  },
  {
   "cell_type": "markdown",
   "metadata": {},
   "source": [
    "朝阳区的房源数量最多，有1877套  \n",
    "顺义区的房源数量最少，有272套  \n",
    "9个区平均房源数量为611套。"
   ]
  },
  {
   "cell_type": "markdown",
   "metadata": {},
   "source": [
    "各城区房源单价情况（每平米单价*30平米为例）"
   ]
  },
  {
   "cell_type": "code",
   "execution_count": null,
   "metadata": {},
   "outputs": [],
   "source": [
    "unit_price={}\n",
    "for i in list(data.groupby('行政区')):\n",
    "    if i[0] in beijing_daname:\n",
    "        unit_price[i[0]]=int(i[1]['价格'].sum()/i[1]['面积'].sum())*30\n",
    "unit_price\n",
    "bar = (\n",
    "    Bar()\n",
    "    .add_xaxis(list(unit_price.keys()))\n",
    "    .add_yaxis(\"\", [unit_price[i] for i in list(unit_price.keys())])\n",
    "    .set_global_opts(title_opts=opts.TitleOpts(title=\"北京各区租房均价（每平米单价*30平米为例）\"))\n",
    "    .set_series_opts(\n",
    "        label_opts=opts.LabelOpts(is_show=True),\n",
    "        markline_opts=opts.MarkLineOpts(\n",
    "            data=[\n",
    "                opts.MarkLineItem(type_=\"min\", name=\"最小值\"),\n",
    "                opts.MarkLineItem(type_=\"max\", name=\"最大值\"),\n",
    "                opts.MarkLineItem(type_=\"average\", name=\"平均值\"),\n",
    "            ]\n",
    "        ),\n",
    "    )\n",
    ")\n",
    "bar.render_notebook()"
   ]
  },
  {
   "cell_type": "markdown",
   "metadata": {},
   "source": [
    "以30平米为例：  \n",
    "西城区的住房价格最高，为4350元  \n",
    "通州区的租房价格最低，为1620元  \n",
    "价格差距还是很大的。"
   ]
  },
  {
   "cell_type": "markdown",
   "metadata": {},
   "source": [
    "### 2.分析分析各户型占比及价格分布"
   ]
  },
  {
   "cell_type": "code",
   "execution_count": null,
   "metadata": {},
   "outputs": [],
   "source": [
    "layouts=list(set(data['户型']))\n",
    "layout=data.loc[:,'户型'].value_counts()\n",
    "from pyecharts import options as opts\n",
    "from pyecharts.charts import Pie\n",
    "print(list(layout.index)[:10])\n",
    "values=[int(i) for i in list(layout.values)[:10]]\n",
    "pie = (\n",
    "    Pie()\n",
    "   .add(\n",
    "        \"\",\n",
    "        [(i,j)for i,j in zip(list(layout.index)[:10],values)],\n",
    "        radius=[\"30%\", \"75%\"],\n",
    "        center=[\"40%\", \"50%\"],\n",
    "        rosetype=\"radius\",\n",
    "        label_opts=opts.LabelOpts(is_show=False),\n",
    "    )\n",
    "    .set_global_opts(\n",
    "        title_opts=opts.TitleOpts(title=\"北京市各区出租房户型占比\"),\n",
    "        legend_opts=opts.LegendOpts(type_=\"scroll\", pos_left=\"85%\", orient=\"vertical\"),)\n",
    "    .set_series_opts(label_opts=opts.LabelOpts(formatter=\"{b}: {c},{d}%\"))\n",
    ")\n",
    "pie.render_notebook()"
   ]
  },
  {
   "cell_type": "markdown",
   "metadata": {},
   "source": [
    "由于户型种类比较多，所以我只选了前10种，从图中可以看出，房源主流是1室1厅1卫，占比41.86%,其次分别是是2室1厅1卫、1室0厅1卫，各占比30.58%和11.02%"
   ]
  },
  {
   "cell_type": "code",
   "execution_count": null,
   "metadata": {},
   "outputs": [],
   "source": [
    "cut_n=list(range(0,12000,1000))\n",
    "income=pd.cut(data[\"价格\"],cut_n)\n",
    "price_cut=data['价格'].groupby(income).count()\n",
    "index=list(price_cut.index)\n",
    "index=[str(i) for i in list(price_cut.index)]\n",
    "values=[int(i) for i in list(price_cut.values)]\n",
    "pie = (\n",
    "    Pie()\n",
    "   .add(\n",
    "        \"\",\n",
    "        [(i,j)for i,j in zip(index,values)],\n",
    "        radius=[\"30%\", \"75%\"],\n",
    "        center=[\"40%\", \"50%\"],\n",
    "        rosetype=\"radius\",\n",
    "        label_opts=opts.LabelOpts(is_show=False),\n",
    "    )\n",
    "    .set_global_opts(\n",
    "        title_opts=opts.TitleOpts(title=\"北京市各区出租房户型占比\"),\n",
    "        legend_opts=opts.LegendOpts(type_=\"scroll\", pos_left=\"85%\", orient=\"vertical\"),)\n",
    "    .set_series_opts(label_opts=opts.LabelOpts(formatter=\"{b}:  {c}, {d}%\"))\n",
    ")\n",
    "pie.render_notebook()"
   ]
  },
  {
   "cell_type": "markdown",
   "metadata": {},
   "source": [
    "目前，主流的租房价格在3000至6000元，占比50%左右，最便宜有1000元以下的,位置相对较偏，且面积在20平以内；贵的有1万多的,这种一般面积在100平以上，位置在主城区"
   ]
  },
  {
   "cell_type": "markdown",
   "metadata": {},
   "source": [
    "### 3.房子位置分布"
   ]
  },
  {
   "cell_type": "markdown",
   "metadata": {},
   "source": [
    "根据上述分析情况和我的预算，我决定在朝阳区找一套合适的房子，取出价格在4000至6000元的数据，另存表格，并将表格导入水经注地图下载器中"
   ]
  },
  {
   "cell_type": "code",
   "execution_count": null,
   "metadata": {},
   "outputs": [],
   "source": [
    "com_data=data[data['价格'].le(6000)]\n",
    "com_data=com_data[com_data['价格'].ge(3000)]\n",
    "com_data=com_data[com_data['行政区']=='朝阳区']\n",
    "com_data.to_csv('心仪房子.csv',encoding='gbk')"
   ]
  },
  {
   "cell_type": "markdown",
   "metadata": {},
   "source": [
    "结果展示如下:"
   ]
  },
  {
   "cell_type": "markdown",
   "metadata": {},
   "source": [
    "下面红色数字为租房价格，这样找起来就更方便了"
   ]
  }
 ],
 "metadata": {
  "hide_input": false,
  "kernelspec": {
   "display_name": "Python 3",
   "language": "python",
   "name": "python3"
  },
  "language_info": {
   "codemirror_mode": {
    "name": "ipython",
    "version": 3
   },
   "file_extension": ".py",
   "mimetype": "text/x-python",
   "name": "python",
   "nbconvert_exporter": "python",
   "pygments_lexer": "ipython3",
   "version": "3.7.6"
  },
  "latex_envs": {
   "LaTeX_envs_menu_present": true,
   "autoclose": false,
   "autocomplete": true,
   "bibliofile": "biblio.bib",
   "cite_by": "apalike",
   "current_citInitial": 1,
   "eqLabelWithNumbers": true,
   "eqNumInitial": 1,
   "hotkeys": {
    "equation": "Ctrl-E",
    "itemize": "Ctrl-I"
   },
   "labels_anchors": false,
   "latex_user_defs": false,
   "report_style_numbering": false,
   "user_envs_cfg": false
  },
  "nbTranslate": {
   "displayLangs": [
    "*"
   ],
   "hotkey": "alt-t",
   "langInMainMenu": true,
   "sourceLang": "en",
   "targetLang": "fr",
   "useGoogleTranslate": true
  },
  "toc": {
   "base_numbering": 1,
   "nav_menu": {},
   "number_sections": true,
   "sideBar": true,
   "skip_h1_title": false,
   "title_cell": "Table of Contents",
   "title_sidebar": "Contents",
   "toc_cell": false,
   "toc_position": {},
   "toc_section_display": true,
   "toc_window_display": false
  },
  "varInspector": {
   "cols": {
    "lenName": 16,
    "lenType": 16,
    "lenVar": 40
   },
   "kernels_config": {
    "python": {
     "delete_cmd_postfix": "",
     "delete_cmd_prefix": "del ",
     "library": "var_list.py",
     "varRefreshCmd": "print(var_dic_list())"
    },
    "r": {
     "delete_cmd_postfix": ") ",
     "delete_cmd_prefix": "rm(",
     "library": "var_list.r",
     "varRefreshCmd": "cat(var_dic_list()) "
    }
   },
   "types_to_exclude": [
    "module",
    "function",
    "builtin_function_or_method",
    "instance",
    "_Feature"
   ],
   "window_display": false
  }
 },
 "nbformat": 4,
 "nbformat_minor": 4
}
