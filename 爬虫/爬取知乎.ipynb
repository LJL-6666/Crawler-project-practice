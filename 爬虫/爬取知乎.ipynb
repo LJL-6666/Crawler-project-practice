{
 "cells": [
  {
   "cell_type": "code",
   "execution_count": 3,
   "metadata": {
    "collapsed": true
   },
   "outputs": [],
   "source": [
    "from bs4 import BeautifulSoup\n",
    "import requests\n",
    "import time"
   ]
  },
  {
   "cell_type": "code",
   "execution_count": null,
   "metadata": {
    "collapsed": true
   },
   "outputs": [],
   "source": [
    "def captcha(captcha_data):\n",
    "    with open(\"captcha.jpg\", \"wb\") as f:\n",
    "        f.write(captcha_data)\n",
    "    text = raw_input(\"请输入验证码：\")\n",
    "    return text\n",
    "def zhihuLogin():\n",
    "    sess = requests.Session()\n",
    "    headers = {\"User-Agent\" : \"Mozilla/5.0 (Windows NT 10.0; Win64; x64) AppleWebKit/537.36 (KHTML, like Gecko) Chrome/54.0.2840.99 Safari/537.36\"}\n",
    "    html = sess.get(\"https://www.zhihu.com/#signin\", headers = headers).text\n",
    "    bs = BeautifulSoup(html, \"lxml\")\n",
    "    _xsrf = bs.find(\"input\", attrs={\"name\":\"_xsrf\"}).get(\"value\")\n",
    "    captcha_url = \"https://www.zhihu.com/captcha.gif?r=%d&type=login\" % (time.time() * 1000)\n",
    "    # 发送图片的请求，获取图片数据流，\n",
    "    captcha_data = sess.get(captcha_url, headers = headers).content\n",
    "    # 获取验证码里的文字，需要手动输入\n",
    "    text = captcha(captcha_data)\n",
    "\n",
    "    data = {\n",
    "        \"_xsrf\" : _xsrf,\n",
    "        \"email\" : \"3141798386@qq.com\",\n",
    "        \"password\" : \"ljlljwlx258\",\n",
    "        \"captcha\" : text\n",
    "    }\n",
    "    response = sess.post(\"https://www.zhihu.com/login/email\", data = data, headers = headers)\n",
    "    print response.text\n",
    "    response = sess.get(\"https://www.zhihu.com/people/maozhaojun/activities\", headers = headers)\n",
    "    with open(\"my.html\", \"w\") as f:\n",
    "        f.write(response.text.encode(\"utf-8\"))\n",
    "\n",
    "if __name__ == \"__main__\":\n",
    "    zhihuLogin()"
   ]
  }
 ],
 "metadata": {
  "kernelspec": {
   "display_name": "Python 3",
   "language": "python",
   "name": "python3"
  },
  "language_info": {
   "codemirror_mode": {
    "name": "ipython",
    "version": 3
   },
   "file_extension": ".py",
   "mimetype": "text/x-python",
   "name": "python",
   "nbconvert_exporter": "python",
   "pygments_lexer": "ipython3",
   "version": "3.6.3"
  }
 },
 "nbformat": 4,
 "nbformat_minor": 2
}
