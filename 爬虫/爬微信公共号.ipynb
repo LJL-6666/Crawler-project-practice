{
 "cells": [
  {
   "cell_type": "code",
   "execution_count": 1,
   "metadata": {
    "collapsed": true
   },
   "outputs": [],
   "source": [
    "import requests\n",
    "import time\n",
    "import json\n",
    "import csv\n",
    "import random"
   ]
  },
  {
   "cell_type": "code",
   "execution_count": 6,
   "metadata": {},
   "outputs": [
    {
     "name": "stdout",
     "output_type": "stream",
     "text": [
      "http://mp.weixin.qq.com/mp/profile_ext?action=getmsg&__biz=MzA3Nzc4MzY2NA==&f=json&offset={}&count=10\n",
      "抓取数据完毕！\n"
     ]
    }
   ],
   "source": [
    "class mp_spider(object):\n",
    "    def __init__(self):\n",
    "        self.offset = {}\n",
    "        # 记得把offset后面的值改成{}\n",
    "        self.base_url = 'http://mp.weixin.qq.com/mp/profile_ext?action=getmsg&__biz=MzA3Nzc4MzY2NA==&f=json&offset={}&count=10'\n",
    "        # 下面的值以自己的为准，部分省略了\n",
    "        self.headers = {'User-Agent': 'Mozilla/5.0 (Macintosh; Intel Mac OS X 10_14_3) Appl'\n",
    "                                     'eWebKit/605.1.15 (KHTML, like Gecko) MicroMessenger/2.'\n",
    "                                     '3.24(0x12031811) MacWechat Chrome/39.0.2171.95 Safari/'\n",
    "                                     '537.36 NetType/WIFI WindowsWechat MicroMessenger/2.3.2'\n",
    "                                     '4(0x12031811) MacWechat Chrome/39.0.2171.95 Safari/537'\n",
    "                                     '.36 NetType/WIFI WindowsWechat',\n",
    "                        'Cookie': 'devicetype=iPhoneiOS13.3; lang=zh_CN; pass_ticket=xxxx; version=17000a2c; wap_sid2=xxx++f3xBTgNQJVO; wxuin=1310962901',\n",
    "                        'Referer':'https://mp.weixin.qq.com/mp/profile_ext?action=home&__biz=MzA3Nzc4MzY2NA==&scene=124&uin=xxx'}\n",
    "        self.proxy = {'https': '124.152.32.140:53281'}  # 124.152.32.140:53281  183.129.207.91:11056\n",
    "\n",
    "    def request_data(self):\n",
    "        try:\n",
    "            response = requests.get(self.base_url.format(self.offset), headers=self.headers, proxies=self.proxy)\n",
    "            print(self.base_url.format(self.offset))\n",
    "            if 200 == response.status_code:\n",
    "               self.parse_data(response.text)\n",
    "        except Exception as e:\n",
    "            print(e)\n",
    "            time.sleep(2)\n",
    "            pass\n",
    "\n",
    "    def parse_data(self, responseData):\n",
    "            all_datas = json.loads(responseData)\n",
    "\n",
    "            if 0 == all_datas['ret'] and all_datas['msg_count']>0:\n",
    "                summy_datas = all_datas['general_msg_list']\n",
    "                datas = json.loads(summy_datas)['list']\n",
    "                a = []\n",
    "                for data in datas:\n",
    "                    try:\n",
    "                        title = data['app_msg_ext_info']['title']\n",
    "                        title_child = data['app_msg_ext_info']['digest']\n",
    "                        article_url = data['app_msg_ext_info']['content_url']\n",
    "                        md_url = '[{}]'.format(title) + '({})'.format(article_url)\n",
    "                        info = {}\n",
    "                        info['标题'] = title\n",
    "                        info['小标题'] = title_child\n",
    "                        info['文章链接'] = article_url\n",
    "                        info['md链接'] = md_url\n",
    "                        a.append(info)\n",
    "                    except Exception as e:\n",
    "                        print(e)\n",
    "                        continue\n",
    "\n",
    "                print('正在写入文件')\n",
    "                with open('G:\\CDO\\杂玩\\Python公众号文章合集2.csv', 'a', newline='', encoding='utf-8') as f:\n",
    "                    fieldnames = ['标题', '小标题', '文章链接', 'md链接']  # 控制列的顺序\n",
    "                    writer = csv.DictWriter(f, fieldnames=fieldnames)\n",
    "                    writer.writeheader()\n",
    "                    writer.writerows(a)\n",
    "                    print(\"写入成功\")\n",
    "\n",
    "                print('----------------------------------------')\n",
    "                time.sleep(int(format(random.randint(2, 5))))\n",
    "                self.offset = self.offset+10\n",
    "                self.request_data()\n",
    "            else:\n",
    "                print('抓取数据完毕！')\n",
    "\n",
    "\n",
    "if __name__ == '__main__':\n",
    "    d = mp_spider()\n",
    "    d.request_data()"
   ]
  },
  {
   "cell_type": "code",
   "execution_count": null,
   "metadata": {
    "collapsed": true
   },
   "outputs": [],
   "source": []
  }
 ],
 "metadata": {
  "kernelspec": {
   "display_name": "Python 3",
   "language": "python",
   "name": "python3"
  },
  "language_info": {
   "codemirror_mode": {
    "name": "ipython",
    "version": 3
   },
   "file_extension": ".py",
   "mimetype": "text/x-python",
   "name": "python",
   "nbconvert_exporter": "python",
   "pygments_lexer": "ipython3",
   "version": "3.7.6"
  },
  "latex_envs": {
   "LaTeX_envs_menu_present": true,
   "autoclose": false,
   "autocomplete": true,
   "bibliofile": "biblio.bib",
   "cite_by": "apalike",
   "current_citInitial": 1,
   "eqLabelWithNumbers": true,
   "eqNumInitial": 1,
   "hotkeys": {
    "equation": "Ctrl-E",
    "itemize": "Ctrl-I"
   },
   "labels_anchors": false,
   "latex_user_defs": false,
   "report_style_numbering": false,
   "user_envs_cfg": false
  }
 },
 "nbformat": 4,
 "nbformat_minor": 2
}
