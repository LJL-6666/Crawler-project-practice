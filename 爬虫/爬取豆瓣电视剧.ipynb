{
 "cells": [
  {
   "cell_type": "code",
   "execution_count": 1,
   "metadata": {},
   "outputs": [],
   "source": [
    "#爬取网址：https://movie.douban.com/tv"
   ]
  },
  {
   "cell_type": "code",
   "execution_count": 1,
   "metadata": {},
   "outputs": [],
   "source": [
    "import requests\n",
    "import pandas as pd\n",
    "from lxml import etree\n",
    "import json"
   ]
  },
  {
   "cell_type": "code",
   "execution_count": 2,
   "metadata": {},
   "outputs": [],
   "source": [
    "proxies = {\n",
    "        'http': '218.14.115.211:3128',\n",
    "       # 'https': '218.14.115.211:3128'\n",
    "    }"
   ]
  },
  {
   "cell_type": "code",
   "execution_count": 4,
   "metadata": {},
   "outputs": [],
   "source": [
    "#热门url='https://movie.douban.com/tv/#!type=tv&tag=%E7%83%AD%E9%97%A8&sort=recommend&page_limit=20&page_start=0'\n",
    "#美剧url='https://movie.douban.com/tv/#!type=tv&tag=%E7%BE%8E%E5%89%A7&sort=recommend&page_limit=20&page_start=0'\n",
    "#英剧url='https://movie.douban.com/tv/#!type=tv&tag=%E8%8B%B1%E5%89%A7&sort=recommend&page_limit=20&page_start=0'\n",
    "#韩剧url='https://movie.douban.com/tv/#!type=tv&tag=%E9%9F%A9%E5%89%A7&sort=recommend&page_limit=20&page_start=0'\n",
    "#日剧url='https://movie.douban.com/tv/#!type=tv&tag=%E6%97%A5%E5%89%A7&sort=recommend&page_limit=20&page_start=0'\n",
    "#国产剧url='https://movie.douban.com/tv/#!type=tv&tag=%E5%9B%BD%E4%BA%A7%E5%89%A7&sort=recommend&page_limit=20&page_start=0'\n",
    "#港剧url='https://movie.douban.com/tv/#!type=tv&tag=%E6%B8%AF%E5%89%A7&sort=recommend&page_limit=20&page_start=0'\n",
    "#日本动画url='https://movie.douban.com/tv/#!type=tv&tag=%E6%97%A5%E6%9C%AC%E5%8A%A8%E7%94%BB&sort=recommend&page_limit=20&page_start=0'\n",
    "#综艺url='https://movie.douban.com/tv/#!type=tv&tag=%E7%BB%BC%E8%89%BA&sort=recommend&page_limit=20&page_start=0'\n",
    "#纪录片url='https://movie.douban.com/tv/#!type=tv&tag=%E7%BA%AA%E5%BD%95%E7%89%87&sort=recommend&page_limit=20&page_start=0'"
   ]
  },
  {
   "cell_type": "markdown",
   "metadata": {},
   "source": [
    "从网址分析，tag表示电视剧类型['热门','美剧','英剧','韩剧','日剧','国产剧','港剧','日本动画','综艺','纪录片']\n",
    "\n",
    "由此分析可以构造url='https://movie.douban.com/tv/#!type=tv&tag='+''"
   ]
  },
  {
   "cell_type": "markdown",
   "metadata": {},
   "source": [
    "# 一、从爬一个标签开始（热门）"
   ]
  },
  {
   "cell_type": "code",
   "execution_count": 2,
   "metadata": {},
   "outputs": [],
   "source": [
    "url='https://movie.douban.com/j/search_subjects?type=tv&tag=%E7%83%AD%E9%97%A8&sort=recommend&page_limit=20&page_start=0'\n",
    "headers={'User-Agent':'Mozilla/5.0 (Linux; Android 6.0; Nexus 5 Build/MRA58N) AppleWebKit/537.36 (KHTML, like Gecko) Chrome/80.0.3987.132 Mobile Safari/537.36'}\n",
    "b='bid=VrI5dHbKp38; ll=\"118371\"; _pk_ref.100001.4cf6=%5B%22%22%2C%22%22%2C1588852453%2C%22https%3A%2F%2Fwww.baidu.com%2Flink%3Furl%3Dv7O7Lwa4weVH-oX_cDZJXveRz9ZRnNO8Pq2sTaW5NoYlQkfT2fJVU2mWySm1yMSK%26wd%3D%26eqid%3Dbd3df8ee0011778d000000065eb3f6df%22%5D; _pk_ses.100001.4cf6=*; ap_v=0,6.0; __utma=30149280.1791132916.1588852454.1588852454.1588852454.1; __utmb=30149280.0.10.1588852454; __utmc=30149280; __utmz=30149280.1588852454.1.1.utmcsr=baidu|utmccn=(organic)|utmcmd=organic; __utma=223695111.309733471.1588852454.1588852454.1588852454.1; __utmb=223695111.0.10.1588852454; __utmc=223695111; __utmz=223695111.1588852454.1.1.utmcsr=baidu|utmccn=(organic)|utmcmd=organic; __yadk_uid=0xAdnlOIp2514fY76HiBNOcBVRTwNicT; _vwo_uuid_v2=D30351479FEA5D4D7B202B2904B842D1A|3965c4303ef845890acaf7da75adae73; _pk_id.100001.4cf6=add6bfe17922d345.1588852453.1.1588852476.1588852453.'\n",
    "line=b.split(';')\n",
    "cookie={}\n",
    "for i in line:\n",
    "    key,value = i.split('=',1)\n",
    "    cookie[key] = value"
   ]
  },
  {
   "cell_type": "code",
   "execution_count": 3,
   "metadata": {},
   "outputs": [],
   "source": [
    "response=requests.get(url,headers=headers,cookies=cookie)"
   ]
  },
  {
   "cell_type": "code",
   "execution_count": 4,
   "metadata": {},
   "outputs": [
    {
     "name": "stdout",
     "output_type": "stream",
     "text": [
      "200\n"
     ]
    }
   ],
   "source": [
    "print(response.status_code)"
   ]
  },
  {
   "cell_type": "code",
   "execution_count": 5,
   "metadata": {},
   "outputs": [
    {
     "data": {
      "text/plain": [
       "{'subjects': [{'rate': '8.9',\n",
       "   'cover_x': 2000,\n",
       "   'title': '隐秘的角落',\n",
       "   'url': 'https://movie.douban.com/subject/33404425/',\n",
       "   'playable': True,\n",
       "   'cover': 'https://img9.doubanio.com/view/photo/s_ratio_poster/public/p2609064048.jpg',\n",
       "   'id': '33404425',\n",
       "   'cover_y': 2998,\n",
       "   'is_new': False},\n",
       "  {'rate': '8.7',\n",
       "   'cover_x': 2500,\n",
       "   'title': '虽然是精神病但没关系',\n",
       "   'url': 'https://movie.douban.com/subject/34861170/',\n",
       "   'playable': False,\n",
       "   'cover': 'https://img9.doubanio.com/view/photo/s_ratio_poster/public/p2607088315.jpg',\n",
       "   'id': '34861170',\n",
       "   'cover_y': 3542,\n",
       "   'is_new': False},\n",
       "  {'rate': '6.0',\n",
       "   'cover_x': 1500,\n",
       "   'title': '修女战士',\n",
       "   'url': 'https://movie.douban.com/subject/34788127/',\n",
       "   'playable': False,\n",
       "   'cover': 'https://img9.doubanio.com/view/photo/s_ratio_poster/public/p2609365782.jpg',\n",
       "   'id': '34788127',\n",
       "   'cover_y': 2222,\n",
       "   'is_new': True},\n",
       "  {'rate': '8.0',\n",
       "   'cover_x': 634,\n",
       "   'title': '未解之谜',\n",
       "   'url': 'https://movie.douban.com/subject/35116463/',\n",
       "   'playable': False,\n",
       "   'cover': 'https://img9.doubanio.com/view/photo/s_ratio_poster/public/p2610558638.jpg',\n",
       "   'id': '35116463',\n",
       "   'cover_y': 939,\n",
       "   'is_new': True},\n",
       "  {'rate': '6.8',\n",
       "   'cover_x': 1080,\n",
       "   'title': '咒怨：诅咒之家',\n",
       "   'url': 'https://movie.douban.com/subject/34443566/',\n",
       "   'playable': False,\n",
       "   'cover': 'https://img9.doubanio.com/view/photo/s_ratio_poster/public/p2610382497.jpg',\n",
       "   'id': '34443566',\n",
       "   'cover_y': 1563,\n",
       "   'is_new': True},\n",
       "  {'rate': '8.3',\n",
       "   'cover_x': 1080,\n",
       "   'title': '乘风破浪的姐姐',\n",
       "   'url': 'https://movie.douban.com/subject/34894589/',\n",
       "   'playable': False,\n",
       "   'cover': 'https://img9.doubanio.com/view/photo/s_ratio_poster/public/p2608297477.jpg',\n",
       "   'id': '34894589',\n",
       "   'cover_y': 1556,\n",
       "   'is_new': False},\n",
       "  {'rate': '8.3',\n",
       "   'cover_x': 1080,\n",
       "   'title': '少年游之一寸相思',\n",
       "   'url': 'https://movie.douban.com/subject/30426829/',\n",
       "   'playable': True,\n",
       "   'cover': 'https://img9.doubanio.com/view/photo/s_ratio_poster/public/p2606589900.jpg',\n",
       "   'id': '30426829',\n",
       "   'cover_y': 1533,\n",
       "   'is_new': False},\n",
       "  {'rate': '8.0',\n",
       "   'cover_x': 1080,\n",
       "   'title': '怪你过分美丽',\n",
       "   'url': 'https://movie.douban.com/subject/30486573/',\n",
       "   'playable': True,\n",
       "   'cover': 'https://img9.doubanio.com/view/photo/s_ratio_poster/public/p2607365765.jpg',\n",
       "   'id': '30486573',\n",
       "   'cover_y': 1520,\n",
       "   'is_new': False},\n",
       "  {'rate': '8.2',\n",
       "   'cover_x': 877,\n",
       "   'title': '无证之罪',\n",
       "   'url': 'https://movie.douban.com/subject/26930540/',\n",
       "   'playable': True,\n",
       "   'cover': 'https://img9.doubanio.com/view/photo/s_ratio_poster/public/p2497732763.jpg',\n",
       "   'id': '26930540',\n",
       "   'cover_y': 1279,\n",
       "   'is_new': False},\n",
       "  {'rate': '5.4',\n",
       "   'cover_x': 752,\n",
       "   'title': '局中人',\n",
       "   'url': 'https://movie.douban.com/subject/30329909/',\n",
       "   'playable': True,\n",
       "   'cover': 'https://img9.doubanio.com/view/photo/s_ratio_poster/public/p2555427086.jpg',\n",
       "   'id': '30329909',\n",
       "   'cover_y': 1274,\n",
       "   'is_new': True},\n",
       "  {'rate': '7.0',\n",
       "   'cover_x': 3543,\n",
       "   'title': '暮白首',\n",
       "   'url': 'https://movie.douban.com/subject/30446742/',\n",
       "   'playable': True,\n",
       "   'cover': 'https://img9.doubanio.com/view/photo/s_ratio_poster/public/p2608228601.jpg',\n",
       "   'id': '30446742',\n",
       "   'cover_y': 5475,\n",
       "   'is_new': False},\n",
       "  {'rate': '3.6',\n",
       "   'cover_x': 1080,\n",
       "   'title': '爱我就别想太多',\n",
       "   'url': 'https://movie.douban.com/subject/27012998/',\n",
       "   'playable': True,\n",
       "   'cover': 'https://img9.doubanio.com/view/photo/s_ratio_poster/public/p2500704842.jpg',\n",
       "   'id': '27012998',\n",
       "   'cover_y': 1440,\n",
       "   'is_new': True},\n",
       "  {'rate': '7.5',\n",
       "   'cover_x': 4429,\n",
       "   'title': '传闻中的陈芊芊',\n",
       "   'url': 'https://movie.douban.com/subject/34463197/',\n",
       "   'playable': True,\n",
       "   'cover': 'https://img9.doubanio.com/view/photo/s_ratio_poster/public/p2602398693.jpg',\n",
       "   'id': '34463197',\n",
       "   'cover_y': 6791,\n",
       "   'is_new': False},\n",
       "  {'rate': '7.3',\n",
       "   'cover_x': 1500,\n",
       "   'title': '十日游戏',\n",
       "   'url': 'https://movie.douban.com/subject/26986843/',\n",
       "   'playable': True,\n",
       "   'cover': 'https://img9.doubanio.com/view/photo/s_ratio_poster/public/p2606307565.jpg',\n",
       "   'id': '26986843',\n",
       "   'cover_y': 2667,\n",
       "   'is_new': False},\n",
       "  {'rate': '7.7',\n",
       "   'cover_x': 2953,\n",
       "   'title': '三叉戟',\n",
       "   'url': 'https://movie.douban.com/subject/34845712/',\n",
       "   'playable': True,\n",
       "   'cover': 'https://img9.doubanio.com/view/photo/s_ratio_poster/public/p2607650553.jpg',\n",
       "   'id': '34845712',\n",
       "   'cover_y': 4528,\n",
       "   'is_new': False},\n",
       "  {'rate': '9.5',\n",
       "   'cover_x': 3000,\n",
       "   'title': '暗黑 第三季',\n",
       "   'url': 'https://movie.douban.com/subject/34442364/',\n",
       "   'playable': False,\n",
       "   'cover': 'https://img9.doubanio.com/view/photo/s_ratio_poster/public/p2609692563.jpg',\n",
       "   'id': '34442364',\n",
       "   'cover_y': 4444,\n",
       "   'is_new': True},\n",
       "  {'rate': '8.2',\n",
       "   'cover_x': 2000,\n",
       "   'title': '我才不要和你做朋友呢',\n",
       "   'url': 'https://movie.douban.com/subject/34863327/',\n",
       "   'playable': True,\n",
       "   'cover': 'https://img9.doubanio.com/view/photo/s_ratio_poster/public/p2603121645.jpg',\n",
       "   'id': '34863327',\n",
       "   'cover_y': 3201,\n",
       "   'is_new': False},\n",
       "  {'rate': '9.0',\n",
       "   'cover_x': 1200,\n",
       "   'title': '白夜追凶',\n",
       "   'url': 'https://movie.douban.com/subject/26883064/',\n",
       "   'playable': True,\n",
       "   'cover': 'https://img9.doubanio.com/view/photo/s_ratio_poster/public/p2483150767.jpg',\n",
       "   'id': '26883064',\n",
       "   'cover_y': 2134,\n",
       "   'is_new': False},\n",
       "  {'rate': '9.4',\n",
       "   'cover_x': 1200,\n",
       "   'title': '机智医生生活',\n",
       "   'url': 'https://movie.douban.com/subject/33464863/',\n",
       "   'playable': False,\n",
       "   'cover': 'https://img9.doubanio.com/view/photo/s_ratio_poster/public/p2586800409.jpg',\n",
       "   'id': '33464863',\n",
       "   'cover_y': 1700,\n",
       "   'is_new': False},\n",
       "  {'rate': '8.8',\n",
       "   'cover_x': 1458,\n",
       "   'title': '普通人',\n",
       "   'url': 'https://movie.douban.com/subject/33477335/',\n",
       "   'playable': False,\n",
       "   'cover': 'https://img9.doubanio.com/view/photo/s_ratio_poster/public/p2595064425.jpg',\n",
       "   'id': '33477335',\n",
       "   'cover_y': 2048,\n",
       "   'is_new': False}]}"
      ]
     },
     "execution_count": 5,
     "metadata": {},
     "output_type": "execute_result"
    }
   ],
   "source": [
    "response.encoding = 'utf-8'\n",
    "html = response.json()  # 将json格式的字符串转为python数据类型\n",
    "html"
   ]
  },
  {
   "cell_type": "code",
   "execution_count": 6,
   "metadata": {},
   "outputs": [
    {
     "name": "stdout",
     "output_type": "stream",
     "text": [
      "[{'rate': '8.9', 'cover_x': 2000, 'title': '隐秘的角落', 'url': 'https://movie.douban.com/subject/33404425/', 'playable': True, 'cover': 'https://img9.doubanio.com/view/photo/s_ratio_poster/public/p2609064048.jpg', 'id': '33404425', 'cover_y': 2998, 'is_new': False}, {'rate': '8.7', 'cover_x': 2500, 'title': '虽然是精神病但没关系', 'url': 'https://movie.douban.com/subject/34861170/', 'playable': False, 'cover': 'https://img9.doubanio.com/view/photo/s_ratio_poster/public/p2607088315.jpg', 'id': '34861170', 'cover_y': 3542, 'is_new': False}, {'rate': '6.0', 'cover_x': 1500, 'title': '修女战士', 'url': 'https://movie.douban.com/subject/34788127/', 'playable': False, 'cover': 'https://img9.doubanio.com/view/photo/s_ratio_poster/public/p2609365782.jpg', 'id': '34788127', 'cover_y': 2222, 'is_new': True}, {'rate': '8.0', 'cover_x': 634, 'title': '未解之谜', 'url': 'https://movie.douban.com/subject/35116463/', 'playable': False, 'cover': 'https://img9.doubanio.com/view/photo/s_ratio_poster/public/p2610558638.jpg', 'id': '35116463', 'cover_y': 939, 'is_new': True}, {'rate': '6.8', 'cover_x': 1080, 'title': '咒怨：诅咒之家', 'url': 'https://movie.douban.com/subject/34443566/', 'playable': False, 'cover': 'https://img9.doubanio.com/view/photo/s_ratio_poster/public/p2610382497.jpg', 'id': '34443566', 'cover_y': 1563, 'is_new': True}, {'rate': '8.3', 'cover_x': 1080, 'title': '乘风破浪的姐姐', 'url': 'https://movie.douban.com/subject/34894589/', 'playable': False, 'cover': 'https://img9.doubanio.com/view/photo/s_ratio_poster/public/p2608297477.jpg', 'id': '34894589', 'cover_y': 1556, 'is_new': False}, {'rate': '8.3', 'cover_x': 1080, 'title': '少年游之一寸相思', 'url': 'https://movie.douban.com/subject/30426829/', 'playable': True, 'cover': 'https://img9.doubanio.com/view/photo/s_ratio_poster/public/p2606589900.jpg', 'id': '30426829', 'cover_y': 1533, 'is_new': False}, {'rate': '8.0', 'cover_x': 1080, 'title': '怪你过分美丽', 'url': 'https://movie.douban.com/subject/30486573/', 'playable': True, 'cover': 'https://img9.doubanio.com/view/photo/s_ratio_poster/public/p2607365765.jpg', 'id': '30486573', 'cover_y': 1520, 'is_new': False}, {'rate': '8.2', 'cover_x': 877, 'title': '无证之罪', 'url': 'https://movie.douban.com/subject/26930540/', 'playable': True, 'cover': 'https://img9.doubanio.com/view/photo/s_ratio_poster/public/p2497732763.jpg', 'id': '26930540', 'cover_y': 1279, 'is_new': False}, {'rate': '5.4', 'cover_x': 752, 'title': '局中人', 'url': 'https://movie.douban.com/subject/30329909/', 'playable': True, 'cover': 'https://img9.doubanio.com/view/photo/s_ratio_poster/public/p2555427086.jpg', 'id': '30329909', 'cover_y': 1274, 'is_new': True}, {'rate': '7.0', 'cover_x': 3543, 'title': '暮白首', 'url': 'https://movie.douban.com/subject/30446742/', 'playable': True, 'cover': 'https://img9.doubanio.com/view/photo/s_ratio_poster/public/p2608228601.jpg', 'id': '30446742', 'cover_y': 5475, 'is_new': False}, {'rate': '3.6', 'cover_x': 1080, 'title': '爱我就别想太多', 'url': 'https://movie.douban.com/subject/27012998/', 'playable': True, 'cover': 'https://img9.doubanio.com/view/photo/s_ratio_poster/public/p2500704842.jpg', 'id': '27012998', 'cover_y': 1440, 'is_new': True}, {'rate': '7.5', 'cover_x': 4429, 'title': '传闻中的陈芊芊', 'url': 'https://movie.douban.com/subject/34463197/', 'playable': True, 'cover': 'https://img9.doubanio.com/view/photo/s_ratio_poster/public/p2602398693.jpg', 'id': '34463197', 'cover_y': 6791, 'is_new': False}, {'rate': '7.3', 'cover_x': 1500, 'title': '十日游戏', 'url': 'https://movie.douban.com/subject/26986843/', 'playable': True, 'cover': 'https://img9.doubanio.com/view/photo/s_ratio_poster/public/p2606307565.jpg', 'id': '26986843', 'cover_y': 2667, 'is_new': False}, {'rate': '7.7', 'cover_x': 2953, 'title': '三叉戟', 'url': 'https://movie.douban.com/subject/34845712/', 'playable': True, 'cover': 'https://img9.doubanio.com/view/photo/s_ratio_poster/public/p2607650553.jpg', 'id': '34845712', 'cover_y': 4528, 'is_new': False}, {'rate': '9.5', 'cover_x': 3000, 'title': '暗黑 第三季', 'url': 'https://movie.douban.com/subject/34442364/', 'playable': False, 'cover': 'https://img9.doubanio.com/view/photo/s_ratio_poster/public/p2609692563.jpg', 'id': '34442364', 'cover_y': 4444, 'is_new': True}, {'rate': '8.2', 'cover_x': 2000, 'title': '我才不要和你做朋友呢', 'url': 'https://movie.douban.com/subject/34863327/', 'playable': True, 'cover': 'https://img9.doubanio.com/view/photo/s_ratio_poster/public/p2603121645.jpg', 'id': '34863327', 'cover_y': 3201, 'is_new': False}, {'rate': '9.0', 'cover_x': 1200, 'title': '白夜追凶', 'url': 'https://movie.douban.com/subject/26883064/', 'playable': True, 'cover': 'https://img9.doubanio.com/view/photo/s_ratio_poster/public/p2483150767.jpg', 'id': '26883064', 'cover_y': 2134, 'is_new': False}, {'rate': '9.4', 'cover_x': 1200, 'title': '机智医生生活', 'url': 'https://movie.douban.com/subject/33464863/', 'playable': False, 'cover': 'https://img9.doubanio.com/view/photo/s_ratio_poster/public/p2586800409.jpg', 'id': '33464863', 'cover_y': 1700, 'is_new': False}, {'rate': '8.8', 'cover_x': 1458, 'title': '普通人', 'url': 'https://movie.douban.com/subject/33477335/', 'playable': False, 'cover': 'https://img9.doubanio.com/view/photo/s_ratio_poster/public/p2595064425.jpg', 'id': '33477335', 'cover_y': 2048, 'is_new': False}]\n"
     ]
    }
   ],
   "source": [
    "html1=html['subjects']\n",
    "print(html1)"
   ]
  },
  {
   "cell_type": "code",
   "execution_count": 7,
   "metadata": {},
   "outputs": [
    {
     "name": "stdout",
     "output_type": "stream",
     "text": [
      "['https://movie.douban.com/subject/33404425/', 'https://movie.douban.com/subject/34861170/', 'https://movie.douban.com/subject/34788127/', 'https://movie.douban.com/subject/35116463/', 'https://movie.douban.com/subject/34443566/', 'https://movie.douban.com/subject/34894589/', 'https://movie.douban.com/subject/30426829/', 'https://movie.douban.com/subject/30486573/', 'https://movie.douban.com/subject/26930540/', 'https://movie.douban.com/subject/30329909/', 'https://movie.douban.com/subject/30446742/', 'https://movie.douban.com/subject/27012998/', 'https://movie.douban.com/subject/34463197/', 'https://movie.douban.com/subject/26986843/', 'https://movie.douban.com/subject/34845712/', 'https://movie.douban.com/subject/34442364/', 'https://movie.douban.com/subject/34863327/', 'https://movie.douban.com/subject/26883064/', 'https://movie.douban.com/subject/33464863/', 'https://movie.douban.com/subject/33477335/']\n"
     ]
    }
   ],
   "source": [
    "name=[]\n",
    "score=[]\n",
    "pnumber=[]\n",
    "url=[]\n",
    "cover=[]\n",
    "id=[]\n",
    "for one in html1:\n",
    "    name.append(one['title'])\n",
    "    score.append(one['rate'])\n",
    "    pnumber.append(one['cover_y'])\n",
    "    url.append(one['url'])\n",
    "    cover.append(one['cover'])\n",
    "    id.append(one['id'])\n",
    "print(url)"
   ]
  },
  {
   "cell_type": "code",
   "execution_count": 8,
   "metadata": {},
   "outputs": [
    {
     "data": {
      "text/plain": [
       "20"
      ]
     },
     "execution_count": 8,
     "metadata": {},
     "output_type": "execute_result"
    }
   ],
   "source": [
    "len(url)"
   ]
  },
  {
   "cell_type": "code",
   "execution_count": 9,
   "metadata": {},
   "outputs": [],
   "source": [
    "columns={'剧名':name,'评分':score,'点评数':pnumber,'url':url,'图片':cover,'id':id}"
   ]
  },
  {
   "cell_type": "code",
   "execution_count": 10,
   "metadata": {},
   "outputs": [
    {
     "data": {
      "text/plain": [
       "(20, 6)"
      ]
     },
     "execution_count": 10,
     "metadata": {},
     "output_type": "execute_result"
    }
   ],
   "source": [
    "data=pd.DataFrame(columns)\n",
    "data.shape"
   ]
  },
  {
   "cell_type": "code",
   "execution_count": 11,
   "metadata": {},
   "outputs": [
    {
     "data": {
      "text/html": [
       "<div>\n",
       "<style scoped>\n",
       "    .dataframe tbody tr th:only-of-type {\n",
       "        vertical-align: middle;\n",
       "    }\n",
       "\n",
       "    .dataframe tbody tr th {\n",
       "        vertical-align: top;\n",
       "    }\n",
       "\n",
       "    .dataframe thead th {\n",
       "        text-align: right;\n",
       "    }\n",
       "</style>\n",
       "<table border=\"1\" class=\"dataframe\">\n",
       "  <thead>\n",
       "    <tr style=\"text-align: right;\">\n",
       "      <th></th>\n",
       "      <th>剧名</th>\n",
       "      <th>评分</th>\n",
       "      <th>点评数</th>\n",
       "      <th>url</th>\n",
       "      <th>图片</th>\n",
       "      <th>id</th>\n",
       "    </tr>\n",
       "  </thead>\n",
       "  <tbody>\n",
       "    <tr>\n",
       "      <th>0</th>\n",
       "      <td>隐秘的角落</td>\n",
       "      <td>8.9</td>\n",
       "      <td>2998</td>\n",
       "      <td>https://movie.douban.com/subject/33404425/</td>\n",
       "      <td>https://img9.doubanio.com/view/photo/s_ratio_p...</td>\n",
       "      <td>33404425</td>\n",
       "    </tr>\n",
       "    <tr>\n",
       "      <th>1</th>\n",
       "      <td>虽然是精神病但没关系</td>\n",
       "      <td>8.7</td>\n",
       "      <td>3542</td>\n",
       "      <td>https://movie.douban.com/subject/34861170/</td>\n",
       "      <td>https://img9.doubanio.com/view/photo/s_ratio_p...</td>\n",
       "      <td>34861170</td>\n",
       "    </tr>\n",
       "    <tr>\n",
       "      <th>2</th>\n",
       "      <td>修女战士</td>\n",
       "      <td>6.0</td>\n",
       "      <td>2222</td>\n",
       "      <td>https://movie.douban.com/subject/34788127/</td>\n",
       "      <td>https://img9.doubanio.com/view/photo/s_ratio_p...</td>\n",
       "      <td>34788127</td>\n",
       "    </tr>\n",
       "    <tr>\n",
       "      <th>3</th>\n",
       "      <td>未解之谜</td>\n",
       "      <td>8.0</td>\n",
       "      <td>939</td>\n",
       "      <td>https://movie.douban.com/subject/35116463/</td>\n",
       "      <td>https://img9.doubanio.com/view/photo/s_ratio_p...</td>\n",
       "      <td>35116463</td>\n",
       "    </tr>\n",
       "    <tr>\n",
       "      <th>4</th>\n",
       "      <td>咒怨：诅咒之家</td>\n",
       "      <td>6.8</td>\n",
       "      <td>1563</td>\n",
       "      <td>https://movie.douban.com/subject/34443566/</td>\n",
       "      <td>https://img9.doubanio.com/view/photo/s_ratio_p...</td>\n",
       "      <td>34443566</td>\n",
       "    </tr>\n",
       "    <tr>\n",
       "      <th>5</th>\n",
       "      <td>乘风破浪的姐姐</td>\n",
       "      <td>8.3</td>\n",
       "      <td>1556</td>\n",
       "      <td>https://movie.douban.com/subject/34894589/</td>\n",
       "      <td>https://img9.doubanio.com/view/photo/s_ratio_p...</td>\n",
       "      <td>34894589</td>\n",
       "    </tr>\n",
       "    <tr>\n",
       "      <th>6</th>\n",
       "      <td>少年游之一寸相思</td>\n",
       "      <td>8.3</td>\n",
       "      <td>1533</td>\n",
       "      <td>https://movie.douban.com/subject/30426829/</td>\n",
       "      <td>https://img9.doubanio.com/view/photo/s_ratio_p...</td>\n",
       "      <td>30426829</td>\n",
       "    </tr>\n",
       "    <tr>\n",
       "      <th>7</th>\n",
       "      <td>怪你过分美丽</td>\n",
       "      <td>8.0</td>\n",
       "      <td>1520</td>\n",
       "      <td>https://movie.douban.com/subject/30486573/</td>\n",
       "      <td>https://img9.doubanio.com/view/photo/s_ratio_p...</td>\n",
       "      <td>30486573</td>\n",
       "    </tr>\n",
       "    <tr>\n",
       "      <th>8</th>\n",
       "      <td>无证之罪</td>\n",
       "      <td>8.2</td>\n",
       "      <td>1279</td>\n",
       "      <td>https://movie.douban.com/subject/26930540/</td>\n",
       "      <td>https://img9.doubanio.com/view/photo/s_ratio_p...</td>\n",
       "      <td>26930540</td>\n",
       "    </tr>\n",
       "    <tr>\n",
       "      <th>9</th>\n",
       "      <td>局中人</td>\n",
       "      <td>5.4</td>\n",
       "      <td>1274</td>\n",
       "      <td>https://movie.douban.com/subject/30329909/</td>\n",
       "      <td>https://img9.doubanio.com/view/photo/s_ratio_p...</td>\n",
       "      <td>30329909</td>\n",
       "    </tr>\n",
       "    <tr>\n",
       "      <th>10</th>\n",
       "      <td>暮白首</td>\n",
       "      <td>7.0</td>\n",
       "      <td>5475</td>\n",
       "      <td>https://movie.douban.com/subject/30446742/</td>\n",
       "      <td>https://img9.doubanio.com/view/photo/s_ratio_p...</td>\n",
       "      <td>30446742</td>\n",
       "    </tr>\n",
       "    <tr>\n",
       "      <th>11</th>\n",
       "      <td>爱我就别想太多</td>\n",
       "      <td>3.6</td>\n",
       "      <td>1440</td>\n",
       "      <td>https://movie.douban.com/subject/27012998/</td>\n",
       "      <td>https://img9.doubanio.com/view/photo/s_ratio_p...</td>\n",
       "      <td>27012998</td>\n",
       "    </tr>\n",
       "    <tr>\n",
       "      <th>12</th>\n",
       "      <td>传闻中的陈芊芊</td>\n",
       "      <td>7.5</td>\n",
       "      <td>6791</td>\n",
       "      <td>https://movie.douban.com/subject/34463197/</td>\n",
       "      <td>https://img9.doubanio.com/view/photo/s_ratio_p...</td>\n",
       "      <td>34463197</td>\n",
       "    </tr>\n",
       "    <tr>\n",
       "      <th>13</th>\n",
       "      <td>十日游戏</td>\n",
       "      <td>7.3</td>\n",
       "      <td>2667</td>\n",
       "      <td>https://movie.douban.com/subject/26986843/</td>\n",
       "      <td>https://img9.doubanio.com/view/photo/s_ratio_p...</td>\n",
       "      <td>26986843</td>\n",
       "    </tr>\n",
       "    <tr>\n",
       "      <th>14</th>\n",
       "      <td>三叉戟</td>\n",
       "      <td>7.7</td>\n",
       "      <td>4528</td>\n",
       "      <td>https://movie.douban.com/subject/34845712/</td>\n",
       "      <td>https://img9.doubanio.com/view/photo/s_ratio_p...</td>\n",
       "      <td>34845712</td>\n",
       "    </tr>\n",
       "    <tr>\n",
       "      <th>15</th>\n",
       "      <td>暗黑 第三季</td>\n",
       "      <td>9.5</td>\n",
       "      <td>4444</td>\n",
       "      <td>https://movie.douban.com/subject/34442364/</td>\n",
       "      <td>https://img9.doubanio.com/view/photo/s_ratio_p...</td>\n",
       "      <td>34442364</td>\n",
       "    </tr>\n",
       "    <tr>\n",
       "      <th>16</th>\n",
       "      <td>我才不要和你做朋友呢</td>\n",
       "      <td>8.2</td>\n",
       "      <td>3201</td>\n",
       "      <td>https://movie.douban.com/subject/34863327/</td>\n",
       "      <td>https://img9.doubanio.com/view/photo/s_ratio_p...</td>\n",
       "      <td>34863327</td>\n",
       "    </tr>\n",
       "    <tr>\n",
       "      <th>17</th>\n",
       "      <td>白夜追凶</td>\n",
       "      <td>9.0</td>\n",
       "      <td>2134</td>\n",
       "      <td>https://movie.douban.com/subject/26883064/</td>\n",
       "      <td>https://img9.doubanio.com/view/photo/s_ratio_p...</td>\n",
       "      <td>26883064</td>\n",
       "    </tr>\n",
       "    <tr>\n",
       "      <th>18</th>\n",
       "      <td>机智医生生活</td>\n",
       "      <td>9.4</td>\n",
       "      <td>1700</td>\n",
       "      <td>https://movie.douban.com/subject/33464863/</td>\n",
       "      <td>https://img9.doubanio.com/view/photo/s_ratio_p...</td>\n",
       "      <td>33464863</td>\n",
       "    </tr>\n",
       "    <tr>\n",
       "      <th>19</th>\n",
       "      <td>普通人</td>\n",
       "      <td>8.8</td>\n",
       "      <td>2048</td>\n",
       "      <td>https://movie.douban.com/subject/33477335/</td>\n",
       "      <td>https://img9.doubanio.com/view/photo/s_ratio_p...</td>\n",
       "      <td>33477335</td>\n",
       "    </tr>\n",
       "  </tbody>\n",
       "</table>\n",
       "</div>"
      ],
      "text/plain": [
       "            剧名   评分   点评数                                         url  \\\n",
       "0        隐秘的角落  8.9  2998  https://movie.douban.com/subject/33404425/   \n",
       "1   虽然是精神病但没关系  8.7  3542  https://movie.douban.com/subject/34861170/   \n",
       "2         修女战士  6.0  2222  https://movie.douban.com/subject/34788127/   \n",
       "3         未解之谜  8.0   939  https://movie.douban.com/subject/35116463/   \n",
       "4      咒怨：诅咒之家  6.8  1563  https://movie.douban.com/subject/34443566/   \n",
       "5      乘风破浪的姐姐  8.3  1556  https://movie.douban.com/subject/34894589/   \n",
       "6     少年游之一寸相思  8.3  1533  https://movie.douban.com/subject/30426829/   \n",
       "7       怪你过分美丽  8.0  1520  https://movie.douban.com/subject/30486573/   \n",
       "8         无证之罪  8.2  1279  https://movie.douban.com/subject/26930540/   \n",
       "9          局中人  5.4  1274  https://movie.douban.com/subject/30329909/   \n",
       "10         暮白首  7.0  5475  https://movie.douban.com/subject/30446742/   \n",
       "11     爱我就别想太多  3.6  1440  https://movie.douban.com/subject/27012998/   \n",
       "12     传闻中的陈芊芊  7.5  6791  https://movie.douban.com/subject/34463197/   \n",
       "13        十日游戏  7.3  2667  https://movie.douban.com/subject/26986843/   \n",
       "14         三叉戟  7.7  4528  https://movie.douban.com/subject/34845712/   \n",
       "15      暗黑 第三季  9.5  4444  https://movie.douban.com/subject/34442364/   \n",
       "16  我才不要和你做朋友呢  8.2  3201  https://movie.douban.com/subject/34863327/   \n",
       "17        白夜追凶  9.0  2134  https://movie.douban.com/subject/26883064/   \n",
       "18      机智医生生活  9.4  1700  https://movie.douban.com/subject/33464863/   \n",
       "19         普通人  8.8  2048  https://movie.douban.com/subject/33477335/   \n",
       "\n",
       "                                                   图片        id  \n",
       "0   https://img9.doubanio.com/view/photo/s_ratio_p...  33404425  \n",
       "1   https://img9.doubanio.com/view/photo/s_ratio_p...  34861170  \n",
       "2   https://img9.doubanio.com/view/photo/s_ratio_p...  34788127  \n",
       "3   https://img9.doubanio.com/view/photo/s_ratio_p...  35116463  \n",
       "4   https://img9.doubanio.com/view/photo/s_ratio_p...  34443566  \n",
       "5   https://img9.doubanio.com/view/photo/s_ratio_p...  34894589  \n",
       "6   https://img9.doubanio.com/view/photo/s_ratio_p...  30426829  \n",
       "7   https://img9.doubanio.com/view/photo/s_ratio_p...  30486573  \n",
       "8   https://img9.doubanio.com/view/photo/s_ratio_p...  26930540  \n",
       "9   https://img9.doubanio.com/view/photo/s_ratio_p...  30329909  \n",
       "10  https://img9.doubanio.com/view/photo/s_ratio_p...  30446742  \n",
       "11  https://img9.doubanio.com/view/photo/s_ratio_p...  27012998  \n",
       "12  https://img9.doubanio.com/view/photo/s_ratio_p...  34463197  \n",
       "13  https://img9.doubanio.com/view/photo/s_ratio_p...  26986843  \n",
       "14  https://img9.doubanio.com/view/photo/s_ratio_p...  34845712  \n",
       "15  https://img9.doubanio.com/view/photo/s_ratio_p...  34442364  \n",
       "16  https://img9.doubanio.com/view/photo/s_ratio_p...  34863327  \n",
       "17  https://img9.doubanio.com/view/photo/s_ratio_p...  26883064  \n",
       "18  https://img9.doubanio.com/view/photo/s_ratio_p...  33464863  \n",
       "19  https://img9.doubanio.com/view/photo/s_ratio_p...  33477335  "
      ]
     },
     "execution_count": 11,
     "metadata": {},
     "output_type": "execute_result"
    }
   ],
   "source": [
    "data"
   ]
  },
  {
   "cell_type": "code",
   "execution_count": 33,
   "metadata": {},
   "outputs": [],
   "source": [
    "title=[]\n",
    "jianj=[]\n",
    "juqing=[]\n",
    "otherlike=[]\n",
    "biaoqian=[]\n",
    "watch=[]\n",
    "\n",
    "for i in range(len(data['url'])):\n",
    "    res=requests.get(data['url'][i],headers=headers,cookies=cookie)\n",
    "    html = etree.HTML(res.text)\n",
    "    title.append(''.join(html.xpath('//div[@class=\"sub-title\"]/text()')))\n",
    "    jianj.append(''.join(html.xpath('//div[@class=\"sub-meta\"]/text()')))\n",
    "    juqing.append(''.join(html.xpath('//div[@class=\"bd\"]/p/text()')))\n",
    "    otherlike.append(''.join(html.xpath('//div[@class=\"wp\"]/h3/text()')))\n",
    "    biaoqian.append(''.join(html.xpath('//div[@class=\"con remark\"]/a/text()')))\n",
    "    watch.append(''.join(html.xpath('//span[@class=\"vendor-text\"]/text()')))"
   ]
  },
  {
   "cell_type": "code",
   "execution_count": 13,
   "metadata": {},
   "outputs": [],
   "source": [
    "columns={'剧名':title,'简介':jianj,'剧情':juqing,'还喜欢':otherlike,'标签':biaoqian,'观看':watch}\n",
    "df=pd.DataFrame(columns)"
   ]
  },
  {
   "cell_type": "code",
   "execution_count": 14,
   "metadata": {},
   "outputs": [
    {
     "data": {
      "text/html": [
       "<div>\n",
       "<style scoped>\n",
       "    .dataframe tbody tr th:only-of-type {\n",
       "        vertical-align: middle;\n",
       "    }\n",
       "\n",
       "    .dataframe tbody tr th {\n",
       "        vertical-align: top;\n",
       "    }\n",
       "\n",
       "    .dataframe thead th {\n",
       "        text-align: right;\n",
       "    }\n",
       "</style>\n",
       "<table border=\"1\" class=\"dataframe\">\n",
       "  <thead>\n",
       "    <tr style=\"text-align: right;\">\n",
       "      <th></th>\n",
       "      <th>剧名</th>\n",
       "      <th>简介</th>\n",
       "      <th>剧情</th>\n",
       "      <th>还喜欢</th>\n",
       "      <th>标签</th>\n",
       "      <th>观看</th>\n",
       "    </tr>\n",
       "  </thead>\n",
       "  <tbody>\n",
       "    <tr>\n",
       "      <th>0</th>\n",
       "      <td></td>\n",
       "      <td></td>\n",
       "      <td></td>\n",
       "      <td></td>\n",
       "      <td></td>\n",
       "      <td></td>\n",
       "    </tr>\n",
       "    <tr>\n",
       "      <th>1</th>\n",
       "      <td></td>\n",
       "      <td></td>\n",
       "      <td></td>\n",
       "      <td></td>\n",
       "      <td></td>\n",
       "      <td></td>\n",
       "    </tr>\n",
       "    <tr>\n",
       "      <th>2</th>\n",
       "      <td></td>\n",
       "      <td></td>\n",
       "      <td></td>\n",
       "      <td></td>\n",
       "      <td></td>\n",
       "      <td></td>\n",
       "    </tr>\n",
       "    <tr>\n",
       "      <th>3</th>\n",
       "      <td></td>\n",
       "      <td></td>\n",
       "      <td></td>\n",
       "      <td></td>\n",
       "      <td></td>\n",
       "      <td></td>\n",
       "    </tr>\n",
       "    <tr>\n",
       "      <th>4</th>\n",
       "      <td></td>\n",
       "      <td></td>\n",
       "      <td></td>\n",
       "      <td></td>\n",
       "      <td></td>\n",
       "      <td></td>\n",
       "    </tr>\n",
       "  </tbody>\n",
       "</table>\n",
       "</div>"
      ],
      "text/plain": [
       "  剧名 简介 剧情 还喜欢 标签 观看\n",
       "0                   \n",
       "1                   \n",
       "2                   \n",
       "3                   \n",
       "4                   "
      ]
     },
     "execution_count": 14,
     "metadata": {},
     "output_type": "execute_result"
    }
   ],
   "source": [
    "df.head()"
   ]
  },
  {
   "cell_type": "markdown",
   "metadata": {},
   "source": [
    "## 二、爬取加载更多第一次那一页的数据"
   ]
  },
  {
   "cell_type": "code",
   "execution_count": 50,
   "metadata": {},
   "outputs": [],
   "source": [
    "url='https://movie.douban.com/j/search_subjects?type=tv&tag=%E7%83%AD%E9%97%A8&sort=recommend&page_limit=20&page_start=20'\n",
    "headers={'User-Agent':'Mozilla/5.0 (Linux; Android 6.0; Nexus 5 Build/MRA58N) AppleWebKit/537.36 (KHTML, like Gecko) Chrome/80.0.3987.132 Mobile Safari/537.36'}\n",
    "b='bid=\"Q+TyquofF3k\"; __gads=ID=27c34c24591f68b8:T=1583826922:S=ALNI_MYTBT08_oTj8FoP0Ub_rIKIeR_gkg; __utmc=30149280; __utmz=30149280.1583826934.1.1.utmcsr=baidu|utmccn=(organic)|utmcmd=organic; _vwo_uuid_v2=D38A74B855BBE6DEEA011650D499503FA|724b25b8fa8f857bd49036a32f21b010; ll=\"118371\"; ap_v=0,6.0; gr_user_id=cde4f6c4-366d-446d-bbdb-7a91208d4dfc; __utma=30149280.426755224.1583826934.1583826934.1583934927.2; _pk_ref.100001.4cf6=%5B%22%22%2C%22%22%2C1583934928%2C%22https%3A%2F%2Fwww.baidu.com%2Fs%3Fie%3DUTF-8%26wd%3D%25E8%25B1%2586%25E7%2593%25A3%22%5D; _pk_ses.100001.4cf6=*; __utma=223695111.937284787.1583934929.1583934929.1583934929.1; __utmb=223695111.0.10.1583934929; __utmc=223695111; __utmz=223695111.1583934929.1.1.utmcsr=baidu|utmccn=(organic)|utmcmd=organic|utmctr=%E8%B1%86%E7%93%A3; __yadk_uid=ZCiNH3mBQOmatFURzBilWB3ZG7CcNAlS; push_noty_num=0; push_doumail_num=0; dbcl2=\"164789361:tRUWWY3I3X8\"; ck=m_O9; __utmt=1; __utmv=30149280.16478; __utmb=30149280.3.10.1583934927; _pk_id.100001.4cf6=0cfb4938b254bf7c.1583934928.1.1583937455.1583934928.'\n",
    "line=b.split(';')\n",
    "cookie={}\n",
    "for i in line:\n",
    "    key,value = i.split('=',1)\n",
    "    cookie[key] = value"
   ]
  },
  {
   "cell_type": "code",
   "execution_count": 51,
   "metadata": {},
   "outputs": [],
   "source": [
    "d = {\n",
    "    'type': 'tv',\n",
    "    'tag': '热门',\n",
    "    'page_limit': 20,\n",
    "    'page_start': 20\n",
    "}"
   ]
  },
  {
   "cell_type": "code",
   "execution_count": 52,
   "metadata": {},
   "outputs": [
    {
     "name": "stdout",
     "output_type": "stream",
     "text": [
      "200\n"
     ]
    }
   ],
   "source": [
    "response=requests.get(url,headers=headers,cookies=cookie,params=d)\n",
    "print(response.status_code)"
   ]
  },
  {
   "cell_type": "code",
   "execution_count": 53,
   "metadata": {},
   "outputs": [
    {
     "name": "stdout",
     "output_type": "stream",
     "text": [
      "[{'rate': '7.3', 'cover_x': 750, 'title': '向往的生活 第四季', 'url': 'https://movie.douban.com/subject/34861173/', 'playable': False, 'cover': 'https://img9.doubanio.com/view/photo/s_ratio_poster/public/p2595985553.jpg', 'id': '34861173', 'cover_y': 1000, 'is_new': False}, {'rate': '8.0', 'cover_x': 640, 'title': '杀手', 'url': 'https://movie.douban.com/subject/30299248/', 'playable': True, 'cover': 'https://img9.doubanio.com/view/photo/s_ratio_poster/public/p2610245641.jpg', 'id': '30299248', 'cover_y': 960, 'is_new': True}, {'rate': '6.8', 'cover_x': 452, 'title': '99分女朋友', 'url': 'https://movie.douban.com/subject/33475999/', 'playable': False, 'cover': 'https://img9.doubanio.com/view/photo/s_ratio_poster/public/p2610264226.jpg', 'id': '33475999', 'cover_y': 800, 'is_new': False}, {'rate': '8.8', 'cover_x': 637, 'title': '寻味东莞', 'url': 'https://movie.douban.com/subject/35099748/', 'playable': True, 'cover': 'https://img9.doubanio.com/view/photo/s_ratio_poster/public/p2609011638.jpg', 'id': '35099748', 'cover_y': 950, 'is_new': False}, {'rate': '8.3', 'cover_x': 1446, 'title': 'Life 线上的我们', 'url': 'https://movie.douban.com/subject/35000628/', 'playable': False, 'cover': 'https://img9.doubanio.com/view/photo/s_ratio_poster/public/p2600787835.jpg', 'id': '35000628', 'cover_y': 2048, 'is_new': False}, {'rate': '9.7', 'cover_x': 1701, 'title': '请回答1988', 'url': 'https://movie.douban.com/subject/26302614/', 'playable': True, 'cover': 'https://img9.doubanio.com/view/photo/s_ratio_poster/public/p2272563445.jpg', 'id': '26302614', 'cover_y': 2410, 'is_new': False}, {'rate': '6.8', 'cover_x': 536, 'title': '青春环游记 第二季', 'url': 'https://movie.douban.com/subject/34880852/', 'playable': True, 'cover': 'https://img9.doubanio.com/view/photo/s_ratio_poster/public/p2607628222.jpg', 'id': '34880852', 'cover_y': 928, 'is_new': True}, {'rate': '7.4', 'cover_x': 945, 'title': '便利店新星', 'url': 'https://movie.douban.com/subject/34951001/', 'playable': False, 'cover': 'https://img9.doubanio.com/view/photo/s_ratio_poster/public/p2606985287.jpg', 'id': '34951001', 'cover_y': 1350, 'is_new': False}, {'rate': '9.5', 'cover_x': 709, 'title': '黄石 第三季', 'url': 'https://movie.douban.com/subject/34814172/', 'playable': False, 'cover': 'https://img9.doubanio.com/view/photo/s_ratio_poster/public/p2610247050.jpg', 'id': '34814172', 'cover_y': 961, 'is_new': False}, {'rate': '9.2', 'cover_x': 2953, 'title': '想见你', 'url': 'https://movie.douban.com/subject/30468961/', 'playable': True, 'cover': 'https://img9.doubanio.com/view/photo/s_ratio_poster/public/p2576977981.jpg', 'id': '30468961', 'cover_y': 4134, 'is_new': False}, {'rate': '9.1', 'cover_x': 632, 'title': '新喋喋人生', 'url': 'https://movie.douban.com/subject/35049287/', 'playable': False, 'cover': 'https://img9.doubanio.com/view/photo/s_ratio_poster/public/p2610784934.jpg', 'id': '35049287', 'cover_y': 818, 'is_new': True}, {'rate': '8.3', 'cover_x': 1429, 'title': '龙岭迷窟', 'url': 'https://movie.douban.com/subject/30488569/', 'playable': True, 'cover': 'https://img9.doubanio.com/view/photo/s_ratio_poster/public/p2593664928.jpg', 'id': '30488569', 'cover_y': 2000, 'is_new': False}, {'rate': '8.5', 'cover_x': 2100, 'title': '极地暗杀 第一季', 'url': 'https://movie.douban.com/subject/30466455/', 'playable': False, 'cover': 'https://img9.doubanio.com/view/photo/s_ratio_poster/public/p2608896785.jpg', 'id': '30466455', 'cover_y': 3000, 'is_new': False}, {'rate': '8.8', 'cover_x': 540, 'title': '了解的不多也无妨，是一家人', 'url': 'https://movie.douban.com/subject/34965662/', 'playable': False, 'cover': 'https://img9.doubanio.com/view/photo/s_ratio_poster/public/p2596104860.jpg', 'id': '34965662', 'cover_y': 763, 'is_new': False}, {'rate': '7.3', 'cover_x': 1242, 'title': '拜托了冰箱 第六季', 'url': 'https://movie.douban.com/subject/34431574/', 'playable': True, 'cover': 'https://img9.doubanio.com/view/photo/s_ratio_poster/public/p2598468290.jpg', 'id': '34431574', 'cover_y': 2208, 'is_new': False}, {'rate': '9.1', 'cover_x': 1005, 'title': '365：逆转命运的1年', 'url': 'https://movie.douban.com/subject/34902595/', 'playable': False, 'cover': 'https://img9.doubanio.com/view/photo/s_ratio_poster/public/p2589342098.jpg', 'id': '34902595', 'cover_y': 1440, 'is_new': False}, {'rate': '9.5', 'cover_x': 1204, 'title': '我们与恶的距离', 'url': 'https://movie.douban.com/subject/30181230/', 'playable': True, 'cover': 'https://img9.doubanio.com/view/photo/s_ratio_poster/public/p2554916825.jpg', 'id': '30181230', 'cover_y': 1720, 'is_new': False}, {'rate': '7.2', 'cover_x': 680, 'title': '国王：永远的君主', 'url': 'https://movie.douban.com/subject/33437305/', 'playable': False, 'cover': 'https://img9.doubanio.com/view/photo/s_ratio_poster/public/p2596184412.jpg', 'id': '33437305', 'cover_y': 1000, 'is_new': False}, {'rate': '6.2', 'cover_x': 1406, 'title': '奔跑吧 第四季', 'url': 'https://movie.douban.com/subject/35023699/', 'playable': True, 'cover': 'https://img9.doubanio.com/view/photo/s_ratio_poster/public/p2604118213.jpg', 'id': '35023699', 'cover_y': 2500, 'is_new': False}, {'rate': '9.4', 'cover_x': 400, 'title': '非自然死亡', 'url': 'https://movie.douban.com/subject/27140017/', 'playable': True, 'cover': 'https://img9.doubanio.com/view/photo/s_ratio_poster/public/p2510604929.jpg', 'id': '27140017', 'cover_y': 600, 'is_new': False}]\n"
     ]
    }
   ],
   "source": [
    "response.encoding = 'utf-8'\n",
    "html = response.json()  # 将json格式的字符串转为python数据类型\n",
    "html1=html['subjects']\n",
    "print(html1)"
   ]
  },
  {
   "cell_type": "code",
   "execution_count": 54,
   "metadata": {},
   "outputs": [
    {
     "name": "stdout",
     "output_type": "stream",
     "text": [
      "['https://movie.douban.com/subject/34861173/', 'https://movie.douban.com/subject/30299248/', 'https://movie.douban.com/subject/33475999/', 'https://movie.douban.com/subject/35099748/', 'https://movie.douban.com/subject/35000628/', 'https://movie.douban.com/subject/26302614/', 'https://movie.douban.com/subject/34880852/', 'https://movie.douban.com/subject/34951001/', 'https://movie.douban.com/subject/34814172/', 'https://movie.douban.com/subject/30468961/', 'https://movie.douban.com/subject/35049287/', 'https://movie.douban.com/subject/30488569/', 'https://movie.douban.com/subject/30466455/', 'https://movie.douban.com/subject/34965662/', 'https://movie.douban.com/subject/34431574/', 'https://movie.douban.com/subject/34902595/', 'https://movie.douban.com/subject/30181230/', 'https://movie.douban.com/subject/33437305/', 'https://movie.douban.com/subject/35023699/', 'https://movie.douban.com/subject/27140017/']\n"
     ]
    }
   ],
   "source": [
    "name=[]\n",
    "score=[]\n",
    "pnumber=[]\n",
    "url=[]\n",
    "cover=[]\n",
    "id=[]\n",
    "for one in html1:\n",
    "    name.append(one['title'])\n",
    "    score.append(one['rate'])\n",
    "    pnumber.append(one['cover_y'])\n",
    "    url.append(one['url'])\n",
    "    cover.append(one['cover'])\n",
    "    id.append(one['id'])\n",
    "print(url)"
   ]
  },
  {
   "cell_type": "code",
   "execution_count": 55,
   "metadata": {},
   "outputs": [],
   "source": [
    "columns={'剧名':name,'评分':score,'点评数':pnumber,'url':url,'图片':cover,'id':id}\n",
    "data=pd.DataFrame(columns)"
   ]
  },
  {
   "cell_type": "code",
   "execution_count": 56,
   "metadata": {},
   "outputs": [],
   "source": [
    "title=[]\n",
    "jianj=[]\n",
    "juqing=[]\n",
    "otherlike=[]\n",
    "biaoqian=[]\n",
    "watch=[]\n",
    "\n",
    "for i in range(len(data['url'])):\n",
    "    res=requests.get(data['url'][i],headers=headers,cookies=cookie)\n",
    "    html = etree.HTML(res.text)\n",
    "    title.append(''.join(html.xpath('//div[@class=\"sub-title\"]/text()')))\n",
    "    jianj.append(''.join(html.xpath('//*[@id=\"link-report\"]//span[@property=\"v:summary\"]/text()')))\n",
    "    juqing.append(''.join(html.xpath('//div[@class=\"bd\"]/p/text()')))\n",
    "    otherlike.append(''.join(html.xpath('//div[@class=\"wp\"]/h3/text()')))\n",
    "    biaoqian.append(''.join(html.xpath('//div[@class=\"con remark\"]/a/text()')))\n",
    "    watch.append(''.join(html.xpath('//span[@class=\"vendor-text\"]/text()')))"
   ]
  },
  {
   "cell_type": "code",
   "execution_count": 24,
   "metadata": {},
   "outputs": [
    {
     "data": {
      "text/html": [
       "<div>\n",
       "<style scoped>\n",
       "    .dataframe tbody tr th:only-of-type {\n",
       "        vertical-align: middle;\n",
       "    }\n",
       "\n",
       "    .dataframe tbody tr th {\n",
       "        vertical-align: top;\n",
       "    }\n",
       "\n",
       "    .dataframe thead th {\n",
       "        text-align: right;\n",
       "    }\n",
       "</style>\n",
       "<table border=\"1\" class=\"dataframe\">\n",
       "  <thead>\n",
       "    <tr style=\"text-align: right;\">\n",
       "      <th></th>\n",
       "      <th>剧名</th>\n",
       "      <th>简介</th>\n",
       "      <th>剧情</th>\n",
       "      <th>还喜欢</th>\n",
       "      <th>标签</th>\n",
       "      <th>观看</th>\n",
       "    </tr>\n",
       "  </thead>\n",
       "  <tbody>\n",
       "    <tr>\n",
       "      <th>0</th>\n",
       "      <td>向往的生活 第四季</td>\n",
       "      <td>\\n        \\n          中国大陆 / 真人秀 / 2020-05-08(...</td>\n",
       "      <td>\\n        黄磊、何炅、彭昱畅和张子枫四位成员，来到了云南西双版纳。蘑菇屋的四位成员...</td>\n",
       "      <td>拜托了冰箱 第六季向往的生活 第一季乘风破浪的姐姐拜托了冰箱 第一季声临其境 第一季中央广播...</td>\n",
       "      <td></td>\n",
       "      <td>\\n      即将可播\\n</td>\n",
       "    </tr>\n",
       "    <tr>\n",
       "      <th>1</th>\n",
       "      <td>杀手</td>\n",
       "      <td>\\n        \\n          中国香港 / 剧情 / 犯罪 / 2020-06...</td>\n",
       "      <td>\\n        乔星（陈豪饰）、阎武（黎耀祥饰），一个是如日中天的神级杀手，一个是风光不...</td>\n",
       "      <td>反黑路人甲街坊财爷夸世代三个女人一个「因」过街英雄盲侠大律师战毒是咁的，法官阁下毕打自己人男亲女爱</td>\n",
       "      <td></td>\n",
       "      <td>\\n      可在线观看\\n</td>\n",
       "    </tr>\n",
       "    <tr>\n",
       "      <th>2</th>\n",
       "      <td>99分女朋友</td>\n",
       "      <td>\\n        \\n          中国大陆 / 爱情 / 2020-06-17(中...</td>\n",
       "      <td>\\n        颜即正义？化妆就是金手指！身患幻想症脸上有疤的化妆师孟醒，竟从史上最抠总...</td>\n",
       "      <td>我不是购物狂手可摘星辰亲爱的义祁君全世界最好的你奈何BOSS又如何欢乐喜剧人 第六季萌医甜妻...</td>\n",
       "      <td></td>\n",
       "      <td>\\n      即将可播\\n</td>\n",
       "    </tr>\n",
       "    <tr>\n",
       "      <th>3</th>\n",
       "      <td>寻味东莞</td>\n",
       "      <td>\\n        \\n          中国大陆 / 纪录片 / 2020-06-21(...</td>\n",
       "      <td>\\n        东莞，中国广东重要的交通枢纽和外贸口岸，中国最具活力的国际化城市之一。过...</td>\n",
       "      <td>辣子曰风味人间 第二季小孩的神秘生活我的白大褂中间人生江湖菜馆社火中国年早餐中国 第二季寻味...</td>\n",
       "      <td></td>\n",
       "      <td>\\n      可在线观看\\n</td>\n",
       "    </tr>\n",
       "    <tr>\n",
       "      <th>4</th>\n",
       "      <td>Life 线上的我们</td>\n",
       "      <td>\\n        \\n          日本 / 剧情 / 同性 / 2020-06-1...</td>\n",
       "      <td>\\n        讲述了坠入爱河的性格截然不同的两名男高中生，一边纠结一边走完人生的故事。</td>\n",
       "      <td>你的目光所及之处千星传说爱你，维克托越界你是我的氧气红色气球我们的天空是非靛蓝色的心情深蓝之吻</td>\n",
       "      <td></td>\n",
       "      <td>\\n      即将可播\\n</td>\n",
       "    </tr>\n",
       "  </tbody>\n",
       "</table>\n",
       "</div>"
      ],
      "text/plain": [
       "           剧名                                                 简介  \\\n",
       "0   向往的生活 第四季  \\n        \\n          中国大陆 / 真人秀 / 2020-05-08(...   \n",
       "1          杀手  \\n        \\n          中国香港 / 剧情 / 犯罪 / 2020-06...   \n",
       "2      99分女朋友  \\n        \\n          中国大陆 / 爱情 / 2020-06-17(中...   \n",
       "3        寻味东莞  \\n        \\n          中国大陆 / 纪录片 / 2020-06-21(...   \n",
       "4  Life 线上的我们  \\n        \\n          日本 / 剧情 / 同性 / 2020-06-1...   \n",
       "\n",
       "                                                  剧情  \\\n",
       "0  \\n        黄磊、何炅、彭昱畅和张子枫四位成员，来到了云南西双版纳。蘑菇屋的四位成员...   \n",
       "1  \\n        乔星（陈豪饰）、阎武（黎耀祥饰），一个是如日中天的神级杀手，一个是风光不...   \n",
       "2  \\n        颜即正义？化妆就是金手指！身患幻想症脸上有疤的化妆师孟醒，竟从史上最抠总...   \n",
       "3  \\n        东莞，中国广东重要的交通枢纽和外贸口岸，中国最具活力的国际化城市之一。过...   \n",
       "4     \\n        讲述了坠入爱河的性格截然不同的两名男高中生，一边纠结一边走完人生的故事。   \n",
       "\n",
       "                                                 还喜欢 标签                   观看  \n",
       "0  拜托了冰箱 第六季向往的生活 第一季乘风破浪的姐姐拜托了冰箱 第一季声临其境 第一季中央广播...      \\n      即将可播\\n      \n",
       "1  反黑路人甲街坊财爷夸世代三个女人一个「因」过街英雄盲侠大律师战毒是咁的，法官阁下毕打自己人男亲女爱     \\n      可在线观看\\n      \n",
       "2  我不是购物狂手可摘星辰亲爱的义祁君全世界最好的你奈何BOSS又如何欢乐喜剧人 第六季萌医甜妻...      \\n      即将可播\\n      \n",
       "3  辣子曰风味人间 第二季小孩的神秘生活我的白大褂中间人生江湖菜馆社火中国年早餐中国 第二季寻味...     \\n      可在线观看\\n      \n",
       "4    你的目光所及之处千星传说爱你，维克托越界你是我的氧气红色气球我们的天空是非靛蓝色的心情深蓝之吻      \\n      即将可播\\n      "
      ]
     },
     "execution_count": 24,
     "metadata": {},
     "output_type": "execute_result"
    }
   ],
   "source": [
    "columns={'剧名':title,'简介':jianj,'剧情':juqing,'还喜欢':otherlike,'标签':biaoqian,'观看':watch}\n",
    "df2=pd.DataFrame(columns)\n",
    "df2.head()"
   ]
  },
  {
   "cell_type": "code",
   "execution_count": 49,
   "metadata": {},
   "outputs": [
    {
     "ename": "AttributeError",
     "evalue": "'NoneType' object has no attribute 'xpath'",
     "output_type": "error",
     "traceback": [
      "\u001b[1;31m---------------------------------------------------------------------------\u001b[0m",
      "\u001b[1;31mAttributeError\u001b[0m                            Traceback (most recent call last)",
      "\u001b[1;32m<ipython-input-49-c5e502145f6d>\u001b[0m in \u001b[0;36m<module>\u001b[1;34m\u001b[0m\n\u001b[0;32m      3\u001b[0m     \u001b[0mres\u001b[0m\u001b[1;33m=\u001b[0m\u001b[0mrequests\u001b[0m\u001b[1;33m.\u001b[0m\u001b[0mget\u001b[0m\u001b[1;33m(\u001b[0m\u001b[0mdata\u001b[0m\u001b[1;33m[\u001b[0m\u001b[1;34m'url'\u001b[0m\u001b[1;33m]\u001b[0m\u001b[1;33m[\u001b[0m\u001b[0mi\u001b[0m\u001b[1;33m]\u001b[0m\u001b[1;33m,\u001b[0m\u001b[0mheaders\u001b[0m\u001b[1;33m=\u001b[0m\u001b[0mheaders\u001b[0m\u001b[1;33m,\u001b[0m\u001b[0mcookies\u001b[0m\u001b[1;33m=\u001b[0m\u001b[0mcookie\u001b[0m\u001b[1;33m)\u001b[0m\u001b[1;33m\u001b[0m\u001b[1;33m\u001b[0m\u001b[0m\n\u001b[0;32m      4\u001b[0m     \u001b[0mhtml\u001b[0m \u001b[1;33m=\u001b[0m \u001b[0metree\u001b[0m\u001b[1;33m.\u001b[0m\u001b[0mHTML\u001b[0m\u001b[1;33m(\u001b[0m\u001b[0mres\u001b[0m\u001b[1;33m.\u001b[0m\u001b[0mtext\u001b[0m\u001b[1;33m)\u001b[0m\u001b[1;33m\u001b[0m\u001b[1;33m\u001b[0m\u001b[0m\n\u001b[1;32m----> 5\u001b[1;33m     \u001b[0mjianj\u001b[0m\u001b[1;33m.\u001b[0m\u001b[0mappend\u001b[0m\u001b[1;33m(\u001b[0m\u001b[1;34m''\u001b[0m\u001b[1;33m.\u001b[0m\u001b[0mjoin\u001b[0m\u001b[1;33m(\u001b[0m\u001b[0mhtml\u001b[0m\u001b[1;33m.\u001b[0m\u001b[0mxpath\u001b[0m\u001b[1;33m(\u001b[0m\u001b[1;34m'//div[@class=\"sub-meta\"]/text()'\u001b[0m\u001b[1;33m)\u001b[0m\u001b[1;33m)\u001b[0m\u001b[1;33m)\u001b[0m\u001b[1;33m\u001b[0m\u001b[1;33m\u001b[0m\u001b[0m\n\u001b[0m",
      "\u001b[1;31mAttributeError\u001b[0m: 'NoneType' object has no attribute 'xpath'"
     ]
    }
   ],
   "source": [
    "jianj = []\n",
    "for i in range(len(data['url'])):\n",
    "    res=requests.get(data['url'][i],headers=headers,cookies=cookie)\n",
    "    html = etree.HTML(res.text)\n",
    "    jianj.append(''.join(html.xpath('//div[@class=\"sub-meta\"]/text()')))"
   ]
  },
  {
   "cell_type": "code",
   "execution_count": 48,
   "metadata": {},
   "outputs": [
    {
     "ename": "AttributeError",
     "evalue": "'list' object has no attribute 'xpath'",
     "output_type": "error",
     "traceback": [
      "\u001b[1;31m---------------------------------------------------------------------------\u001b[0m",
      "\u001b[1;31mAttributeError\u001b[0m                            Traceback (most recent call last)",
      "\u001b[1;32m<ipython-input-48-3721195d4186>\u001b[0m in \u001b[0;36m<module>\u001b[1;34m\u001b[0m\n\u001b[1;32m----> 1\u001b[1;33m \u001b[0mhtml1\u001b[0m\u001b[1;33m.\u001b[0m\u001b[0mxpath\u001b[0m\u001b[1;33m(\u001b[0m\u001b[1;34m'//div[@class=\"sub-meta\"]/text()'\u001b[0m\u001b[1;33m)\u001b[0m\u001b[1;33m\u001b[0m\u001b[1;33m\u001b[0m\u001b[0m\n\u001b[0m",
      "\u001b[1;31mAttributeError\u001b[0m: 'list' object has no attribute 'xpath'"
     ]
    }
   ],
   "source": [
    "html1.xpath('//*[@id=\"link-report\"]/span/text()')"
   ]
  },
  {
   "cell_type": "code",
   "execution_count": 46,
   "metadata": {},
   "outputs": [
    {
     "data": {
      "text/plain": [
       "['',\n",
       " '',\n",
       " '',\n",
       " '',\n",
       " '',\n",
       " '',\n",
       " '',\n",
       " '',\n",
       " '',\n",
       " '',\n",
       " '',\n",
       " '',\n",
       " '',\n",
       " '',\n",
       " '',\n",
       " '',\n",
       " '',\n",
       " '',\n",
       " '',\n",
       " '']"
      ]
     },
     "execution_count": 46,
     "metadata": {},
     "output_type": "execute_result"
    }
   ],
   "source": [
    "jianj"
   ]
  },
  {
   "cell_type": "markdown",
   "metadata": {},
   "source": [
    "备注：这里需要注意的是：‘加载更多’这个需要更换参数params，需要查看xhr;同时，网址url需要重新构造"
   ]
  },
  {
   "cell_type": "markdown",
   "metadata": {},
   "source": [
    "## 三、整合"
   ]
  },
  {
   "cell_type": "markdown",
   "metadata": {},
   "source": [
    "### 1、构造请求部分"
   ]
  },
  {
   "cell_type": "code",
   "execution_count": 18,
   "metadata": {},
   "outputs": [],
   "source": [
    "#headers、cookies\n",
    "headers={'User-Agent':'Mozilla/5.0 (Linux; Android 6.0; Nexus 5 Build/MRA58N) AppleWebKit/537.36 (KHTML, like Gecko) Chrome/80.0.3987.132 Mobile Safari/537.36'}\n",
    "b='bid=\"Q+TyquofF3k\"; __gads=ID=27c34c24591f68b8:T=1583826922:S=ALNI_MYTBT08_oTj8FoP0Ub_rIKIeR_gkg; __utmc=30149280; __utmz=30149280.1583826934.1.1.utmcsr=baidu|utmccn=(organic)|utmcmd=organic; _vwo_uuid_v2=D38A74B855BBE6DEEA011650D499503FA|724b25b8fa8f857bd49036a32f21b010; ll=\"118371\"; ap_v=0,6.0; gr_user_id=cde4f6c4-366d-446d-bbdb-7a91208d4dfc; __utma=30149280.426755224.1583826934.1583826934.1583934927.2; _pk_ref.100001.4cf6=%5B%22%22%2C%22%22%2C1583934928%2C%22https%3A%2F%2Fwww.baidu.com%2Fs%3Fie%3DUTF-8%26wd%3D%25E8%25B1%2586%25E7%2593%25A3%22%5D; _pk_ses.100001.4cf6=*; __utma=223695111.937284787.1583934929.1583934929.1583934929.1; __utmb=223695111.0.10.1583934929; __utmc=223695111; __utmz=223695111.1583934929.1.1.utmcsr=baidu|utmccn=(organic)|utmcmd=organic|utmctr=%E8%B1%86%E7%93%A3; __yadk_uid=ZCiNH3mBQOmatFURzBilWB3ZG7CcNAlS; push_noty_num=0; push_doumail_num=0; dbcl2=\"164789361:tRUWWY3I3X8\"; ck=m_O9; __utmt=1; __utmv=30149280.16478; __utmb=30149280.3.10.1583934927; _pk_id.100001.4cf6=0cfb4938b254bf7c.1583934928.1.1583937455.1583934928.'\n",
    "line=b.split(';')\n",
    "cookie={}\n",
    "for i in line:\n",
    "    key,value = i.split('=',1)\n",
    "    cookie[key] = value"
   ]
  },
  {
   "cell_type": "code",
   "execution_count": 19,
   "metadata": {},
   "outputs": [],
   "source": [
    "titleall=[]\n",
    "jianjall=[]\n",
    "juqingall=[]\n",
    "otherlikeall=[]\n",
    "biaoqianall=[]\n",
    "watchall=[]"
   ]
  },
  {
   "cell_type": "code",
   "execution_count": 101,
   "metadata": {},
   "outputs": [],
   "source": [
    "#for j in range(len(data['url'])):\n",
    "#    res=requests.get(data['url'][j],headers=headers,cookies=cookie)\n",
    "#    html2 = etree.HTML(res.text)\n",
    "#    titleall.append(''.join(html2.xpath('//div[@class=\"sub-title\"]/text()')))\n",
    "#    jianjall.append(''.join(html2.xpath('//div[@class=\"sub-meta\"]/text()')))\n",
    "#    juqingall.append(''.join(html2.xpath('//div[@class=\"bd\"]/p/text()')))\n",
    "#    otherlikeall.append(''.join(html2.xpath('//div[@class=\"wp\"]/h3/text()')))\n",
    "#    biaoqianall.append(''.join(html2.xpath('//div[@class=\"con remark\"]/a/text()')))\n",
    "#    watchall.append(''.join(html2.xpath('//span[@class=\"vendor-text\"]/text()')))"
   ]
  },
  {
   "cell_type": "code",
   "execution_count": 20,
   "metadata": {},
   "outputs": [
    {
     "ename": "ProxyError",
     "evalue": "HTTPSConnectionPool(host='m.douban.com', port=443): Max retries exceeded with url: /movie/subject/27195020/ (Caused by ProxyError('Cannot connect to proxy.', RemoteDisconnected('Remote end closed connection without response')))",
     "output_type": "error",
     "traceback": [
      "\u001b[1;31m---------------------------------------------------------------------------\u001b[0m",
      "\u001b[1;31mRemoteDisconnected\u001b[0m                        Traceback (most recent call last)",
      "\u001b[1;32m~\\AppData\\Roaming\\Python\\Python37\\site-packages\\urllib3\\connectionpool.py\u001b[0m in \u001b[0;36murlopen\u001b[1;34m(self, method, url, body, headers, retries, redirect, assert_same_host, timeout, pool_timeout, release_conn, chunked, body_pos, **response_kw)\u001b[0m\n\u001b[0;32m    671\u001b[0m                 \u001b[0mheaders\u001b[0m\u001b[1;33m=\u001b[0m\u001b[0mheaders\u001b[0m\u001b[1;33m,\u001b[0m\u001b[1;33m\u001b[0m\u001b[1;33m\u001b[0m\u001b[0m\n\u001b[1;32m--> 672\u001b[1;33m                 \u001b[0mchunked\u001b[0m\u001b[1;33m=\u001b[0m\u001b[0mchunked\u001b[0m\u001b[1;33m,\u001b[0m\u001b[1;33m\u001b[0m\u001b[1;33m\u001b[0m\u001b[0m\n\u001b[0m\u001b[0;32m    673\u001b[0m             )\n",
      "\u001b[1;32m~\\AppData\\Roaming\\Python\\Python37\\site-packages\\urllib3\\connectionpool.py\u001b[0m in \u001b[0;36m_make_request\u001b[1;34m(self, conn, method, url, timeout, chunked, **httplib_request_kw)\u001b[0m\n\u001b[0;32m    420\u001b[0m                     \u001b[1;31m# Otherwise it looks like a bug in the code.\u001b[0m\u001b[1;33m\u001b[0m\u001b[1;33m\u001b[0m\u001b[1;33m\u001b[0m\u001b[0m\n\u001b[1;32m--> 421\u001b[1;33m                     \u001b[0msix\u001b[0m\u001b[1;33m.\u001b[0m\u001b[0mraise_from\u001b[0m\u001b[1;33m(\u001b[0m\u001b[0me\u001b[0m\u001b[1;33m,\u001b[0m \u001b[1;32mNone\u001b[0m\u001b[1;33m)\u001b[0m\u001b[1;33m\u001b[0m\u001b[1;33m\u001b[0m\u001b[0m\n\u001b[0m\u001b[0;32m    422\u001b[0m         \u001b[1;32mexcept\u001b[0m \u001b[1;33m(\u001b[0m\u001b[0mSocketTimeout\u001b[0m\u001b[1;33m,\u001b[0m \u001b[0mBaseSSLError\u001b[0m\u001b[1;33m,\u001b[0m \u001b[0mSocketError\u001b[0m\u001b[1;33m)\u001b[0m \u001b[1;32mas\u001b[0m \u001b[0me\u001b[0m\u001b[1;33m:\u001b[0m\u001b[1;33m\u001b[0m\u001b[1;33m\u001b[0m\u001b[0m\n",
      "\u001b[1;32m~\\AppData\\Roaming\\Python\\Python37\\site-packages\\urllib3\\packages\\six.py\u001b[0m in \u001b[0;36mraise_from\u001b[1;34m(value, from_value)\u001b[0m\n",
      "\u001b[1;32m~\\AppData\\Roaming\\Python\\Python37\\site-packages\\urllib3\\connectionpool.py\u001b[0m in \u001b[0;36m_make_request\u001b[1;34m(self, conn, method, url, timeout, chunked, **httplib_request_kw)\u001b[0m\n\u001b[0;32m    415\u001b[0m                 \u001b[1;32mtry\u001b[0m\u001b[1;33m:\u001b[0m\u001b[1;33m\u001b[0m\u001b[1;33m\u001b[0m\u001b[0m\n\u001b[1;32m--> 416\u001b[1;33m                     \u001b[0mhttplib_response\u001b[0m \u001b[1;33m=\u001b[0m \u001b[0mconn\u001b[0m\u001b[1;33m.\u001b[0m\u001b[0mgetresponse\u001b[0m\u001b[1;33m(\u001b[0m\u001b[1;33m)\u001b[0m\u001b[1;33m\u001b[0m\u001b[1;33m\u001b[0m\u001b[0m\n\u001b[0m\u001b[0;32m    417\u001b[0m                 \u001b[1;32mexcept\u001b[0m \u001b[0mBaseException\u001b[0m \u001b[1;32mas\u001b[0m \u001b[0me\u001b[0m\u001b[1;33m:\u001b[0m\u001b[1;33m\u001b[0m\u001b[1;33m\u001b[0m\u001b[0m\n",
      "\u001b[1;32mE:\\Anaconda3\\lib\\http\\client.py\u001b[0m in \u001b[0;36mgetresponse\u001b[1;34m(self)\u001b[0m\n\u001b[0;32m   1343\u001b[0m             \u001b[1;32mtry\u001b[0m\u001b[1;33m:\u001b[0m\u001b[1;33m\u001b[0m\u001b[1;33m\u001b[0m\u001b[0m\n\u001b[1;32m-> 1344\u001b[1;33m                 \u001b[0mresponse\u001b[0m\u001b[1;33m.\u001b[0m\u001b[0mbegin\u001b[0m\u001b[1;33m(\u001b[0m\u001b[1;33m)\u001b[0m\u001b[1;33m\u001b[0m\u001b[1;33m\u001b[0m\u001b[0m\n\u001b[0m\u001b[0;32m   1345\u001b[0m             \u001b[1;32mexcept\u001b[0m \u001b[0mConnectionError\u001b[0m\u001b[1;33m:\u001b[0m\u001b[1;33m\u001b[0m\u001b[1;33m\u001b[0m\u001b[0m\n",
      "\u001b[1;32mE:\\Anaconda3\\lib\\http\\client.py\u001b[0m in \u001b[0;36mbegin\u001b[1;34m(self)\u001b[0m\n\u001b[0;32m    305\u001b[0m         \u001b[1;32mwhile\u001b[0m \u001b[1;32mTrue\u001b[0m\u001b[1;33m:\u001b[0m\u001b[1;33m\u001b[0m\u001b[1;33m\u001b[0m\u001b[0m\n\u001b[1;32m--> 306\u001b[1;33m             \u001b[0mversion\u001b[0m\u001b[1;33m,\u001b[0m \u001b[0mstatus\u001b[0m\u001b[1;33m,\u001b[0m \u001b[0mreason\u001b[0m \u001b[1;33m=\u001b[0m \u001b[0mself\u001b[0m\u001b[1;33m.\u001b[0m\u001b[0m_read_status\u001b[0m\u001b[1;33m(\u001b[0m\u001b[1;33m)\u001b[0m\u001b[1;33m\u001b[0m\u001b[1;33m\u001b[0m\u001b[0m\n\u001b[0m\u001b[0;32m    307\u001b[0m             \u001b[1;32mif\u001b[0m \u001b[0mstatus\u001b[0m \u001b[1;33m!=\u001b[0m \u001b[0mCONTINUE\u001b[0m\u001b[1;33m:\u001b[0m\u001b[1;33m\u001b[0m\u001b[1;33m\u001b[0m\u001b[0m\n",
      "\u001b[1;32mE:\\Anaconda3\\lib\\http\\client.py\u001b[0m in \u001b[0;36m_read_status\u001b[1;34m(self)\u001b[0m\n\u001b[0;32m    274\u001b[0m             \u001b[1;31m# sending a valid response.\u001b[0m\u001b[1;33m\u001b[0m\u001b[1;33m\u001b[0m\u001b[1;33m\u001b[0m\u001b[0m\n\u001b[1;32m--> 275\u001b[1;33m             raise RemoteDisconnected(\"Remote end closed connection without\"\n\u001b[0m\u001b[0;32m    276\u001b[0m                                      \" response\")\n",
      "\u001b[1;31mRemoteDisconnected\u001b[0m: Remote end closed connection without response",
      "\nDuring handling of the above exception, another exception occurred:\n",
      "\u001b[1;31mMaxRetryError\u001b[0m                             Traceback (most recent call last)",
      "\u001b[1;32m~\\AppData\\Roaming\\Python\\Python37\\site-packages\\requests\\adapters.py\u001b[0m in \u001b[0;36msend\u001b[1;34m(self, request, stream, timeout, verify, cert, proxies)\u001b[0m\n\u001b[0;32m    448\u001b[0m                     \u001b[0mretries\u001b[0m\u001b[1;33m=\u001b[0m\u001b[0mself\u001b[0m\u001b[1;33m.\u001b[0m\u001b[0mmax_retries\u001b[0m\u001b[1;33m,\u001b[0m\u001b[1;33m\u001b[0m\u001b[1;33m\u001b[0m\u001b[0m\n\u001b[1;32m--> 449\u001b[1;33m                     \u001b[0mtimeout\u001b[0m\u001b[1;33m=\u001b[0m\u001b[0mtimeout\u001b[0m\u001b[1;33m\u001b[0m\u001b[1;33m\u001b[0m\u001b[0m\n\u001b[0m\u001b[0;32m    450\u001b[0m                 )\n",
      "\u001b[1;32m~\\AppData\\Roaming\\Python\\Python37\\site-packages\\urllib3\\connectionpool.py\u001b[0m in \u001b[0;36murlopen\u001b[1;34m(self, method, url, body, headers, retries, redirect, assert_same_host, timeout, pool_timeout, release_conn, chunked, body_pos, **response_kw)\u001b[0m\n\u001b[0;32m    719\u001b[0m             retries = retries.increment(\n\u001b[1;32m--> 720\u001b[1;33m                 \u001b[0mmethod\u001b[0m\u001b[1;33m,\u001b[0m \u001b[0murl\u001b[0m\u001b[1;33m,\u001b[0m \u001b[0merror\u001b[0m\u001b[1;33m=\u001b[0m\u001b[0me\u001b[0m\u001b[1;33m,\u001b[0m \u001b[0m_pool\u001b[0m\u001b[1;33m=\u001b[0m\u001b[0mself\u001b[0m\u001b[1;33m,\u001b[0m \u001b[0m_stacktrace\u001b[0m\u001b[1;33m=\u001b[0m\u001b[0msys\u001b[0m\u001b[1;33m.\u001b[0m\u001b[0mexc_info\u001b[0m\u001b[1;33m(\u001b[0m\u001b[1;33m)\u001b[0m\u001b[1;33m[\u001b[0m\u001b[1;36m2\u001b[0m\u001b[1;33m]\u001b[0m\u001b[1;33m\u001b[0m\u001b[1;33m\u001b[0m\u001b[0m\n\u001b[0m\u001b[0;32m    721\u001b[0m             )\n",
      "\u001b[1;32m~\\AppData\\Roaming\\Python\\Python37\\site-packages\\urllib3\\util\\retry.py\u001b[0m in \u001b[0;36mincrement\u001b[1;34m(self, method, url, response, error, _pool, _stacktrace)\u001b[0m\n\u001b[0;32m    435\u001b[0m         \u001b[1;32mif\u001b[0m \u001b[0mnew_retry\u001b[0m\u001b[1;33m.\u001b[0m\u001b[0mis_exhausted\u001b[0m\u001b[1;33m(\u001b[0m\u001b[1;33m)\u001b[0m\u001b[1;33m:\u001b[0m\u001b[1;33m\u001b[0m\u001b[1;33m\u001b[0m\u001b[0m\n\u001b[1;32m--> 436\u001b[1;33m             \u001b[1;32mraise\u001b[0m \u001b[0mMaxRetryError\u001b[0m\u001b[1;33m(\u001b[0m\u001b[0m_pool\u001b[0m\u001b[1;33m,\u001b[0m \u001b[0murl\u001b[0m\u001b[1;33m,\u001b[0m \u001b[0merror\u001b[0m \u001b[1;32mor\u001b[0m \u001b[0mResponseError\u001b[0m\u001b[1;33m(\u001b[0m\u001b[0mcause\u001b[0m\u001b[1;33m)\u001b[0m\u001b[1;33m)\u001b[0m\u001b[1;33m\u001b[0m\u001b[1;33m\u001b[0m\u001b[0m\n\u001b[0m\u001b[0;32m    437\u001b[0m \u001b[1;33m\u001b[0m\u001b[0m\n",
      "\u001b[1;31mMaxRetryError\u001b[0m: HTTPSConnectionPool(host='m.douban.com', port=443): Max retries exceeded with url: /movie/subject/27195020/ (Caused by ProxyError('Cannot connect to proxy.', RemoteDisconnected('Remote end closed connection without response')))",
      "\nDuring handling of the above exception, another exception occurred:\n",
      "\u001b[1;31mProxyError\u001b[0m                                Traceback (most recent call last)",
      "\u001b[1;32m<ipython-input-20-6c9d6ee65d0e>\u001b[0m in \u001b[0;36m<module>\u001b[1;34m\u001b[0m\n\u001b[0;32m     32\u001b[0m     \u001b[1;31m#内部信息\u001b[0m\u001b[1;33m\u001b[0m\u001b[1;33m\u001b[0m\u001b[1;33m\u001b[0m\u001b[0m\n\u001b[0;32m     33\u001b[0m     \u001b[1;32mfor\u001b[0m \u001b[0mi\u001b[0m \u001b[1;32min\u001b[0m \u001b[0mrange\u001b[0m\u001b[1;33m(\u001b[0m\u001b[0mlen\u001b[0m\u001b[1;33m(\u001b[0m\u001b[0mdata\u001b[0m\u001b[1;33m[\u001b[0m\u001b[1;34m'url'\u001b[0m\u001b[1;33m]\u001b[0m\u001b[1;33m)\u001b[0m\u001b[1;33m)\u001b[0m\u001b[1;33m:\u001b[0m\u001b[1;33m\u001b[0m\u001b[1;33m\u001b[0m\u001b[0m\n\u001b[1;32m---> 34\u001b[1;33m         \u001b[0mres\u001b[0m\u001b[1;33m=\u001b[0m\u001b[0mrequests\u001b[0m\u001b[1;33m.\u001b[0m\u001b[0mget\u001b[0m\u001b[1;33m(\u001b[0m\u001b[0mdata\u001b[0m\u001b[1;33m[\u001b[0m\u001b[1;34m'url'\u001b[0m\u001b[1;33m]\u001b[0m\u001b[1;33m[\u001b[0m\u001b[0mi\u001b[0m\u001b[1;33m]\u001b[0m\u001b[1;33m,\u001b[0m\u001b[0mheaders\u001b[0m\u001b[1;33m=\u001b[0m\u001b[0mheaders\u001b[0m\u001b[1;33m,\u001b[0m\u001b[0mcookies\u001b[0m\u001b[1;33m=\u001b[0m\u001b[0mcookie\u001b[0m\u001b[1;33m)\u001b[0m\u001b[1;33m\u001b[0m\u001b[1;33m\u001b[0m\u001b[0m\n\u001b[0m\u001b[0;32m     35\u001b[0m         \u001b[0mhtml2\u001b[0m \u001b[1;33m=\u001b[0m \u001b[0metree\u001b[0m\u001b[1;33m.\u001b[0m\u001b[0mHTML\u001b[0m\u001b[1;33m(\u001b[0m\u001b[0mres\u001b[0m\u001b[1;33m.\u001b[0m\u001b[0mtext\u001b[0m\u001b[1;33m)\u001b[0m\u001b[1;33m\u001b[0m\u001b[1;33m\u001b[0m\u001b[0m\n\u001b[0;32m     36\u001b[0m         \u001b[0mtitleall\u001b[0m\u001b[1;33m.\u001b[0m\u001b[0mappend\u001b[0m\u001b[1;33m(\u001b[0m\u001b[1;34m''\u001b[0m\u001b[1;33m.\u001b[0m\u001b[0mjoin\u001b[0m\u001b[1;33m(\u001b[0m\u001b[0mhtml2\u001b[0m\u001b[1;33m.\u001b[0m\u001b[0mxpath\u001b[0m\u001b[1;33m(\u001b[0m\u001b[1;34m'//div[@class=\"sub-title\"]/text()'\u001b[0m\u001b[1;33m)\u001b[0m\u001b[1;33m)\u001b[0m\u001b[1;33m)\u001b[0m\u001b[1;33m\u001b[0m\u001b[1;33m\u001b[0m\u001b[0m\n",
      "\u001b[1;32m~\\AppData\\Roaming\\Python\\Python37\\site-packages\\requests\\api.py\u001b[0m in \u001b[0;36mget\u001b[1;34m(url, params, **kwargs)\u001b[0m\n\u001b[0;32m     73\u001b[0m \u001b[1;33m\u001b[0m\u001b[0m\n\u001b[0;32m     74\u001b[0m     \u001b[0mkwargs\u001b[0m\u001b[1;33m.\u001b[0m\u001b[0msetdefault\u001b[0m\u001b[1;33m(\u001b[0m\u001b[1;34m'allow_redirects'\u001b[0m\u001b[1;33m,\u001b[0m \u001b[1;32mTrue\u001b[0m\u001b[1;33m)\u001b[0m\u001b[1;33m\u001b[0m\u001b[1;33m\u001b[0m\u001b[0m\n\u001b[1;32m---> 75\u001b[1;33m     \u001b[1;32mreturn\u001b[0m \u001b[0mrequest\u001b[0m\u001b[1;33m(\u001b[0m\u001b[1;34m'get'\u001b[0m\u001b[1;33m,\u001b[0m \u001b[0murl\u001b[0m\u001b[1;33m,\u001b[0m \u001b[0mparams\u001b[0m\u001b[1;33m=\u001b[0m\u001b[0mparams\u001b[0m\u001b[1;33m,\u001b[0m \u001b[1;33m**\u001b[0m\u001b[0mkwargs\u001b[0m\u001b[1;33m)\u001b[0m\u001b[1;33m\u001b[0m\u001b[1;33m\u001b[0m\u001b[0m\n\u001b[0m\u001b[0;32m     76\u001b[0m \u001b[1;33m\u001b[0m\u001b[0m\n\u001b[0;32m     77\u001b[0m \u001b[1;33m\u001b[0m\u001b[0m\n",
      "\u001b[1;32m~\\AppData\\Roaming\\Python\\Python37\\site-packages\\requests\\api.py\u001b[0m in \u001b[0;36mrequest\u001b[1;34m(method, url, **kwargs)\u001b[0m\n\u001b[0;32m     58\u001b[0m     \u001b[1;31m# cases, and look like a memory leak in others.\u001b[0m\u001b[1;33m\u001b[0m\u001b[1;33m\u001b[0m\u001b[1;33m\u001b[0m\u001b[0m\n\u001b[0;32m     59\u001b[0m     \u001b[1;32mwith\u001b[0m \u001b[0msessions\u001b[0m\u001b[1;33m.\u001b[0m\u001b[0mSession\u001b[0m\u001b[1;33m(\u001b[0m\u001b[1;33m)\u001b[0m \u001b[1;32mas\u001b[0m \u001b[0msession\u001b[0m\u001b[1;33m:\u001b[0m\u001b[1;33m\u001b[0m\u001b[1;33m\u001b[0m\u001b[0m\n\u001b[1;32m---> 60\u001b[1;33m         \u001b[1;32mreturn\u001b[0m \u001b[0msession\u001b[0m\u001b[1;33m.\u001b[0m\u001b[0mrequest\u001b[0m\u001b[1;33m(\u001b[0m\u001b[0mmethod\u001b[0m\u001b[1;33m=\u001b[0m\u001b[0mmethod\u001b[0m\u001b[1;33m,\u001b[0m \u001b[0murl\u001b[0m\u001b[1;33m=\u001b[0m\u001b[0murl\u001b[0m\u001b[1;33m,\u001b[0m \u001b[1;33m**\u001b[0m\u001b[0mkwargs\u001b[0m\u001b[1;33m)\u001b[0m\u001b[1;33m\u001b[0m\u001b[1;33m\u001b[0m\u001b[0m\n\u001b[0m\u001b[0;32m     61\u001b[0m \u001b[1;33m\u001b[0m\u001b[0m\n\u001b[0;32m     62\u001b[0m \u001b[1;33m\u001b[0m\u001b[0m\n",
      "\u001b[1;32m~\\AppData\\Roaming\\Python\\Python37\\site-packages\\requests\\sessions.py\u001b[0m in \u001b[0;36mrequest\u001b[1;34m(self, method, url, params, data, headers, cookies, files, auth, timeout, allow_redirects, proxies, hooks, stream, verify, cert, json)\u001b[0m\n\u001b[0;32m    531\u001b[0m         }\n\u001b[0;32m    532\u001b[0m         \u001b[0msend_kwargs\u001b[0m\u001b[1;33m.\u001b[0m\u001b[0mupdate\u001b[0m\u001b[1;33m(\u001b[0m\u001b[0msettings\u001b[0m\u001b[1;33m)\u001b[0m\u001b[1;33m\u001b[0m\u001b[1;33m\u001b[0m\u001b[0m\n\u001b[1;32m--> 533\u001b[1;33m         \u001b[0mresp\u001b[0m \u001b[1;33m=\u001b[0m \u001b[0mself\u001b[0m\u001b[1;33m.\u001b[0m\u001b[0msend\u001b[0m\u001b[1;33m(\u001b[0m\u001b[0mprep\u001b[0m\u001b[1;33m,\u001b[0m \u001b[1;33m**\u001b[0m\u001b[0msend_kwargs\u001b[0m\u001b[1;33m)\u001b[0m\u001b[1;33m\u001b[0m\u001b[1;33m\u001b[0m\u001b[0m\n\u001b[0m\u001b[0;32m    534\u001b[0m \u001b[1;33m\u001b[0m\u001b[0m\n\u001b[0;32m    535\u001b[0m         \u001b[1;32mreturn\u001b[0m \u001b[0mresp\u001b[0m\u001b[1;33m\u001b[0m\u001b[1;33m\u001b[0m\u001b[0m\n",
      "\u001b[1;32m~\\AppData\\Roaming\\Python\\Python37\\site-packages\\requests\\sessions.py\u001b[0m in \u001b[0;36msend\u001b[1;34m(self, request, **kwargs)\u001b[0m\n\u001b[0;32m    666\u001b[0m \u001b[1;33m\u001b[0m\u001b[0m\n\u001b[0;32m    667\u001b[0m         \u001b[1;31m# Resolve redirects if allowed.\u001b[0m\u001b[1;33m\u001b[0m\u001b[1;33m\u001b[0m\u001b[1;33m\u001b[0m\u001b[0m\n\u001b[1;32m--> 668\u001b[1;33m         \u001b[0mhistory\u001b[0m \u001b[1;33m=\u001b[0m \u001b[1;33m[\u001b[0m\u001b[0mresp\u001b[0m \u001b[1;32mfor\u001b[0m \u001b[0mresp\u001b[0m \u001b[1;32min\u001b[0m \u001b[0mgen\u001b[0m\u001b[1;33m]\u001b[0m \u001b[1;32mif\u001b[0m \u001b[0mallow_redirects\u001b[0m \u001b[1;32melse\u001b[0m \u001b[1;33m[\u001b[0m\u001b[1;33m]\u001b[0m\u001b[1;33m\u001b[0m\u001b[1;33m\u001b[0m\u001b[0m\n\u001b[0m\u001b[0;32m    669\u001b[0m \u001b[1;33m\u001b[0m\u001b[0m\n\u001b[0;32m    670\u001b[0m         \u001b[1;31m# Shuffle things around if there's history.\u001b[0m\u001b[1;33m\u001b[0m\u001b[1;33m\u001b[0m\u001b[1;33m\u001b[0m\u001b[0m\n",
      "\u001b[1;32m~\\AppData\\Roaming\\Python\\Python37\\site-packages\\requests\\sessions.py\u001b[0m in \u001b[0;36m<listcomp>\u001b[1;34m(.0)\u001b[0m\n\u001b[0;32m    666\u001b[0m \u001b[1;33m\u001b[0m\u001b[0m\n\u001b[0;32m    667\u001b[0m         \u001b[1;31m# Resolve redirects if allowed.\u001b[0m\u001b[1;33m\u001b[0m\u001b[1;33m\u001b[0m\u001b[1;33m\u001b[0m\u001b[0m\n\u001b[1;32m--> 668\u001b[1;33m         \u001b[0mhistory\u001b[0m \u001b[1;33m=\u001b[0m \u001b[1;33m[\u001b[0m\u001b[0mresp\u001b[0m \u001b[1;32mfor\u001b[0m \u001b[0mresp\u001b[0m \u001b[1;32min\u001b[0m \u001b[0mgen\u001b[0m\u001b[1;33m]\u001b[0m \u001b[1;32mif\u001b[0m \u001b[0mallow_redirects\u001b[0m \u001b[1;32melse\u001b[0m \u001b[1;33m[\u001b[0m\u001b[1;33m]\u001b[0m\u001b[1;33m\u001b[0m\u001b[1;33m\u001b[0m\u001b[0m\n\u001b[0m\u001b[0;32m    669\u001b[0m \u001b[1;33m\u001b[0m\u001b[0m\n\u001b[0;32m    670\u001b[0m         \u001b[1;31m# Shuffle things around if there's history.\u001b[0m\u001b[1;33m\u001b[0m\u001b[1;33m\u001b[0m\u001b[1;33m\u001b[0m\u001b[0m\n",
      "\u001b[1;32m~\\AppData\\Roaming\\Python\\Python37\\site-packages\\requests\\sessions.py\u001b[0m in \u001b[0;36mresolve_redirects\u001b[1;34m(self, resp, req, stream, timeout, verify, cert, proxies, yield_requests, **adapter_kwargs)\u001b[0m\n\u001b[0;32m    245\u001b[0m                     \u001b[0mproxies\u001b[0m\u001b[1;33m=\u001b[0m\u001b[0mproxies\u001b[0m\u001b[1;33m,\u001b[0m\u001b[1;33m\u001b[0m\u001b[1;33m\u001b[0m\u001b[0m\n\u001b[0;32m    246\u001b[0m                     \u001b[0mallow_redirects\u001b[0m\u001b[1;33m=\u001b[0m\u001b[1;32mFalse\u001b[0m\u001b[1;33m,\u001b[0m\u001b[1;33m\u001b[0m\u001b[1;33m\u001b[0m\u001b[0m\n\u001b[1;32m--> 247\u001b[1;33m                     \u001b[1;33m**\u001b[0m\u001b[0madapter_kwargs\u001b[0m\u001b[1;33m\u001b[0m\u001b[1;33m\u001b[0m\u001b[0m\n\u001b[0m\u001b[0;32m    248\u001b[0m                 )\n\u001b[0;32m    249\u001b[0m \u001b[1;33m\u001b[0m\u001b[0m\n",
      "\u001b[1;32m~\\AppData\\Roaming\\Python\\Python37\\site-packages\\requests\\sessions.py\u001b[0m in \u001b[0;36msend\u001b[1;34m(self, request, **kwargs)\u001b[0m\n\u001b[0;32m    644\u001b[0m \u001b[1;33m\u001b[0m\u001b[0m\n\u001b[0;32m    645\u001b[0m         \u001b[1;31m# Send the request\u001b[0m\u001b[1;33m\u001b[0m\u001b[1;33m\u001b[0m\u001b[1;33m\u001b[0m\u001b[0m\n\u001b[1;32m--> 646\u001b[1;33m         \u001b[0mr\u001b[0m \u001b[1;33m=\u001b[0m \u001b[0madapter\u001b[0m\u001b[1;33m.\u001b[0m\u001b[0msend\u001b[0m\u001b[1;33m(\u001b[0m\u001b[0mrequest\u001b[0m\u001b[1;33m,\u001b[0m \u001b[1;33m**\u001b[0m\u001b[0mkwargs\u001b[0m\u001b[1;33m)\u001b[0m\u001b[1;33m\u001b[0m\u001b[1;33m\u001b[0m\u001b[0m\n\u001b[0m\u001b[0;32m    647\u001b[0m \u001b[1;33m\u001b[0m\u001b[0m\n\u001b[0;32m    648\u001b[0m         \u001b[1;31m# Total elapsed time of the request (approximately)\u001b[0m\u001b[1;33m\u001b[0m\u001b[1;33m\u001b[0m\u001b[1;33m\u001b[0m\u001b[0m\n",
      "\u001b[1;32m~\\AppData\\Roaming\\Python\\Python37\\site-packages\\requests\\adapters.py\u001b[0m in \u001b[0;36msend\u001b[1;34m(self, request, stream, timeout, verify, cert, proxies)\u001b[0m\n\u001b[0;32m    508\u001b[0m \u001b[1;33m\u001b[0m\u001b[0m\n\u001b[0;32m    509\u001b[0m             \u001b[1;32mif\u001b[0m \u001b[0misinstance\u001b[0m\u001b[1;33m(\u001b[0m\u001b[0me\u001b[0m\u001b[1;33m.\u001b[0m\u001b[0mreason\u001b[0m\u001b[1;33m,\u001b[0m \u001b[0m_ProxyError\u001b[0m\u001b[1;33m)\u001b[0m\u001b[1;33m:\u001b[0m\u001b[1;33m\u001b[0m\u001b[1;33m\u001b[0m\u001b[0m\n\u001b[1;32m--> 510\u001b[1;33m                 \u001b[1;32mraise\u001b[0m \u001b[0mProxyError\u001b[0m\u001b[1;33m(\u001b[0m\u001b[0me\u001b[0m\u001b[1;33m,\u001b[0m \u001b[0mrequest\u001b[0m\u001b[1;33m=\u001b[0m\u001b[0mrequest\u001b[0m\u001b[1;33m)\u001b[0m\u001b[1;33m\u001b[0m\u001b[1;33m\u001b[0m\u001b[0m\n\u001b[0m\u001b[0;32m    511\u001b[0m \u001b[1;33m\u001b[0m\u001b[0m\n\u001b[0;32m    512\u001b[0m             \u001b[1;32mif\u001b[0m \u001b[0misinstance\u001b[0m\u001b[1;33m(\u001b[0m\u001b[0me\u001b[0m\u001b[1;33m.\u001b[0m\u001b[0mreason\u001b[0m\u001b[1;33m,\u001b[0m \u001b[0m_SSLError\u001b[0m\u001b[1;33m)\u001b[0m\u001b[1;33m:\u001b[0m\u001b[1;33m\u001b[0m\u001b[1;33m\u001b[0m\u001b[0m\n",
      "\u001b[1;31mProxyError\u001b[0m: HTTPSConnectionPool(host='m.douban.com', port=443): Max retries exceeded with url: /movie/subject/27195020/ (Caused by ProxyError('Cannot connect to proxy.', RemoteDisconnected('Remote end closed connection without response')))"
     ]
    }
   ],
   "source": [
    "#构造url和\n",
    "for i in range(25):\n",
    "    offset=i*20\n",
    "    url='https://movie.douban.com/j/search_subjects?type=tv&tag=%E7%83%AD%E9%97%A8&sort=recommend&page_limit=20&page_start='+str(offset)          \n",
    "    d = {\n",
    "    'type': 'tv',\n",
    "    'tag': '热门',\n",
    "    'page_limit': 20,\n",
    "    'page_start': offset\n",
    "    }\n",
    "    response=requests.get(url,headers=headers,cookies=cookie,params=d)\n",
    "    response.encoding = 'utf-8'\n",
    "    html = response.json()  # 将json格式的字符串转为python数据类型\n",
    "    html1=html['subjects']\n",
    "    #一页的内容获取，此处只用urls\n",
    "    name=[]\n",
    "    score=[]\n",
    "    pnumber=[]\n",
    "    urls=[]\n",
    "    cover=[]\n",
    "    id=[]\n",
    "    for one in html1:\n",
    "        name.append(one['title'])\n",
    "        score.append(one['rate'])\n",
    "        pnumber.append(one['cover_y'])\n",
    "        urls.append(one['url'])\n",
    "        cover.append(one['cover'])\n",
    "        id.append(one['id'])\n",
    "    #print(urls)\n",
    "    columns={'剧名':name,'评分':score,'点评数':pnumber,'url':urls,'图片':cover,'id':id}\n",
    "    data=pd.DataFrame(columns)\n",
    "    #内部信息\n",
    "    for i in range(len(data['url'])):\n",
    "        res=requests.get(data['url'][i],headers=headers,cookies=cookie)\n",
    "        html2 = etree.HTML(res.text)\n",
    "        titleall.append(''.join(html2.xpath('//div[@class=\"sub-title\"]/text()')))\n",
    "        jianjall.append(''.join(html2.xpath('//div[@class=\"sub-meta\"]/text()')))\n",
    "        juqingall.append(''.join(html2.xpath('//div[@class=\"bd\"]/p/text()')))\n",
    "        otherlikeall.append(''.join(html2.xpath('//div[@class=\"wp\"]/h3/text()')))\n",
    "        biaoqianall.append(''.join(html2.xpath('//div[@class=\"con remark\"]/a/text()')))\n",
    "        watchall.append(''.join(html2.xpath('//span[@class=\"vendor-text\"]/text()')))"
   ]
  },
  {
   "cell_type": "code",
   "execution_count": null,
   "metadata": {},
   "outputs": [],
   "source": [
    "len(titleall)"
   ]
  },
  {
   "cell_type": "code",
   "execution_count": 31,
   "metadata": {},
   "outputs": [
    {
     "data": {
      "text/html": [
       "<div>\n",
       "<style scoped>\n",
       "    .dataframe tbody tr th:only-of-type {\n",
       "        vertical-align: middle;\n",
       "    }\n",
       "\n",
       "    .dataframe tbody tr th {\n",
       "        vertical-align: top;\n",
       "    }\n",
       "\n",
       "    .dataframe thead th {\n",
       "        text-align: right;\n",
       "    }\n",
       "</style>\n",
       "<table border=\"1\" class=\"dataframe\">\n",
       "  <thead>\n",
       "    <tr style=\"text-align: right;\">\n",
       "      <th></th>\n",
       "      <th>剧名</th>\n",
       "      <th>简介</th>\n",
       "      <th>剧情</th>\n",
       "      <th>还喜欢</th>\n",
       "      <th>标签</th>\n",
       "      <th>观看</th>\n",
       "    </tr>\n",
       "  </thead>\n",
       "  <tbody>\n",
       "    <tr>\n",
       "      <td>0</td>\n",
       "      <td>龙岭迷窟</td>\n",
       "      <td>\\n        \\n          中国大陆 / 剧情 / 动作 / 冒险 / 20...</td>\n",
       "      <td>\\n        胡八一、王胖子和大金牙被村民编造的绣花鞋的故事所骗，前往陕西古蓝县。水路...</td>\n",
       "      <td>怒晴湘西云南虫谷鬼吹灯之精绝古城白夜追凶河神龙岭迷窟之最后的搬山道人唐人街探案局中人伪装者无证之罪</td>\n",
       "      <td></td>\n",
       "      <td>\\n      可在线观看\\n</td>\n",
       "    </tr>\n",
       "    <tr>\n",
       "      <td>1</td>\n",
       "      <td>风味人间 第二季</td>\n",
       "      <td>\\n        \\n          中国大陆 / 纪录片 / 2020-04-26(...</td>\n",
       "      <td>\\n        因为地理环境、文明历程和物产丰厚程度不尽相同，人们对食物的处理时而天差地...</td>\n",
       "      <td>风味人间 第一季早餐中国 第二季人生一串 第二季电子竞技在中国寻味顺德小孩的神秘生活我的白大...</td>\n",
       "      <td></td>\n",
       "      <td>\\n      可在线观看\\n</td>\n",
       "    </tr>\n",
       "    <tr>\n",
       "      <td>2</td>\n",
       "      <td>降魔的2.0</td>\n",
       "      <td>\\n        \\n          中国香港 / 剧情 / 悬疑 / 2020-05...</td>\n",
       "      <td>\\n        的士司机马季（马国明饰）继承精灵石敢当的天命，走上降魔之路，更与长大的好...</td>\n",
       "      <td>十八年后的终极告白食梦先生失踪人口也平凡爱思小姐探案集局中人古董局中局之鉴墨寻瓷完美证据降魔...</td>\n",
       "      <td></td>\n",
       "      <td>\\n      可在线观看\\n</td>\n",
       "    </tr>\n",
       "    <tr>\n",
       "      <td>3</td>\n",
       "      <td>绝夜逢生</td>\n",
       "      <td>\\n        \\n          比利时 / 剧情 / 科幻 / 惊悚 / 202...</td>\n",
       "      <td>\\n        讲述一架在布鲁塞尔的航班起飞后，此时太阳活动突变令到被照射到的生物通通死...</td>\n",
       "      <td>3% 第一季沙丘：姐妹会上载新生救世 第一季环形物语雪国列车(剧版) 第一季再次钟情 第一季...</td>\n",
       "      <td></td>\n",
       "      <td>\\n      即将可播\\n</td>\n",
       "    </tr>\n",
       "    <tr>\n",
       "      <td>4</td>\n",
       "      <td>低俗怪谈：天使之城</td>\n",
       "      <td>\\n        \\n          美国 / 剧情 / 恐怖 / 2020-04-2...</td>\n",
       "      <td>\\n        故事将离开维多利亚时代的伦 敦，改为以新角色及新故事讲述1938年的洛杉...</td>\n",
       "      <td>惊悚50州低俗怪谈 第三季我知道你去年夏天干了什么鬼入侵 第二季时光之轮恶灵玛丽安恶魔之地女...</td>\n",
       "      <td></td>\n",
       "      <td>\\n      即将可播\\n</td>\n",
       "    </tr>\n",
       "  </tbody>\n",
       "</table>\n",
       "</div>"
      ],
      "text/plain": [
       "          剧名                                                 简介  \\\n",
       "0       龙岭迷窟  \\n        \\n          中国大陆 / 剧情 / 动作 / 冒险 / 20...   \n",
       "1   风味人间 第二季  \\n        \\n          中国大陆 / 纪录片 / 2020-04-26(...   \n",
       "2     降魔的2.0  \\n        \\n          中国香港 / 剧情 / 悬疑 / 2020-05...   \n",
       "3       绝夜逢生  \\n        \\n          比利时 / 剧情 / 科幻 / 惊悚 / 202...   \n",
       "4  低俗怪谈：天使之城  \\n        \\n          美国 / 剧情 / 恐怖 / 2020-04-2...   \n",
       "\n",
       "                                                  剧情  \\\n",
       "0  \\n        胡八一、王胖子和大金牙被村民编造的绣花鞋的故事所骗，前往陕西古蓝县。水路...   \n",
       "1  \\n        因为地理环境、文明历程和物产丰厚程度不尽相同，人们对食物的处理时而天差地...   \n",
       "2  \\n        的士司机马季（马国明饰）继承精灵石敢当的天命，走上降魔之路，更与长大的好...   \n",
       "3  \\n        讲述一架在布鲁塞尔的航班起飞后，此时太阳活动突变令到被照射到的生物通通死...   \n",
       "4  \\n        故事将离开维多利亚时代的伦 敦，改为以新角色及新故事讲述1938年的洛杉...   \n",
       "\n",
       "                                                 还喜欢 标签                   观看  \n",
       "0  怒晴湘西云南虫谷鬼吹灯之精绝古城白夜追凶河神龙岭迷窟之最后的搬山道人唐人街探案局中人伪装者无证之罪     \\n      可在线观看\\n      \n",
       "1  风味人间 第一季早餐中国 第二季人生一串 第二季电子竞技在中国寻味顺德小孩的神秘生活我的白大...     \\n      可在线观看\\n      \n",
       "2  十八年后的终极告白食梦先生失踪人口也平凡爱思小姐探案集局中人古董局中局之鉴墨寻瓷完美证据降魔...     \\n      可在线观看\\n      \n",
       "3  3% 第一季沙丘：姐妹会上载新生救世 第一季环形物语雪国列车(剧版) 第一季再次钟情 第一季...      \\n      即将可播\\n      \n",
       "4  惊悚50州低俗怪谈 第三季我知道你去年夏天干了什么鬼入侵 第二季时光之轮恶灵玛丽安恶魔之地女...      \\n      即将可播\\n      "
      ]
     },
     "execution_count": 31,
     "metadata": {},
     "output_type": "execute_result"
    }
   ],
   "source": [
    "columns={'剧名':titleall,'简介':jianjall,'剧情':juqingall,'还喜欢':otherlikeall,'标签':biaoqianall,'观看':watchall}\n",
    "df2=pd.DataFrame(columns)\n",
    "df2.head()"
   ]
  },
  {
   "cell_type": "code",
   "execution_count": null,
   "metadata": {},
   "outputs": [],
   "source": []
  },
  {
   "cell_type": "code",
   "execution_count": null,
   "metadata": {},
   "outputs": [],
   "source": []
  },
  {
   "cell_type": "code",
   "execution_count": null,
   "metadata": {},
   "outputs": [],
   "source": []
  }
 ],
 "metadata": {
  "kernelspec": {
   "display_name": "Python 3",
   "language": "python",
   "name": "python3"
  },
  "language_info": {
   "codemirror_mode": {
    "name": "ipython",
    "version": 3
   },
   "file_extension": ".py",
   "mimetype": "text/x-python",
   "name": "python",
   "nbconvert_exporter": "python",
   "pygments_lexer": "ipython3",
   "version": "3.7.6"
  },
  "latex_envs": {
   "LaTeX_envs_menu_present": true,
   "autoclose": false,
   "autocomplete": true,
   "bibliofile": "biblio.bib",
   "cite_by": "apalike",
   "current_citInitial": 1,
   "eqLabelWithNumbers": true,
   "eqNumInitial": 1,
   "hotkeys": {
    "equation": "Ctrl-E",
    "itemize": "Ctrl-I"
   },
   "labels_anchors": false,
   "latex_user_defs": false,
   "report_style_numbering": false,
   "user_envs_cfg": false
  }
 },
 "nbformat": 4,
 "nbformat_minor": 2
}
