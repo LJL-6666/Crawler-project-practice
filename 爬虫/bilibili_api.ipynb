{
 "cells": [
  {
   "cell_type": "code",
   "execution_count": 1,
   "metadata": {
    "ExecuteTime": {
     "end_time": "2020-08-21T10:50:35.073117Z",
     "start_time": "2020-08-21T10:49:55.763226Z"
    }
   },
   "outputs": [
    {
     "name": "stdout",
     "output_type": "stream",
     "text": [
      "Collecting bilibili_api\n",
      "  Downloading bilibili_api-2.0.2.tar.gz (69 kB)\n",
      "Collecting requests>=2.24.0\n",
      "  Downloading requests-2.24.0-py2.py3-none-any.whl (61 kB)\n",
      "Collecting websockets>=8.1\n",
      "  Using cached websockets-8.1-cp37-cp37m-win_amd64.whl (66 kB)\n",
      "Collecting beautifulsoup4>=4.9.1\n",
      "  Downloading beautifulsoup4-4.9.1-py3-none-any.whl (115 kB)\n",
      "Collecting aiohttp>=3.6.2\n",
      "  Downloading aiohttp-3.6.2-cp37-cp37m-win_amd64.whl (649 kB)\n",
      "Collecting cssutils>=1.0.2\n",
      "  Downloading cssutils-1.0.2-py3-none-any.whl (406 kB)\n",
      "Requirement already satisfied: idna<3,>=2.5 in c:\\users\\hp\\appdata\\roaming\\python\\python37\\site-packages (from requests>=2.24.0->bilibili_api) (2.8)\n",
      "Requirement already satisfied: urllib3!=1.25.0,!=1.25.1,<1.26,>=1.21.1 in c:\\users\\hp\\appdata\\roaming\\python\\python37\\site-packages (from requests>=2.24.0->bilibili_api) (1.25.8)\n",
      "Requirement already satisfied: chardet<4,>=3.0.2 in c:\\users\\hp\\appdata\\roaming\\python\\python37\\site-packages (from requests>=2.24.0->bilibili_api) (3.0.4)\n",
      "Requirement already satisfied: certifi>=2017.4.17 in c:\\users\\hp\\appdata\\roaming\\python\\python37\\site-packages (from requests>=2.24.0->bilibili_api) (2019.11.28)\n",
      "Requirement already satisfied: soupsieve>1.2 in e:\\anaconda3\\lib\\site-packages (from beautifulsoup4>=4.9.1->bilibili_api) (1.9.5)\n",
      "Requirement already satisfied: attrs>=17.3.0 in e:\\anaconda3\\lib\\site-packages (from aiohttp>=3.6.2->bilibili_api) (19.3.0)\n",
      "Collecting multidict<5.0,>=4.5\n",
      "  Downloading multidict-4.7.6-cp37-cp37m-win_amd64.whl (48 kB)\n",
      "Collecting async-timeout<4.0,>=3.0\n",
      "  Downloading async_timeout-3.0.1-py3-none-any.whl (8.2 kB)\n",
      "Collecting yarl<2.0,>=1.0\n",
      "  Downloading yarl-1.5.1-cp37-cp37m-win_amd64.whl (127 kB)\n",
      "Requirement already satisfied: typing-extensions>=3.7.4; python_version < \"3.8\" in e:\\anaconda3\\lib\\site-packages (from yarl<2.0,>=1.0->aiohttp>=3.6.2->bilibili_api) (3.7.4.2)\n",
      "Building wheels for collected packages: bilibili-api\n",
      "  Building wheel for bilibili-api (setup.py): started\n",
      "  Building wheel for bilibili-api (setup.py): finished with status 'done'\n",
      "  Created wheel for bilibili-api: filename=bilibili_api-2.0.2-py3-none-any.whl size=86006 sha256=bb8612823e3f8b76b6f197a5216a2893e7789108cbb983a80c7d1a2ac635e9f2\n",
      "  Stored in directory: c:\\users\\hp\\appdata\\local\\pip\\cache\\wheels\\d2\\fb\\0c\\0e198ce4992e8446c6a9815e2405a38faa52225ce125742cac\n",
      "Successfully built bilibili-api\n",
      "Installing collected packages: requests, websockets, beautifulsoup4, multidict, async-timeout, yarl, aiohttp, cssutils, bilibili-api\n",
      "  Attempting uninstall: requests\n",
      "    Found existing installation: requests 2.22.0\n",
      "    Uninstalling requests-2.22.0:\n",
      "      Successfully uninstalled requests-2.22.0\n",
      "  Attempting uninstall: beautifulsoup4\n",
      "    Found existing installation: beautifulsoup4 4.8.2\n",
      "    Uninstalling beautifulsoup4-4.8.2:\n",
      "      Successfully uninstalled beautifulsoup4-4.8.2\n",
      "Successfully installed aiohttp-3.6.2 async-timeout-3.0.1 beautifulsoup4-4.9.1 bilibili-api-2.0.2 cssutils-1.0.2 multidict-4.7.6 requests-2.24.0 websockets-8.1 yarl-1.5.1\n",
      "Note: you may need to restart the kernel to use updated packages.\n"
     ]
    },
    {
     "name": "stderr",
     "output_type": "stream",
     "text": [
      "ERROR: gensim 3.8.3 has requirement Cython==0.29.14, but you'll have cython 0.29.21 which is incompatible.\n"
     ]
    }
   ],
   "source": [
    "pip install bilibili_api"
   ]
  },
  {
   "cell_type": "code",
   "execution_count": 3,
   "metadata": {
    "ExecuteTime": {
     "end_time": "2020-08-21T10:54:44.880506Z",
     "start_time": "2020-08-21T10:54:44.870517Z"
    }
   },
   "outputs": [
    {
     "ename": "ImportError",
     "evalue": "cannot import name 'VideoInfo' from 'bilibili_api.video' (E:\\Anaconda3\\lib\\site-packages\\bilibili_api\\video.py)",
     "output_type": "error",
     "traceback": [
      "\u001b[1;31m---------------------------------------------------------------------------\u001b[0m",
      "\u001b[1;31mImportError\u001b[0m                               Traceback (most recent call last)",
      "\u001b[1;32m<ipython-input-3-a6097dfef0b5>\u001b[0m in \u001b[0;36m<module>\u001b[1;34m\u001b[0m\n\u001b[0;32m      1\u001b[0m \u001b[1;32mfrom\u001b[0m \u001b[0mbilibili_api\u001b[0m \u001b[1;32mimport\u001b[0m \u001b[0mVerify\u001b[0m\u001b[1;33m\u001b[0m\u001b[1;33m\u001b[0m\u001b[0m\n\u001b[1;32m----> 2\u001b[1;33m \u001b[1;32mfrom\u001b[0m \u001b[0mbilibili_api\u001b[0m\u001b[1;33m.\u001b[0m\u001b[0mvideo\u001b[0m \u001b[1;32mimport\u001b[0m \u001b[0mVideoInfo\u001b[0m\u001b[1;33m\u001b[0m\u001b[1;33m\u001b[0m\u001b[0m\n\u001b[0m\u001b[0;32m      3\u001b[0m \u001b[1;32mfrom\u001b[0m \u001b[0mbilibili_api\u001b[0m\u001b[1;33m.\u001b[0m\u001b[0mvideo\u001b[0m \u001b[1;32mimport\u001b[0m \u001b[0mDanmaku\u001b[0m\u001b[1;33m\u001b[0m\u001b[1;33m\u001b[0m\u001b[0m\n",
      "\u001b[1;31mImportError\u001b[0m: cannot import name 'VideoInfo' from 'bilibili_api.video' (E:\\Anaconda3\\lib\\site-packages\\bilibili_api\\video.py)"
     ]
    }
   ],
   "source": [
    "from bilibili_api import Verify\n",
    "from bilibili_api.video import VideoInfo\n",
    "from bilibili_api.video import Danmaku "
   ]
  },
  {
   "cell_type": "code",
   "execution_count": null,
   "metadata": {},
   "outputs": [],
   "source": []
  }
 ],
 "metadata": {
  "kernelspec": {
   "display_name": "Python 3",
   "language": "python",
   "name": "python3"
  },
  "language_info": {
   "codemirror_mode": {
    "name": "ipython",
    "version": 3
   },
   "file_extension": ".py",
   "mimetype": "text/x-python",
   "name": "python",
   "nbconvert_exporter": "python",
   "pygments_lexer": "ipython3",
   "version": "3.7.6"
  },
  "latex_envs": {
   "LaTeX_envs_menu_present": true,
   "autoclose": false,
   "autocomplete": true,
   "bibliofile": "biblio.bib",
   "cite_by": "apalike",
   "current_citInitial": 1,
   "eqLabelWithNumbers": true,
   "eqNumInitial": 1,
   "hotkeys": {
    "equation": "Ctrl-E",
    "itemize": "Ctrl-I"
   },
   "labels_anchors": false,
   "latex_user_defs": false,
   "report_style_numbering": false,
   "user_envs_cfg": false
  },
  "nbTranslate": {
   "displayLangs": [
    "*"
   ],
   "hotkey": "alt-t",
   "langInMainMenu": true,
   "sourceLang": "en",
   "targetLang": "fr",
   "useGoogleTranslate": true
  },
  "toc": {
   "base_numbering": 1,
   "nav_menu": {},
   "number_sections": true,
   "sideBar": true,
   "skip_h1_title": false,
   "title_cell": "Table of Contents",
   "title_sidebar": "Contents",
   "toc_cell": false,
   "toc_position": {},
   "toc_section_display": true,
   "toc_window_display": false
  }
 },
 "nbformat": 4,
 "nbformat_minor": 4
}
