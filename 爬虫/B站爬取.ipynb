{
 "cells": [
  {
   "cell_type": "code",
   "execution_count": 2,
   "metadata": {},
   "outputs": [
    {
     "name": "stdout",
     "output_type": "stream",
     "text": [
      "全站--类别开始爬取\n",
      "动画--类别开始爬取\n",
      "国创相关--类别开始爬取\n",
      "音乐--类别开始爬取\n",
      "舞蹈--类别开始爬取\n",
      "游戏--类别开始爬取\n",
      "科技--类别开始爬取\n",
      "数码--类别开始爬取\n",
      "生活--类别开始爬取\n",
      "鬼畜--类别开始爬取\n",
      "时尚--类别开始爬取\n",
      "娱乐--类别开始爬取\n",
      "影视--类别开始爬取\n"
     ]
    }
   ],
   "source": [
    "import requests\n",
    "import re\n",
    "import pandas as pd\n",
    "import time\n",
    "import os\n",
    "import random\n",
    "\n",
    "headers = {\n",
    "    \"User-Agent\":\"Mozilla/5.0 (Windows NT 6.1; WOW64) AppleWebKit/537.36 (KHTML, like Gecko) Chrome/69.0.3497.100 Safari/537.36\"\n",
    "    }\n",
    "\n",
    "r1 = '<img alt=\"(.*?)\" src='\n",
    "re1 = re.compile(r1)\n",
    "def get_data(url_):\n",
    "    titles = []\n",
    "    data = requests.get(url_,headers = headers).text\n",
    "    df1 = re1.findall(data)\n",
    "    titles.extend(df1)\n",
    "    results = pd.DataFrame()\n",
    "    results['标题'] = titles\n",
    "    return results\n",
    "\n",
    "\n",
    "# 创建存储路径，需要保证有底盘，可以改为其他的目录\n",
    "try:\n",
    "    os.mkdir('G:/bilibili/')\n",
    "except BaseException as be:\n",
    "    print(be)\n",
    "\n",
    "url = 'https://www.bilibili.com/ranking/all/3/0/3'\n",
    "\n",
    "urls = ['https://www.bilibili.com/ranking/all/0/0/3',\n",
    "        'https://www.bilibili.com/ranking/all/1/0/3',\n",
    "        'https://www.bilibili.com/ranking/all/168/0/3',\n",
    "        'https://www.bilibili.com/ranking/all/3/0/3',\n",
    "        'https://www.bilibili.com/ranking/all/129/0/3',\n",
    "        'https://www.bilibili.com/ranking/all/4/0/3',\n",
    "        'https://www.bilibili.com/ranking/all/36/0/3',\n",
    "        'https://www.bilibili.com/ranking/all/188/0/3',\n",
    "        'https://www.bilibili.com/ranking/all/160/0/3',\n",
    "        'https://www.bilibili.com/ranking/all/119/0/3',\n",
    "        'https://www.bilibili.com/ranking/all/155/0/3',\n",
    "        'https://www.bilibili.com/ranking/all/5/0/3',\n",
    "        'https://www.bilibili.com/ranking/all/181/0/3'\n",
    "        ]\n",
    "\n",
    "labels = ['全站','动画','国创相关','音乐','舞蹈','游戏',\n",
    "        '科技','数码','生活','鬼畜','时尚','娱乐','影视']\n",
    "\n",
    "datass = pd.DataFrame()\n",
    "for url,label in zip(urls,labels):\n",
    "    print(label+'--类别开始爬取')\n",
    "    resultss = get_data(url)\n",
    "    resultss['所属'] = label\n",
    "    resultss['排名'] = list(range(1,len(resultss)+1))\n",
    "    datass = pd.concat([datass,resultss])\n",
    "    time.sleep(random.uniform(2,4))\n",
    "# 将数据保存在excel中        \n",
    "datass.to_excel('G:/bilibili/数据.xlsx',index = None)"
   ]
  },
  {
   "cell_type": "code",
   "execution_count": null,
   "metadata": {
    "collapsed": true
   },
   "outputs": [],
   "source": []
  }
 ],
 "metadata": {
  "kernelspec": {
   "display_name": "Python 3",
   "language": "python",
   "name": "python3"
  },
  "language_info": {
   "codemirror_mode": {
    "name": "ipython",
    "version": 3
   },
   "file_extension": ".py",
   "mimetype": "text/x-python",
   "name": "python",
   "nbconvert_exporter": "python",
   "pygments_lexer": "ipython3",
   "version": "3.6.3"
  },
  "latex_envs": {
   "LaTeX_envs_menu_present": true,
   "autoclose": false,
   "autocomplete": true,
   "bibliofile": "biblio.bib",
   "cite_by": "apalike",
   "current_citInitial": 1,
   "eqLabelWithNumbers": true,
   "eqNumInitial": 1,
   "hotkeys": {
    "equation": "Ctrl-E",
    "itemize": "Ctrl-I"
   },
   "labels_anchors": false,
   "latex_user_defs": false,
   "report_style_numbering": false,
   "user_envs_cfg": false
  }
 },
 "nbformat": 4,
 "nbformat_minor": 2
}
