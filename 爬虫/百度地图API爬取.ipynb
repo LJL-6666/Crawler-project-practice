{
 "cells": [
  {
   "cell_type": "code",
   "execution_count": 1,
   "metadata": {
    "ExecuteTime": {
     "end_time": "2020-09-21T07:09:56.342702Z",
     "start_time": "2020-09-21T07:09:50.064223Z"
    }
   },
   "outputs": [],
   "source": [
    "import requests\n",
    "import json\n",
    "import pandas as pd"
   ]
  },
  {
   "cell_type": "code",
   "execution_count": 2,
   "metadata": {
    "ExecuteTime": {
     "end_time": "2020-09-21T07:10:03.168682Z",
     "start_time": "2020-09-21T07:10:03.164694Z"
    }
   },
   "outputs": [],
   "source": [
    "url='http://api.map.baidu.com/place/v2/search'"
   ]
  },
  {
   "cell_type": "code",
   "execution_count": 36,
   "metadata": {
    "ExecuteTime": {
     "end_time": "2020-09-21T07:26:00.430821Z",
     "start_time": "2020-09-21T07:26:00.424840Z"
    }
   },
   "outputs": [],
   "source": [
    "params = {\n",
    "        'query': '海上风电场',                #检索关键字\n",
    "        'region':  '江苏',\n",
    "        'output': 'json',               #输出格式为json\n",
    "        'scope': '2',                   #检索结果详细程度。取值为1 或空，则返回基本信息；取值为2，返回检索POI详细信息\n",
    "        'page_size': 20,                #单次召回POI数量，默认为10条记录，最大返回20条。\n",
    "        'page_num': 0,                  #分页页码，默认为0,0代表第一页，1代表第二页，以此类推。\n",
    "        'ak': 'sGvQ6ALT1eRRCSGEewo4gdXrNtOgHCG4'\n",
    "    } "
   ]
  },
  {
   "cell_type": "code",
   "execution_count": 37,
   "metadata": {
    "ExecuteTime": {
     "end_time": "2020-09-21T07:26:10.899198Z",
     "start_time": "2020-09-21T07:26:10.317759Z"
    }
   },
   "outputs": [
    {
     "name": "stdout",
     "output_type": "stream",
     "text": [
      "{'status': 0, 'message': 'ok', 'total': 4, 'results': [{'name': '华能大丰海上风电场', 'location': {'lat': 33.148953, 'lng': 120.851584}, 'address': '盐城市大丰区', 'province': '江苏省', 'city': '盐城市', 'area': '大丰区', 'detail': 1, 'uid': '274ba5106cb2ccd462685897', 'detail_info': {'tag': '公司企业;公司', 'type': 'enterprise', 'detail_url': 'http://api.map.baidu.com/place/detail?uid=274ba5106cb2ccd462685897&output=html&source=placeapi_v2', 'children': []}}, {'name': '大丰海上风电场集控中心', 'location': {'lat': 33.149177, 'lng': 120.852577}, 'address': '江苏省盐城市大丰区', 'province': '江苏省', 'city': '盐城市', 'area': '大丰区', 'detail': 1, 'uid': 'd2005d7a59fa50e8077ce807', 'detail_info': {'tag': '生活服务;公用事业', 'type': 'life', 'detail_url': 'http://api.map.baidu.com/place/detail?uid=d2005d7a59fa50e8077ce807&output=html&source=placeapi_v2', 'image_num': '1', 'children': []}}, {'name': '强盛海上风电设备公司', 'location': {'lat': 33.216151, 'lng': 120.81468}, 'address': '港经济开发区管委会大丰港二期码头', 'province': '江苏省', 'city': '盐城市', 'area': '大丰区', 'detail': 1, 'uid': 'daab71b99912a5100b1cc74f', 'detail_info': {'tag': '公司企业;公司', 'navi_location': {'lng': 120.81450018225, 'lat': 33.215935406031}, 'type': 'enterprise', 'detail_url': 'http://api.map.baidu.com/place/detail?uid=daab71b99912a5100b1cc74f&output=html&source=placeapi_v2', 'children': []}}, {'name': '国电投海上风电公司', 'location': {'lat': 33.379648, 'lng': 120.144385}, 'address': '解放路中建大厦11楼', 'province': '江苏省', 'city': '盐城市', 'area': '亭湖区', 'street_id': '8b0d6c1bf33827bb4151c051', 'detail': 1, 'uid': '8b0d6c1bf33827bb4151c051', 'detail_info': {'tag': '公司企业;公司', 'type': 'enterprise', 'detail_url': 'http://api.map.baidu.com/place/detail?uid=8b0d6c1bf33827bb4151c051&output=html&source=placeapi_v2', 'children': []}}]}\n"
     ]
    }
   ],
   "source": [
    "res = requests.get(url,params=params)\n",
    "content = res.text\n",
    "decodejson = json.loads(content)  \n",
    "print(decodejson)"
   ]
  },
  {
   "cell_type": "code",
   "execution_count": 38,
   "metadata": {
    "ExecuteTime": {
     "end_time": "2020-09-21T07:26:16.057879Z",
     "start_time": "2020-09-21T07:26:16.052880Z"
    }
   },
   "outputs": [],
   "source": [
    "fd=decodejson['results']"
   ]
  },
  {
   "cell_type": "code",
   "execution_count": 39,
   "metadata": {
    "ExecuteTime": {
     "end_time": "2020-09-21T07:26:18.365063Z",
     "start_time": "2020-09-21T07:26:18.356087Z"
    }
   },
   "outputs": [
    {
     "data": {
      "text/plain": [
       "[{'name': '华能大丰海上风电场',\n",
       "  'location': {'lat': 33.148953, 'lng': 120.851584},\n",
       "  'address': '盐城市大丰区',\n",
       "  'province': '江苏省',\n",
       "  'city': '盐城市',\n",
       "  'area': '大丰区',\n",
       "  'detail': 1,\n",
       "  'uid': '274ba5106cb2ccd462685897',\n",
       "  'detail_info': {'tag': '公司企业;公司',\n",
       "   'type': 'enterprise',\n",
       "   'detail_url': 'http://api.map.baidu.com/place/detail?uid=274ba5106cb2ccd462685897&output=html&source=placeapi_v2',\n",
       "   'children': []}},\n",
       " {'name': '大丰海上风电场集控中心',\n",
       "  'location': {'lat': 33.149177, 'lng': 120.852577},\n",
       "  'address': '江苏省盐城市大丰区',\n",
       "  'province': '江苏省',\n",
       "  'city': '盐城市',\n",
       "  'area': '大丰区',\n",
       "  'detail': 1,\n",
       "  'uid': 'd2005d7a59fa50e8077ce807',\n",
       "  'detail_info': {'tag': '生活服务;公用事业',\n",
       "   'type': 'life',\n",
       "   'detail_url': 'http://api.map.baidu.com/place/detail?uid=d2005d7a59fa50e8077ce807&output=html&source=placeapi_v2',\n",
       "   'image_num': '1',\n",
       "   'children': []}},\n",
       " {'name': '强盛海上风电设备公司',\n",
       "  'location': {'lat': 33.216151, 'lng': 120.81468},\n",
       "  'address': '港经济开发区管委会大丰港二期码头',\n",
       "  'province': '江苏省',\n",
       "  'city': '盐城市',\n",
       "  'area': '大丰区',\n",
       "  'detail': 1,\n",
       "  'uid': 'daab71b99912a5100b1cc74f',\n",
       "  'detail_info': {'tag': '公司企业;公司',\n",
       "   'navi_location': {'lng': 120.81450018225, 'lat': 33.215935406031},\n",
       "   'type': 'enterprise',\n",
       "   'detail_url': 'http://api.map.baidu.com/place/detail?uid=daab71b99912a5100b1cc74f&output=html&source=placeapi_v2',\n",
       "   'children': []}},\n",
       " {'name': '国电投海上风电公司',\n",
       "  'location': {'lat': 33.379648, 'lng': 120.144385},\n",
       "  'address': '解放路中建大厦11楼',\n",
       "  'province': '江苏省',\n",
       "  'city': '盐城市',\n",
       "  'area': '亭湖区',\n",
       "  'street_id': '8b0d6c1bf33827bb4151c051',\n",
       "  'detail': 1,\n",
       "  'uid': '8b0d6c1bf33827bb4151c051',\n",
       "  'detail_info': {'tag': '公司企业;公司',\n",
       "   'type': 'enterprise',\n",
       "   'detail_url': 'http://api.map.baidu.com/place/detail?uid=8b0d6c1bf33827bb4151c051&output=html&source=placeapi_v2',\n",
       "   'children': []}}]"
      ]
     },
     "execution_count": 39,
     "metadata": {},
     "output_type": "execute_result"
    }
   ],
   "source": [
    "fd"
   ]
  },
  {
   "cell_type": "code",
   "execution_count": 40,
   "metadata": {
    "ExecuteTime": {
     "end_time": "2020-09-21T07:26:23.065378Z",
     "start_time": "2020-09-21T07:26:23.059358Z"
    }
   },
   "outputs": [],
   "source": [
    "name=[]\n",
    "location=[]\n",
    "province=[]\n",
    "city=[]\n",
    "area=[]\n",
    "overall_rating=[]\n",
    "comment_num=[]"
   ]
  },
  {
   "cell_type": "code",
   "execution_count": 41,
   "metadata": {
    "ExecuteTime": {
     "end_time": "2020-09-21T07:26:26.048107Z",
     "start_time": "2020-09-21T07:26:26.035109Z"
    }
   },
   "outputs": [
    {
     "ename": "IndexError",
     "evalue": "list index out of range",
     "output_type": "error",
     "traceback": [
      "\u001b[1;31m---------------------------------------------------------------------------\u001b[0m",
      "\u001b[1;31mIndexError\u001b[0m                                Traceback (most recent call last)",
      "\u001b[1;32m<ipython-input-41-7b1cc993cbe7>\u001b[0m in \u001b[0;36m<module>\u001b[1;34m\u001b[0m\n\u001b[0;32m      1\u001b[0m \u001b[1;32mfor\u001b[0m \u001b[0mi\u001b[0m \u001b[1;32min\u001b[0m \u001b[0mrange\u001b[0m\u001b[1;33m(\u001b[0m\u001b[1;36m5\u001b[0m\u001b[1;33m)\u001b[0m\u001b[1;33m:\u001b[0m\u001b[1;33m\u001b[0m\u001b[1;33m\u001b[0m\u001b[0m\n\u001b[1;32m----> 2\u001b[1;33m     \u001b[0mname\u001b[0m\u001b[1;33m.\u001b[0m\u001b[0mappend\u001b[0m\u001b[1;33m(\u001b[0m\u001b[0mfd\u001b[0m\u001b[1;33m[\u001b[0m\u001b[0mi\u001b[0m\u001b[1;33m]\u001b[0m\u001b[1;33m[\u001b[0m\u001b[1;34m'name'\u001b[0m\u001b[1;33m]\u001b[0m\u001b[1;33m)\u001b[0m\u001b[1;33m\u001b[0m\u001b[1;33m\u001b[0m\u001b[0m\n\u001b[0m\u001b[0;32m      3\u001b[0m     \u001b[0mlocation\u001b[0m\u001b[1;33m.\u001b[0m\u001b[0mappend\u001b[0m\u001b[1;33m(\u001b[0m\u001b[0mfd\u001b[0m\u001b[1;33m[\u001b[0m\u001b[0mi\u001b[0m\u001b[1;33m]\u001b[0m\u001b[1;33m[\u001b[0m\u001b[1;34m'location'\u001b[0m\u001b[1;33m]\u001b[0m\u001b[1;33m)\u001b[0m\u001b[1;33m\u001b[0m\u001b[1;33m\u001b[0m\u001b[0m\n\u001b[0;32m      4\u001b[0m     \u001b[0mprovince\u001b[0m\u001b[1;33m.\u001b[0m\u001b[0mappend\u001b[0m\u001b[1;33m(\u001b[0m\u001b[0mfd\u001b[0m\u001b[1;33m[\u001b[0m\u001b[0mi\u001b[0m\u001b[1;33m]\u001b[0m\u001b[1;33m[\u001b[0m\u001b[1;34m'province'\u001b[0m\u001b[1;33m]\u001b[0m\u001b[1;33m)\u001b[0m\u001b[1;33m\u001b[0m\u001b[1;33m\u001b[0m\u001b[0m\n\u001b[0;32m      5\u001b[0m     \u001b[0mcity\u001b[0m\u001b[1;33m.\u001b[0m\u001b[0mappend\u001b[0m\u001b[1;33m(\u001b[0m\u001b[0mfd\u001b[0m\u001b[1;33m[\u001b[0m\u001b[0mi\u001b[0m\u001b[1;33m]\u001b[0m\u001b[1;33m[\u001b[0m\u001b[1;34m'city'\u001b[0m\u001b[1;33m]\u001b[0m\u001b[1;33m)\u001b[0m\u001b[1;33m\u001b[0m\u001b[1;33m\u001b[0m\u001b[0m\n",
      "\u001b[1;31mIndexError\u001b[0m: list index out of range"
     ]
    }
   ],
   "source": [
    "for i in range(5):\n",
    "    name.append(fd[i]['name'])\n",
    "    location.append(fd[i]['location'])\n",
    "    province.append(fd[i]['province'])\n",
    "    city.append(fd[i]['city'])\n",
    "    area.append(fd[i]['area'])\n",
    "    #overall_rating.append(laji[i]['detail_info']['overall_rating'])\n",
    "    #comment_num.append(laji[i]['detail_info']['comment_num']) "
   ]
  },
  {
   "cell_type": "code",
   "execution_count": 42,
   "metadata": {
    "ExecuteTime": {
     "end_time": "2020-09-21T07:26:29.598521Z",
     "start_time": "2020-09-21T07:26:29.592536Z"
    }
   },
   "outputs": [],
   "source": [
    "columns1={'名称':name,'地址':location,'省份':province,'城市':city,'行政区':area}"
   ]
  },
  {
   "cell_type": "code",
   "execution_count": 43,
   "metadata": {
    "ExecuteTime": {
     "end_time": "2020-09-21T07:26:33.389837Z",
     "start_time": "2020-09-21T07:26:33.379862Z"
    }
   },
   "outputs": [],
   "source": [
    "data_allpage1=pd.DataFrame(columns1)"
   ]
  },
  {
   "cell_type": "code",
   "execution_count": 47,
   "metadata": {
    "ExecuteTime": {
     "end_time": "2020-09-21T08:04:06.093084Z",
     "start_time": "2020-09-21T08:04:06.064158Z"
    }
   },
   "outputs": [
    {
     "data": {
      "text/html": [
       "<div>\n",
       "<style scoped>\n",
       "    .dataframe tbody tr th:only-of-type {\n",
       "        vertical-align: middle;\n",
       "    }\n",
       "\n",
       "    .dataframe tbody tr th {\n",
       "        vertical-align: top;\n",
       "    }\n",
       "\n",
       "    .dataframe thead th {\n",
       "        text-align: right;\n",
       "    }\n",
       "</style>\n",
       "<table border=\"1\" class=\"dataframe\">\n",
       "  <thead>\n",
       "    <tr style=\"text-align: right;\">\n",
       "      <th></th>\n",
       "      <th>名称</th>\n",
       "      <th>地址</th>\n",
       "      <th>省份</th>\n",
       "      <th>城市</th>\n",
       "      <th>行政区</th>\n",
       "    </tr>\n",
       "  </thead>\n",
       "  <tbody>\n",
       "    <tr>\n",
       "      <th>0</th>\n",
       "      <td>华能大丰海上风电场</td>\n",
       "      <td>{'lat': 33.148953, 'lng': 120.851584}</td>\n",
       "      <td>江苏省</td>\n",
       "      <td>盐城市</td>\n",
       "      <td>大丰区</td>\n",
       "    </tr>\n",
       "    <tr>\n",
       "      <th>1</th>\n",
       "      <td>大丰海上风电场集控中心</td>\n",
       "      <td>{'lat': 33.149177, 'lng': 120.852577}</td>\n",
       "      <td>江苏省</td>\n",
       "      <td>盐城市</td>\n",
       "      <td>大丰区</td>\n",
       "    </tr>\n",
       "    <tr>\n",
       "      <th>2</th>\n",
       "      <td>强盛海上风电设备公司</td>\n",
       "      <td>{'lat': 33.216151, 'lng': 120.81468}</td>\n",
       "      <td>江苏省</td>\n",
       "      <td>盐城市</td>\n",
       "      <td>大丰区</td>\n",
       "    </tr>\n",
       "    <tr>\n",
       "      <th>3</th>\n",
       "      <td>国电投海上风电公司</td>\n",
       "      <td>{'lat': 33.379648, 'lng': 120.144385}</td>\n",
       "      <td>江苏省</td>\n",
       "      <td>盐城市</td>\n",
       "      <td>亭湖区</td>\n",
       "    </tr>\n",
       "  </tbody>\n",
       "</table>\n",
       "</div>"
      ],
      "text/plain": [
       "            名称                                     地址   省份   城市  行政区\n",
       "0    华能大丰海上风电场  {'lat': 33.148953, 'lng': 120.851584}  江苏省  盐城市  大丰区\n",
       "1  大丰海上风电场集控中心  {'lat': 33.149177, 'lng': 120.852577}  江苏省  盐城市  大丰区\n",
       "2   强盛海上风电设备公司   {'lat': 33.216151, 'lng': 120.81468}  江苏省  盐城市  大丰区\n",
       "3    国电投海上风电公司  {'lat': 33.379648, 'lng': 120.144385}  江苏省  盐城市  亭湖区"
      ]
     },
     "execution_count": 47,
     "metadata": {},
     "output_type": "execute_result"
    }
   ],
   "source": [
    "data_allpage1"
   ]
  },
  {
   "cell_type": "code",
   "execution_count": 49,
   "metadata": {
    "ExecuteTime": {
     "end_time": "2020-09-21T08:05:02.933514Z",
     "start_time": "2020-09-21T08:05:02.923779Z"
    }
   },
   "outputs": [
    {
     "data": {
      "text/plain": [
       "0   NaN\n",
       "1   NaN\n",
       "2   NaN\n",
       "3   NaN\n",
       "Name: 地址, dtype: float64"
      ]
     },
     "execution_count": 49,
     "metadata": {},
     "output_type": "execute_result"
    }
   ],
   "source": [
    "data_allpage1['地址'].str.split(',')"
   ]
  },
  {
   "cell_type": "markdown",
   "metadata": {},
   "source": [
    "#  多页爬取"
   ]
  },
  {
   "cell_type": "code",
   "execution_count": 9,
   "metadata": {},
   "outputs": [],
   "source": [
    "name=[]\n",
    "location=[]\n",
    "province=[]\n",
    "city=[]\n",
    "area=[]\n",
    "overall_rating=[]\n",
    "comment_num=[]"
   ]
  },
  {
   "cell_type": "code",
   "execution_count": 16,
   "metadata": {},
   "outputs": [
    {
     "name": "stdout",
     "output_type": "stream",
     "text": [
      "第0页\n"
     ]
    },
    {
     "ename": "KeyError",
     "evalue": "'location'",
     "output_type": "error",
     "traceback": [
      "\u001b[1;31m---------------------------------------------------------------------------\u001b[0m",
      "\u001b[1;31mKeyError\u001b[0m                                  Traceback (most recent call last)",
      "\u001b[1;32m<ipython-input-16-423de55c26f3>\u001b[0m in \u001b[0;36m<module>\u001b[1;34m\u001b[0m\n\u001b[0;32m     16\u001b[0m     \u001b[1;32mfor\u001b[0m \u001b[0mi\u001b[0m \u001b[1;32min\u001b[0m \u001b[0mrange\u001b[0m\u001b[1;33m(\u001b[0m\u001b[0mlen\u001b[0m\u001b[1;33m(\u001b[0m\u001b[0mpark_xian\u001b[0m\u001b[1;33m)\u001b[0m\u001b[1;33m)\u001b[0m\u001b[1;33m:\u001b[0m\u001b[1;33m\u001b[0m\u001b[1;33m\u001b[0m\u001b[0m\n\u001b[0;32m     17\u001b[0m         \u001b[0mname\u001b[0m\u001b[1;33m.\u001b[0m\u001b[0mappend\u001b[0m\u001b[1;33m(\u001b[0m\u001b[0mpark_xian\u001b[0m\u001b[1;33m[\u001b[0m\u001b[0mi\u001b[0m\u001b[1;33m]\u001b[0m\u001b[1;33m[\u001b[0m\u001b[1;34m'name'\u001b[0m\u001b[1;33m]\u001b[0m\u001b[1;33m)\u001b[0m\u001b[1;33m\u001b[0m\u001b[1;33m\u001b[0m\u001b[0m\n\u001b[1;32m---> 18\u001b[1;33m         \u001b[0mlocation\u001b[0m\u001b[1;33m.\u001b[0m\u001b[0mappend\u001b[0m\u001b[1;33m(\u001b[0m\u001b[0mpark_xian\u001b[0m\u001b[1;33m[\u001b[0m\u001b[0mi\u001b[0m\u001b[1;33m]\u001b[0m\u001b[1;33m[\u001b[0m\u001b[1;34m'location'\u001b[0m\u001b[1;33m]\u001b[0m\u001b[1;33m)\u001b[0m\u001b[1;33m\u001b[0m\u001b[1;33m\u001b[0m\u001b[0m\n\u001b[0m\u001b[0;32m     19\u001b[0m         \u001b[0mprovince\u001b[0m\u001b[1;33m.\u001b[0m\u001b[0mappend\u001b[0m\u001b[1;33m(\u001b[0m\u001b[0mpark_xian\u001b[0m\u001b[1;33m[\u001b[0m\u001b[0mi\u001b[0m\u001b[1;33m]\u001b[0m\u001b[1;33m[\u001b[0m\u001b[1;34m'province'\u001b[0m\u001b[1;33m]\u001b[0m\u001b[1;33m)\u001b[0m\u001b[1;33m\u001b[0m\u001b[1;33m\u001b[0m\u001b[0m\n\u001b[0;32m     20\u001b[0m         \u001b[0mcity\u001b[0m\u001b[1;33m.\u001b[0m\u001b[0mappend\u001b[0m\u001b[1;33m(\u001b[0m\u001b[0mpark_xian\u001b[0m\u001b[1;33m[\u001b[0m\u001b[0mi\u001b[0m\u001b[1;33m]\u001b[0m\u001b[1;33m[\u001b[0m\u001b[1;34m'city'\u001b[0m\u001b[1;33m]\u001b[0m\u001b[1;33m)\u001b[0m\u001b[1;33m\u001b[0m\u001b[1;33m\u001b[0m\u001b[0m\n",
      "\u001b[1;31mKeyError\u001b[0m: 'location'"
     ]
    }
   ],
   "source": [
    "for i in range(20):\n",
    "    params = {\n",
    "        'query': '海上风电场',                #检索关键字\n",
    "        'region':  '上海',               #检索行政区划区域\n",
    "        'output': 'json',               #输出格式为json\n",
    "        'scope': '2',                   #检索结果详细程度。取值为1 或空，则返回基本信息；取值为2，返回检索POI详细信息\n",
    "        'page_size': 20,                #单次召回POI数量，默认为10条记录，最大返回20条。\n",
    "        'page_num': 0,                  #分页页码，默认为0,0代表第一页，1代表第二页，以此类推。\n",
    "        'ak': 'sGvQ6ALT1eRRCSGEewo4gdXrNtOgHCG4'\n",
    "    }\n",
    "    res = requests.get(url,params=params)\n",
    "    content = res.text\n",
    "    decodejson = json.loads(content)\n",
    "    park_xian=decodejson['results']\n",
    "    print('第'+str(i)+'页')\n",
    "    for i in range(len(park_xian)):\n",
    "        name.append(park_xian[i]['name'])\n",
    "        location.append(park_xian[i]['location'])\n",
    "        province.append(park_xian[i]['province'])\n",
    "        city.append(park_xian[i]['city'])\n",
    "        area.append(park_xian[i]['area'])\n",
    "        if 'overall_rating' in park_xian[i]['detail_info'].keys():\n",
    "            overall_rating.append(park_xian[i]['detail_info']['overall_rating'])\n",
    "        else:\n",
    "            overall_rating.append('none')\n",
    "        if 'comment_num' in park_xian[i]['detail_info'].keys():\n",
    "            comment_num.append(park_xian[i]['detail_info']['overall_rating'])\n",
    "        else:\n",
    "            comment_num.append('none')"
   ]
  },
  {
   "cell_type": "code",
   "execution_count": 15,
   "metadata": {},
   "outputs": [
    {
     "data": {
      "text/plain": [
       "400"
      ]
     },
     "execution_count": 15,
     "metadata": {},
     "output_type": "execute_result"
    }
   ],
   "source": [
    "len(overall_rating)"
   ]
  },
  {
   "cell_type": "code",
   "execution_count": 16,
   "metadata": {},
   "outputs": [
    {
     "data": {
      "text/plain": [
       "400"
      ]
     },
     "execution_count": 16,
     "metadata": {},
     "output_type": "execute_result"
    }
   ],
   "source": [
    "len(name)"
   ]
  },
  {
   "cell_type": "code",
   "execution_count": 17,
   "metadata": {},
   "outputs": [],
   "source": [
    "columns1={'名称':name,'地址':location,'省份':province,'城市':city,'行政区':area,'评分':overall_rating,'评论数':comment_num}"
   ]
  },
  {
   "cell_type": "code",
   "execution_count": 18,
   "metadata": {},
   "outputs": [],
   "source": [
    "data_allpage1=pd.DataFrame(columns1)"
   ]
  },
  {
   "cell_type": "code",
   "execution_count": 19,
   "metadata": {},
   "outputs": [
    {
     "data": {
      "text/plain": [
       "(400, 7)"
      ]
     },
     "execution_count": 19,
     "metadata": {},
     "output_type": "execute_result"
    }
   ],
   "source": [
    "data_allpage1.shape"
   ]
  },
  {
   "cell_type": "code",
   "execution_count": 20,
   "metadata": {},
   "outputs": [
    {
     "data": {
      "text/html": [
       "<div>\n",
       "<style scoped>\n",
       "    .dataframe tbody tr th:only-of-type {\n",
       "        vertical-align: middle;\n",
       "    }\n",
       "\n",
       "    .dataframe tbody tr th {\n",
       "        vertical-align: top;\n",
       "    }\n",
       "\n",
       "    .dataframe thead th {\n",
       "        text-align: right;\n",
       "    }\n",
       "</style>\n",
       "<table border=\"1\" class=\"dataframe\">\n",
       "  <thead>\n",
       "    <tr style=\"text-align: right;\">\n",
       "      <th></th>\n",
       "      <th>名称</th>\n",
       "      <th>地址</th>\n",
       "      <th>省份</th>\n",
       "      <th>城市</th>\n",
       "      <th>行政区</th>\n",
       "      <th>评分</th>\n",
       "      <th>评论数</th>\n",
       "    </tr>\n",
       "  </thead>\n",
       "  <tbody>\n",
       "    <tr>\n",
       "      <th>0</th>\n",
       "      <td>北京市阿苏卫垃圾综合处理中心</td>\n",
       "      <td>{'lat': 40.168655, 'lng': 116.36319}</td>\n",
       "      <td>北京市</td>\n",
       "      <td>北京市</td>\n",
       "      <td>昌平区</td>\n",
       "      <td>1.3</td>\n",
       "      <td>1.3</td>\n",
       "    </tr>\n",
       "    <tr>\n",
       "      <th>1</th>\n",
       "      <td>收废品</td>\n",
       "      <td>{'lat': 39.978264, 'lng': 116.54674}</td>\n",
       "      <td>北京市</td>\n",
       "      <td>北京市</td>\n",
       "      <td>朝阳区</td>\n",
       "      <td>5.0</td>\n",
       "      <td>5.0</td>\n",
       "    </tr>\n",
       "    <tr>\n",
       "      <th>2</th>\n",
       "      <td>二清环卫集团安定垃圾卫生填埋场</td>\n",
       "      <td>{'lat': 39.637935, 'lng': 116.530491}</td>\n",
       "      <td>北京市</td>\n",
       "      <td>北京市</td>\n",
       "      <td>大兴区</td>\n",
       "      <td>2.0</td>\n",
       "      <td>2.0</td>\n",
       "    </tr>\n",
       "    <tr>\n",
       "      <th>3</th>\n",
       "      <td>收废品</td>\n",
       "      <td>{'lat': 40.149048, 'lng': 116.299985}</td>\n",
       "      <td>北京市</td>\n",
       "      <td>北京市</td>\n",
       "      <td>昌平区</td>\n",
       "      <td>5.0</td>\n",
       "      <td>5.0</td>\n",
       "    </tr>\n",
       "    <tr>\n",
       "      <th>4</th>\n",
       "      <td>北京环卫集团四清分公司大屯垃圾转运站</td>\n",
       "      <td>{'lat': 40.012481, 'lng': 116.427494}</td>\n",
       "      <td>北京市</td>\n",
       "      <td>北京市</td>\n",
       "      <td>朝阳区</td>\n",
       "      <td>0.0</td>\n",
       "      <td>none</td>\n",
       "    </tr>\n",
       "    <tr>\n",
       "      <th>...</th>\n",
       "      <td>...</td>\n",
       "      <td>...</td>\n",
       "      <td>...</td>\n",
       "      <td>...</td>\n",
       "      <td>...</td>\n",
       "      <td>...</td>\n",
       "      <td>...</td>\n",
       "    </tr>\n",
       "    <tr>\n",
       "      <th>395</th>\n",
       "      <td>废品回收站</td>\n",
       "      <td>{'lat': 39.996533, 'lng': 116.217158}</td>\n",
       "      <td>北京市</td>\n",
       "      <td>北京市</td>\n",
       "      <td>海淀区</td>\n",
       "      <td>0.0</td>\n",
       "      <td>0.0</td>\n",
       "    </tr>\n",
       "    <tr>\n",
       "      <th>396</th>\n",
       "      <td>西王佐废品回收</td>\n",
       "      <td>{'lat': 39.813859, 'lng': 116.136308}</td>\n",
       "      <td>北京市</td>\n",
       "      <td>北京市</td>\n",
       "      <td>丰台区</td>\n",
       "      <td>5.0</td>\n",
       "      <td>5.0</td>\n",
       "    </tr>\n",
       "    <tr>\n",
       "      <th>397</th>\n",
       "      <td>废品回收</td>\n",
       "      <td>{'lat': 40.13022, 'lng': 116.281895}</td>\n",
       "      <td>北京市</td>\n",
       "      <td>北京市</td>\n",
       "      <td>昌平区</td>\n",
       "      <td>none</td>\n",
       "      <td>none</td>\n",
       "    </tr>\n",
       "    <tr>\n",
       "      <th>398</th>\n",
       "      <td>垃圾转运站</td>\n",
       "      <td>{'lat': 39.941192, 'lng': 116.32728}</td>\n",
       "      <td>北京市</td>\n",
       "      <td>北京市</td>\n",
       "      <td>海淀区</td>\n",
       "      <td>none</td>\n",
       "      <td>none</td>\n",
       "    </tr>\n",
       "    <tr>\n",
       "      <th>399</th>\n",
       "      <td>利民迎奥废品回收站</td>\n",
       "      <td>{'lat': 39.867009, 'lng': 116.539007}</td>\n",
       "      <td>北京市</td>\n",
       "      <td>北京市</td>\n",
       "      <td>朝阳区</td>\n",
       "      <td>5.0</td>\n",
       "      <td>5.0</td>\n",
       "    </tr>\n",
       "  </tbody>\n",
       "</table>\n",
       "<p>400 rows × 7 columns</p>\n",
       "</div>"
      ],
      "text/plain": [
       "                     名称                                     地址   省份   城市  行政区  \\\n",
       "0        北京市阿苏卫垃圾综合处理中心   {'lat': 40.168655, 'lng': 116.36319}  北京市  北京市  昌平区   \n",
       "1                   收废品   {'lat': 39.978264, 'lng': 116.54674}  北京市  北京市  朝阳区   \n",
       "2       二清环卫集团安定垃圾卫生填埋场  {'lat': 39.637935, 'lng': 116.530491}  北京市  北京市  大兴区   \n",
       "3                   收废品  {'lat': 40.149048, 'lng': 116.299985}  北京市  北京市  昌平区   \n",
       "4    北京环卫集团四清分公司大屯垃圾转运站  {'lat': 40.012481, 'lng': 116.427494}  北京市  北京市  朝阳区   \n",
       "..                  ...                                    ...  ...  ...  ...   \n",
       "395               废品回收站  {'lat': 39.996533, 'lng': 116.217158}  北京市  北京市  海淀区   \n",
       "396             西王佐废品回收  {'lat': 39.813859, 'lng': 116.136308}  北京市  北京市  丰台区   \n",
       "397                废品回收   {'lat': 40.13022, 'lng': 116.281895}  北京市  北京市  昌平区   \n",
       "398               垃圾转运站   {'lat': 39.941192, 'lng': 116.32728}  北京市  北京市  海淀区   \n",
       "399           利民迎奥废品回收站  {'lat': 39.867009, 'lng': 116.539007}  北京市  北京市  朝阳区   \n",
       "\n",
       "       评分   评论数  \n",
       "0     1.3   1.3  \n",
       "1     5.0   5.0  \n",
       "2     2.0   2.0  \n",
       "3     5.0   5.0  \n",
       "4     0.0  none  \n",
       "..    ...   ...  \n",
       "395   0.0   0.0  \n",
       "396   5.0   5.0  \n",
       "397  none  none  \n",
       "398  none  none  \n",
       "399   5.0   5.0  \n",
       "\n",
       "[400 rows x 7 columns]"
      ]
     },
     "execution_count": 20,
     "metadata": {},
     "output_type": "execute_result"
    }
   ],
   "source": [
    "data_allpage1"
   ]
  },
  {
   "cell_type": "code",
   "execution_count": 25,
   "metadata": {},
   "outputs": [],
   "source": [
    "E=data_allpage1.to_excel('G:/CDO/北京垃圾点.xlsx',encoding='utf-8')\n",
    "E"
   ]
  },
  {
   "cell_type": "code",
   "execution_count": null,
   "metadata": {},
   "outputs": [],
   "source": []
  }
 ],
 "metadata": {
  "kernelspec": {
   "display_name": "Python 3",
   "language": "python",
   "name": "python3"
  },
  "language_info": {
   "codemirror_mode": {
    "name": "ipython",
    "version": 3
   },
   "file_extension": ".py",
   "mimetype": "text/x-python",
   "name": "python",
   "nbconvert_exporter": "python",
   "pygments_lexer": "ipython3",
   "version": "3.7.6"
  },
  "latex_envs": {
   "LaTeX_envs_menu_present": true,
   "autoclose": false,
   "autocomplete": true,
   "bibliofile": "biblio.bib",
   "cite_by": "apalike",
   "current_citInitial": 1,
   "eqLabelWithNumbers": true,
   "eqNumInitial": 1,
   "hotkeys": {
    "equation": "Ctrl-E",
    "itemize": "Ctrl-I"
   },
   "labels_anchors": false,
   "latex_user_defs": false,
   "report_style_numbering": false,
   "user_envs_cfg": false
  },
  "nbTranslate": {
   "displayLangs": [
    "*"
   ],
   "hotkey": "alt-t",
   "langInMainMenu": true,
   "sourceLang": "en",
   "targetLang": "fr",
   "useGoogleTranslate": true
  },
  "toc": {
   "base_numbering": 1,
   "nav_menu": {},
   "number_sections": true,
   "sideBar": true,
   "skip_h1_title": false,
   "title_cell": "Table of Contents",
   "title_sidebar": "Contents",
   "toc_cell": false,
   "toc_position": {},
   "toc_section_display": true,
   "toc_window_display": false
  }
 },
 "nbformat": 4,
 "nbformat_minor": 4
}
