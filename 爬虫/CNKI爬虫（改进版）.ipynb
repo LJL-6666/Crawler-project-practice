{
 "cells": [
  {
   "cell_type": "code",
   "execution_count": 1,
   "metadata": {
    "ExecuteTime": {
     "end_time": "2020-08-28T09:15:11.253912Z",
     "start_time": "2020-08-28T09:15:05.311261Z"
    }
   },
   "outputs": [],
   "source": [
    "import requests\n",
    "from bs4 import BeautifulSoup\n",
    "import pandas as pd "
   ]
  },
  {
   "cell_type": "code",
   "execution_count": 2,
   "metadata": {
    "ExecuteTime": {
     "end_time": "2020-08-28T09:15:27.029528Z",
     "start_time": "2020-08-28T09:15:27.022540Z"
    }
   },
   "outputs": [],
   "source": [
    "def getHTMLText(url):\n",
    "    try:\n",
    "        headers = {'user-agent':'Mozilla/5.0'}\n",
    "        r = requests.get(url,timeout=30,headers=headers)\n",
    "        r.raise_for_status()\n",
    "        r.encoding = r.apparent_encoding\n",
    "        return r.text\n",
    "    except:\n",
    "        return \"产生异常\""
   ]
  },
  {
   "cell_type": "code",
   "execution_count": 3,
   "metadata": {
    "ExecuteTime": {
     "end_time": "2020-08-28T09:15:58.859419Z",
     "start_time": "2020-08-28T09:15:58.848434Z"
    }
   },
   "outputs": [],
   "source": [
    "def getPageurl(list,pageNum):\n",
    "    first_url = \"http://search.cnki.com.cn/Search.aspx?q=%e5%8c%ba%e5%9d%97%e9%93%be&rank=relevant&cluster=all&val=&p=\"\n",
    "    for i in range(pageNum):\n",
    "        i = i*15\n",
    "        soup = BeautifulSoup(getHTMLText(first_url+str(i)),'html.parser')\n",
    "        for div in soup.find_all('div',class_=\"wz_tab\"):\n",
    "            for a in div.find_all('a',target='_blank'):\n",
    "                if 'http://search.cnki.net' not in a.get('href'):\n",
    "                    list.append(a.get('href'))"
   ]
  },
  {
   "cell_type": "code",
   "execution_count": 4,
   "metadata": {
    "ExecuteTime": {
     "end_time": "2020-08-28T09:16:14.267418Z",
     "start_time": "2020-08-28T09:16:14.243485Z"
    }
   },
   "outputs": [],
   "source": [
    "def getOnePage(list,pagetext):\n",
    "    for oneurl in list:\n",
    "        try:\n",
    "            onepage={}\n",
    "            tempL=[]\n",
    "            soup = BeautifulSoup(getHTMLText(oneurl),'html.parser')\n",
    "            onepage['题目']=soup.head.title.string#题目\n",
    "            onepage['关键词'] = soup.head.find_all('meta')[3].get('content')#关键词\n",
    "            au = []\n",
    "            for div in soup.find_all('div',style=\"text-align:center; width:740px; height:30px;\"):#作者\n",
    "                for a in div.find_all('a',target=\"_blank\"):\n",
    "                    au.append(a.string)\n",
    "            onepage['作者'] = au\n",
    "            for div in soup.find_all('div',style='float:left;'):\n",
    "                for b in div.find_all('b'):#机构\n",
    "                    onepage['机构']=b.string.strip()\n",
    "                for font in div.find_all('font',color='#0080ff'):#年份\n",
    "                    onepage['年份']=font.string.strip()\n",
    "            for div in soup.find_all('div',id=\"div_Ref\"):#相似文献、引用文献等\n",
    "                ref=[]\n",
    "                for td in div.find_all('td',rowspan=\"2\",align=\"left\",valign=\"bottom\",class_=\"b14\"):\n",
    "                    getType = td.string[1:5]\n",
    "                for a in div.find_all('a',target=\"_blank\"):\n",
    "                    ref.append(a.string)\n",
    "                onepage[getType] = ref\n",
    "            for table in soup.find_all('table',cellspacing=\"0\",cellpadding=\"0\",width=\"100%\",style=\"border:1px solid #7498d6;\"):\n",
    "                temp=[]\n",
    "                for a in table.find_all('a',target=\"_blank\"):#相关机构和相关作者\n",
    "                    temp.append(a.string)\n",
    "                tempL.append(temp)\n",
    "            if len(tempL) > 0:\n",
    "                onepage['相关机构'] = tempL[len(tempL)-2]\n",
    "                onepage['相关作者'] = tempL[len(tempL)-1]\n",
    "            pagetext.append(onepage)\n",
    "        except:\n",
    "            pass\n",
    "        continue"
   ]
  },
  {
   "cell_type": "code",
   "execution_count": 18,
   "metadata": {
    "ExecuteTime": {
     "end_time": "2020-08-28T09:36:58.217572Z",
     "start_time": "2020-08-28T09:36:32.996572Z"
    }
   },
   "outputs": [],
   "source": [
    "ls = []\n",
    "pagetext=[]\n",
    "getPageurl(ls,20)#设置爬取页数\n",
    "getOnePage(ls,pagetext) "
   ]
  },
  {
   "cell_type": "code",
   "execution_count": 19,
   "metadata": {
    "ExecuteTime": {
     "end_time": "2020-08-28T09:36:58.225550Z",
     "start_time": "2020-08-28T09:36:58.221561Z"
    }
   },
   "outputs": [],
   "source": [
    "frame = pd.DataFrame(pagetext)"
   ]
  },
  {
   "cell_type": "code",
   "execution_count": 20,
   "metadata": {
    "ExecuteTime": {
     "end_time": "2020-08-28T09:37:08.778768Z",
     "start_time": "2020-08-28T09:37:08.766771Z"
    }
   },
   "outputs": [
    {
     "data": {
      "text/html": [
       "<div>\n",
       "<style scoped>\n",
       "    .dataframe tbody tr th:only-of-type {\n",
       "        vertical-align: middle;\n",
       "    }\n",
       "\n",
       "    .dataframe tbody tr th {\n",
       "        vertical-align: top;\n",
       "    }\n",
       "\n",
       "    .dataframe thead th {\n",
       "        text-align: right;\n",
       "    }\n",
       "</style>\n",
       "<table border=\"1\" class=\"dataframe\">\n",
       "  <thead>\n",
       "    <tr style=\"text-align: right;\">\n",
       "      <th></th>\n",
       "    </tr>\n",
       "  </thead>\n",
       "  <tbody>\n",
       "  </tbody>\n",
       "</table>\n",
       "</div>"
      ],
      "text/plain": [
       "Empty DataFrame\n",
       "Columns: []\n",
       "Index: []"
      ]
     },
     "execution_count": 20,
     "metadata": {},
     "output_type": "execute_result"
    }
   ],
   "source": [
    "frame.head() "
   ]
  },
  {
   "cell_type": "code",
   "execution_count": 8,
   "metadata": {
    "ExecuteTime": {
     "end_time": "2020-08-28T09:18:24.876920Z",
     "start_time": "2020-08-28T09:18:24.151966Z"
    }
   },
   "outputs": [],
   "source": [
    "writer = pd.ExcelWriter('G:/CDO/知网研学/CNKI-analysis-master/Jupyter notebook/1.xlsx')"
   ]
  },
  {
   "cell_type": "code",
   "execution_count": 9,
   "metadata": {
    "ExecuteTime": {
     "end_time": "2020-08-28T09:18:27.399458Z",
     "start_time": "2020-08-28T09:18:27.391480Z"
    }
   },
   "outputs": [],
   "source": [
    "frame.to_excel(writer,'Sheet1')"
   ]
  },
  {
   "cell_type": "code",
   "execution_count": 10,
   "metadata": {
    "ExecuteTime": {
     "end_time": "2020-08-28T09:18:29.992522Z",
     "start_time": "2020-08-28T09:18:29.904735Z"
    }
   },
   "outputs": [],
   "source": [
    "writer.save()"
   ]
  },
  {
   "cell_type": "code",
   "execution_count": null,
   "metadata": {},
   "outputs": [],
   "source": []
  }
 ],
 "metadata": {
  "kernelspec": {
   "display_name": "Python 3",
   "language": "python",
   "name": "python3"
  },
  "language_info": {
   "codemirror_mode": {
    "name": "ipython",
    "version": 3
   },
   "file_extension": ".py",
   "mimetype": "text/x-python",
   "name": "python",
   "nbconvert_exporter": "python",
   "pygments_lexer": "ipython3",
   "version": "3.7.6"
  },
  "latex_envs": {
   "LaTeX_envs_menu_present": true,
   "autoclose": false,
   "autocomplete": true,
   "bibliofile": "biblio.bib",
   "cite_by": "apalike",
   "current_citInitial": 1,
   "eqLabelWithNumbers": true,
   "eqNumInitial": 1,
   "hotkeys": {
    "equation": "Ctrl-E",
    "itemize": "Ctrl-I"
   },
   "labels_anchors": false,
   "latex_user_defs": false,
   "report_style_numbering": false,
   "user_envs_cfg": false
  },
  "nbTranslate": {
   "displayLangs": [
    "*"
   ],
   "hotkey": "alt-t",
   "langInMainMenu": true,
   "sourceLang": "en",
   "targetLang": "fr",
   "useGoogleTranslate": true
  },
  "toc": {
   "base_numbering": 1,
   "nav_menu": {},
   "number_sections": true,
   "sideBar": true,
   "skip_h1_title": false,
   "title_cell": "Table of Contents",
   "title_sidebar": "Contents",
   "toc_cell": false,
   "toc_position": {},
   "toc_section_display": true,
   "toc_window_display": false
  }
 },
 "nbformat": 4,
 "nbformat_minor": 2
}
