{
 "cells": [
  {
   "cell_type": "code",
   "execution_count": 1,
   "metadata": {},
   "outputs": [],
   "source": [
    "import os\n",
    "os.getcwd()\n",
    "os.chdir(\"G:/CDO/\")"
   ]
  },
  {
   "cell_type": "code",
   "execution_count": 2,
   "metadata": {},
   "outputs": [],
   "source": [
    "import requests\n",
    "import json\n",
    "import time\n",
    "import emoji\n",
    "import schedule"
   ]
  },
  {
   "cell_type": "code",
   "execution_count": null,
   "metadata": {},
   "outputs": [],
   "source": [
    "def job():\n",
    "    print(\"当前时间::\"+time.strftime(\"%Y-%m-%d\", time.localtime(time.time()))+' '+time.strftime(\"%H:%M:%S\",time.localtime(time.time())))\n",
    "    with open('G:/CDO/微博.txt', 'r') as f:\n",
    "        file = f.read()\n",
    "    for i in range(1, 17):\n",
    "        print('第{0}页'.format(i))\n",
    "        header = {\n",
    "            'User-Agent': 'Mozilla/5.0 (Linux; Android 6.0; Nexus 5 Build/MRA58N) AppleWebKit/537.36 (KHTML, like Gecko) Chrome/80.0.3987.149 Mobile Safari/537.36'\n",
    "        }\n",
    "\n",
    "        if i == 1:\n",
    "            url = 'https://m.weibo.cn/comments/hotflow?id=4480264908680491&mid=4480264908680491&max_id_type=0'\n",
    "        else:\n",
    "            url = 'https://m.weibo.cn/comments/hotflow?id=4480264908680491&mid=4480264908680491&max_id={0}&max_id_type=0'.format(max_id)\n",
    "        cookie = {\n",
    "            'Cookie': 'WEIBOCN_FROM=1110006030; SUB=_2A25zcoUPDeRhGeBI6VMU8CfKyDWIHXVQnCtHrDV6PUJbkdAfLWfhkW1NRo58igeTqnxu-pGGxH8RH_-vDC0GB52m; SUHB=0ebdzJPisT2xjK; _T_WM=32826781591; MLOGIN=1; XSRF-TOKEN=2bb8ec; M_WEIBOCN_PARAMS=luicode%3D10000011%26lfid%3D100103type%253D38%2526q%253D%25E5%2587%25BA%25E7%2589%2588%25E7%25A4%25BE%2526t%253D0%26from%3D102003%26fid%3D231522type%253D1%2526t%253D10%2526q%253D%2523%25E5%2587%25BA%25E7%2589%2588%25E7%25A4%25BE%2523%26uicode%3D10000011'  #填自己的cookie数据\n",
    "        }\n",
    "        response = requests.get(url, headers=header, cookies=cookie)\n",
    "        text = json.loads(response.text)['data']\n",
    "        max_id = text['max_id']\n",
    "        comments = text['data']\n",
    "        for j in comments:\n",
    "            comment = j['text']   #评论内容\n",
    "            name = j['user']['screen_name']   #评论者昵称\n",
    "            created_at = j['created_at']   #评论时间\n",
    "            print(name, created_at, comment)\n",
    "            if comment in file:\n",
    "                pass\n",
    "            else:\n",
    "                try:\n",
    "                    with open('G:/CDO/微博.txt', 'a') as f:\n",
    "                        f.write(name, created_at, comment+ '\\n')\n",
    "                except:\n",
    "                    pass\n",
    "\n",
    "schedule.every(30).minutes.do(job)\n",
    "job()\n",
    "while True:\n",
    "    schedule.run_pending()"
   ]
  },
  {
   "cell_type": "code",
   "execution_count": null,
   "metadata": {},
   "outputs": [],
   "source": []
  }
 ],
 "metadata": {
  "kernelspec": {
   "display_name": "Python 3",
   "language": "python",
   "name": "python3"
  },
  "language_info": {
   "codemirror_mode": {
    "name": "ipython",
    "version": 3
   },
   "file_extension": ".py",
   "mimetype": "text/x-python",
   "name": "python",
   "nbconvert_exporter": "python",
   "pygments_lexer": "ipython3",
   "version": "3.7.4"
  }
 },
 "nbformat": 4,
 "nbformat_minor": 2
}
