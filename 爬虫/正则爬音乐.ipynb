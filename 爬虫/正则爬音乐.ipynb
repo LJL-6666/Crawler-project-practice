{
 "cells": [
  {
   "cell_type": "code",
   "execution_count": 1,
   "metadata": {},
   "outputs": [],
   "source": [
    "import os\n",
    "os.getcwd()\n",
    "os.chdir(\"G:/CDO/数据存储和获取/正则/正则爬音乐\")\n",
    "import requests\n",
    "import re"
   ]
  },
  {
   "cell_type": "code",
   "execution_count": 2,
   "metadata": {},
   "outputs": [
    {
     "data": {
      "text/plain": [
       "'<!DOCTYPE html>\\n<html lang=\"zh-cmn-Hans\" class=\"ua-windows ua-webkit\">\\n<head>\\n    <meta http-equiv=\"Content-Type\" content=\"text/html; charset=utf-8\">\\n    <meta name=\"renderer\" content=\"webkit\">\\n    <meta name=\"referrer\" content=\"always\">\\n    <meta name=\"google-site-verification\" content=\"ok0wCgT20tBBgo9_zat2iAcimtN4Ftf5ccsh092Xeyw\" />\\n    <title> 音乐排行榜 </title>\\n    \\n    <meta http-equiv=\"Pragma\" content=\"no-cache\">\\n    <meta http-equiv=\"Expires\" content=\"Sun, 6 Mar 2005 01:00:00 GMT\">\\n    \\n    <script >var _head_start = new Date();</script>\\n    <script src=\"https://img9.doubanio.com/f/music/b66ed708717bf0b4a005a4d0113af8843ef3b8ff/js/music/lib/jquery-1.11.0.min.js\"></script>\\n    <script src=\"https://img9.doubanio.com/f/music/dcd7ea79bfc24a0b5d9a280a8ca59acceddd56be/js/music/lib/jquery-migrate-1.2.1.js\"></script>\\n    <script src=\"https://img9.doubanio.com/f/shire/5ecaf46d6954d5a30bc7d99be86ae34031646e00/js/douban.js\"></script>\\n    <script src=\"https://img9.doubanio.com/f/shire/77323ae72a612bba8b65f845491513ff3329b1bb/js/do.js\" data-cfg-autoload=\"false\"></script>\\n    <link href=\"https://img9.doubanio.com/f/shire/3e5dfc68b0f376484c50cf08a58bbca3700911dc/css/douban.css\" rel=\"stylesheet\" type=\"text/css\">\\n    <link href=\"https://img9.doubanio.com/f/music/6276708bd0b43f4891f02f84a0c66e5241bea03e/css/music/init.css\" rel=\"stylesheet\" type=\"text/css\" />\\n    <style type=\"text/css\">\\n    \\n    \\n    </style>\\n    \\n<script>\\nfunction set_cookie(t,e,o,n){var i,a,r=new Date;r.setTime(r.getTime()+24*(e||30)*60*60*1e3),i=\"; expires=\"+r.toGMTString();for(a in t)document.cookie=a+\"=\"+t[a]+i+\"; domain=\"+(o||\"douban.com\")+\"; path=\"+(n||\"/\")}function get_cookie(t){var e,o,n=t+\"=\",i=document.cookie.split(\";\");for(e=0;e<i.length;e++){for(o=i[e];\" \"==o.charAt(0);)o=o.substring(1,o.length);if(0===o.indexOf(n))return o.substring(n.length,o.length).replace(/\\\\\"/g,\"\")}return null}window.Douban=window.Douban||{};var Do=function(){Do.actions.push([].slice.call(arguments))};Do.ready=function(){Do.actions.push([].slice.call(arguments))},Do.add=Do.define=function(t,e){Do.mods[t]=e},Do.global=function(){Do.global.mods=Array.prototype.concat(Do.global.mods,[].slice.call(arguments))},Do.global.mods=[],Do.mods={},Do.actions=[],Douban.init_show_login=function(t){Do(\"dialog\",function(){var t=\"/j/misc/login_form\";dui.Dialog({title:\"登录\",url:t,width:/device-mobile/i.test(document.documentElement.className)?.9*document.documentElement.offsetWidth:350,cache:!0,callback:function(t,e){e.node.addClass(\"dialog-login\"),e.node.find(\"h2\").css(\"display\",\"none\"),e.node.find(\".hd h3\").replaceWith(e.node.find(\".bd h3\")),e.node.find(\"form\").css({border:\"none\",width:\"auto\",padding:\"0\"}),e.update()}}).open()})},Do(function(){function t(t,e){var o=[\"ref=\"+encodeURIComponent(location.pathname)];for(var n in e)e.hasOwnProperty(n)&&o.push(n+\"=\"+e[n]);window._SPLITTEST&&o.push(\"splittest=\"+window._SPLITTEST),localStorage.setItem(\"report\",(localStorage.getItem(\"report\")||\"\")+\"_moreurl_separator_\"+o.join(\"&\"))}!function(){\"localStorage\"in window||(window.localStorage=function(){var t=document;if(!t.documentElement.addBehavior)throw\"don\\'t support localstorage or userdata.\";var e=\"_localstorage_ie\",o=t.createElement(\"input\");o.type=\"hidden\";var n=function(n){return function(){t.body.appendChild(o),o.addBehavior(\"#default#userData\");var i=new Date;i.setDate(i.getDate()+365),o.expires=i.toUTCString(),o.load(e);var a=n.apply(o,arguments);return t.body.removeChild(o),a}};return{getItem:n(function(t){return this.getAttribute(t)}),setItem:n(function(t,o){this.setAttribute(t,o),this.save(e)}),removeItem:n(function(t){this.removeAttribute(t),this.save(e)}),clear:n(function(){for(var t,o=this.XMLDocument.documentElement.attributes,n=0;t=o[n];n++)this.removeAttribute(t.name);this.save(e)})}}())}(),$(window).one(\"load\",function(){var t=localStorage.getItem(\"report\");if(t){t=t.split(\"_moreurl_separator_\");var e=function(o){return\"\"==o?void e(t.shift()):void $.get(\"undefined\"==typeof _MOREURL_REQ?\"/stat.html?\"+o:_MOREURL_REQ+\"?\"+o,function(){return t.length?(e(t.shift()),void localStorage.setItem(\"report\",t.join(\"_moreurl_separator_\"))):void localStorage.removeItem(\"report\")})};e(t.shift())}}),window.moreurl=t,$(document).click(function(e){var o=e.target,n=$(o).data(\"moreurl-dict\");n&&t(o,n)}),$.ajax_withck=function(t){return\"POST\"==t.type&&(t.data=$.extend(t.data||{},{ck:get_cookie(\"ck\")})),$.ajax(t)},$.postJSON_withck=function(t,e,o){return $.post_withck(t,e,o,\"json\")},$.post_withck=function(t,e,o,n){return $.isFunction(e)&&(n=o,o=e,e={}),$.ajax({type:\"POST\",url:t,data:$.extend(e,{ck:get_cookie(\"ck\")}),success:o,dataType:n||\"text\"})},$(\"html\").click(function(t){var e=$(t.target),o=e.attr(\"class\");o&&$(o.match(/a_(\\\\w+)/gi)).each($.proxy(function(e,o){var n=Douban[o.replace(/^a_/,\"init_\")];\"function\"==typeof n&&(t.preventDefault(),n.call(this,t))},e[0]))})});\\n\\n</script>\\n<link rel=\"stylesheet\" href=\"https://img9.doubanio.com/f/music/89e93100dcacde1f28063e94b853016333a3e2d6/css/music/player_button.css\">\\n\\n    <!-- COLLECTED CSS -->\\n    <script></script>\\n\\n    <link rel=\"shortcut icon\" href=\"https://img9.doubanio.com/favicon.ico\" type=\"image/x-icon\">\\n</head>\\n\\n<body>\\n  \\n    <script type=\"text/javascript\">var _body_start = new Date();</script>\\n    \\n       \\n\\n\\n\\n    <link href=\"//img3.doubanio.com/dae/accounts/resources/f5f3d66/shire/bundle.css\" rel=\"stylesheet\" type=\"text/css\">\\n\\n\\n\\n<div id=\"db-global-nav\" class=\"global-nav\">\\n  <div class=\"bd\">\\n    \\n<div class=\"top-nav-info\">\\n  <a href=\"https://accounts.douban.com/passport/login?source=music\" class=\"nav-login\" rel=\"nofollow\">登录/注册</a>\\n</div>\\n\\n\\n    <div class=\"top-nav-doubanapp\">\\n  <a href=\"https://www.douban.com/doubanapp/app?channel=top-nav\" class=\"lnk-doubanapp\">下载豆瓣客户端</a>\\n  <div id=\"doubanapp-tip\">\\n    <a href=\"https://www.douban.com/doubanapp/app?channel=qipao\" class=\"tip-link\">豆瓣 <span class=\"version\">6.0</span> 全新发布</a>\\n    <a href=\"javascript: void 0;\" class=\"tip-close\">×</a>\\n  </div>\\n  <div id=\"top-nav-appintro\" class=\"more-items\">\\n    <p class=\"appintro-title\">豆瓣</p>\\n    <p class=\"qrcode\">扫码直接下载</p>\\n    <div class=\"download\">\\n      <a href=\"https://www.douban.com/doubanapp/redirect?channel=top-nav&direct_dl=1&download=iOS\">iPhone</a>\\n      <span>·</span>\\n      <a href=\"https://www.douban.com/doubanapp/redirect?channel=top-nav&direct_dl=1&download=Android\" class=\"download-android\">Android</a>\\n    </div>\\n  </div>\\n</div>\\n\\n    \\n\\n\\n<div class=\"global-nav-items\">\\n  <ul>\\n    <li class=\"\">\\n      <a href=\"https://www.douban.com\" target=\"_blank\" data-moreurl-dict=\"{&quot;from&quot;:&quot;top-nav-click-main&quot;,&quot;uid&quot;:&quot;0&quot;}\">豆瓣</a>\\n    </li>\\n    <li class=\"\">\\n      <a href=\"https://book.douban.com\" target=\"_blank\" data-moreurl-dict=\"{&quot;from&quot;:&quot;top-nav-click-book&quot;,&quot;uid&quot;:&quot;0&quot;}\">读书</a>\\n    </li>\\n    <li class=\"\">\\n      <a href=\"https://movie.douban.com\" target=\"_blank\" data-moreurl-dict=\"{&quot;from&quot;:&quot;top-nav-click-movie&quot;,&quot;uid&quot;:&quot;0&quot;}\">电影</a>\\n    </li>\\n    <li class=\"on\">\\n      <a href=\"https://music.douban.com\"  data-moreurl-dict=\"{&quot;from&quot;:&quot;top-nav-click-music&quot;,&quot;uid&quot;:&quot;0&quot;}\">音乐</a>\\n    </li>\\n    <li class=\"\">\\n      <a href=\"https://www.douban.com/location\" target=\"_blank\" data-moreurl-dict=\"{&quot;from&quot;:&quot;top-nav-click-location&quot;,&quot;uid&quot;:&quot;0&quot;}\">同城</a>\\n    </li>\\n    <li class=\"\">\\n      <a href=\"https://www.douban.com/group\" target=\"_blank\" data-moreurl-dict=\"{&quot;from&quot;:&quot;top-nav-click-group&quot;,&quot;uid&quot;:&quot;0&quot;}\">小组</a>\\n    </li>\\n    <li class=\"\">\\n      <a href=\"https://read.douban.com&#47;?dcs=top-nav&amp;dcm=douban\" target=\"_blank\" data-moreurl-dict=\"{&quot;from&quot;:&quot;top-nav-click-read&quot;,&quot;uid&quot;:&quot;0&quot;}\">阅读</a>\\n    </li>\\n    <li class=\"\">\\n      <a href=\"https://douban.fm&#47;?from_=shire_top_nav\" target=\"_blank\" data-moreurl-dict=\"{&quot;from&quot;:&quot;top-nav-click-fm&quot;,&quot;uid&quot;:&quot;0&quot;}\">FM</a>\\n    </li>\\n    <li class=\"\">\\n      <a href=\"https://time.douban.com&#47;?dt_time_source=douban-web_top_nav\" target=\"_blank\" data-moreurl-dict=\"{&quot;from&quot;:&quot;top-nav-click-time&quot;,&quot;uid&quot;:&quot;0&quot;}\">时间</a>\\n    </li>\\n    <li class=\"\">\\n      <a href=\"https://market.douban.com&#47;?utm_campaign=douban_top_nav&amp;utm_source=douban&amp;utm_medium=pc_web\" target=\"_blank\" data-moreurl-dict=\"{&quot;from&quot;:&quot;top-nav-click-market&quot;,&quot;uid&quot;:&quot;0&quot;}\">豆品</a>\\n    </li>\\n    <li>\\n      <a href=\"#more\" class=\"bn-more\"><span>更多</span></a>\\n      <div class=\"more-items\">\\n        <table cellpadding=\"0\" cellspacing=\"0\">\\n          <tbody>\\n            <tr>\\n              <td>\\n                <a href=\"https://ypy.douban.com\" target=\"_blank\" data-moreurl-dict=\"{&quot;from&quot;:&quot;top-nav-click-ypy&quot;,&quot;uid&quot;:&quot;0&quot;}\">豆瓣摄影</a>\\n              </td>\\n            </tr>\\n          </tbody>\\n        </table>\\n      </div>\\n    </li>\\n  </ul>\\n</div>\\n\\n  </div>\\n</div>\\n<script>\\n  ;window._GLOBAL_NAV = {\\n    DOUBAN_URL: \"https://www.douban.com\",\\n    N_NEW_NOTIS: 0,\\n    N_NEW_DOUMAIL: 0\\n  };\\n</script>\\n\\n\\n\\n    <script src=\"//img3.doubanio.com/dae/accounts/resources/f5f3d66/shire/bundle.js\" defer=\"defer\"></script>\\n\\n\\n\\n\\n       \\n\\n\\n\\n    <link href=\"//img3.doubanio.com/dae/accounts/resources/f5f3d66/music/bundle.css\" rel=\"stylesheet\" type=\"text/css\">\\n\\n\\n\\n\\n<div id=\"db-nav-music\" class=\"nav\">\\n  <div class=\"nav-wrap\">\\n  <div class=\"nav-primary\">\\n    <div class=\"nav-logo\">\\n      <a href=\"https:&#47;&#47;music.douban.com\">豆瓣音乐</a>\\n    </div>\\n    <div class=\"nav-search\">\\n      <form action=\"https:&#47;&#47;search.douban.com&#47;music/subject_search\" method=\"get\">\\n        <fieldset>\\n          <legend>搜索：</legend>\\n          <label for=\"inp-query\">\\n          </label>\\n          <div class=\"inp\"><input id=\"inp-query\" name=\"search_text\" size=\"22\" maxlength=\"60\" placeholder=\"唱片名、表演者、条码、ISRC\" value=\"\"></div>\\n          <div class=\"inp-btn\"><input type=\"submit\" value=\"搜索\"></div>\\n          <input type=\"hidden\" name=\"cat\" value=\"1003\" />\\n        </fieldset>\\n      </form>\\n    </div>\\n  </div>\\n  </div>\\n  <div class=\"nav-secondary\">\\n    \\n\\n<div class=\"nav-items\">\\n  <ul>\\n    <li    ><a href=\"https://music.douban.com/artists/\"\\n     >音乐人</a>\\n    </li>\\n    <li    ><a href=\"https://www.douban.com/wetware/\"\\n     >潮潮豆瓣音乐周</a>\\n    </li>\\n    <li    ><a href=\"https://music.douban.com/artists/royalty/\"\\n     >金羊毛计划</a>\\n    </li>\\n    <li    ><a href=\"https://music.douban.com/topics/\"\\n     >专题</a>\\n    </li>\\n    <li    ><a href=\"https://music.douban.com/chart\"\\n     >排行榜</a>\\n    </li>\\n    <li    ><a href=\"https://music.douban.com/tag/\"\\n     >分类浏览</a>\\n    </li>\\n    <li    ><a href=\"https://music.douban.com/review/latest/\"\\n     >乐评</a>\\n    </li>\\n    <li    ><a href=\"https://douban.fm/?from_=music_nav\"\\n     >豆瓣FM</a>\\n    </li>\\n    <li    ><a href=\"https://douban.fm/explore/songlists/\"\\n     >歌单</a>\\n    </li>\\n    <li    ><a href=\"https://music.douban.com/annual/2019?source=navigation\"\\n            target=\"_blank\"\\n     >2019年度榜单</a>\\n    </li>\\n    <li    ><a href=\"https://artist.douban.com/abilu/\"\\n     >阿比鹿音乐奖</a>\\n    </li>\\n  </ul>\\n</div>\\n\\n    <a href=\"https://music.douban.com/annual/2019?source=music_navigation\" class=\"musicannual\"></a>\\n  </div>\\n</div>\\n\\n<script id=\"suggResult\" type=\"text/x-jquery-tmpl\">\\n  <li data-link=\"{{= url}}\">\\n            <a href=\"{{= url}}\" onclick=\"moreurl(this, {from:\\'music_search_sugg\\', query:\\'{{= keyword }}\\', subject_id:\\'{{= id}}\\', i: \\'{{= index}}\\', type: \\'{{= type}}\\'})\">\\n            <img src=\"{{= pic}}\" width=\"40\" />\\n            <div>\\n                <em>{{= title}}</em>\\n                {{if type == \"m\"}}\\n                    <span>(艺术家)</span>\\n                {{else type == \"a\"}}\\n                    <span>(音乐人)</span>\\n                {{else type == \"d\"}}\\n                    <span>(DJ)</span>\\n                {{else type == \"l\"}}\\n                    <span>(厂牌)</span>\\n                {{/if}}\\n                {{if other_title}}\\n                    <span>其他名称：{{= other_title}}</span>\\n                {{/if}}\\n                {{if performer}}\\n                    <p>表演者：{{= performer}}</p>\\n                {{/if}}\\n                {{if cn_name}}\\n                    <p>{{= cn_name}}</p>\\n                {{/if}}\\n                {{if en_name}}\\n                    <p>{{= en_name}}</p>\\n                {{/if}}\\n            </div>\\n        </a>\\n        </li>\\n  </script>\\n\\n\\n\\n\\n    <script src=\"//img3.doubanio.com/dae/accounts/resources/f5f3d66/music/bundle.js\" defer=\"defer\"></script>\\n\\n\\n\\n\\n\\n    <div id=\"wrapper\">\\n        \\n\\n        \\n<div id=\"content\">\\n    \\n    <h1>音乐排行榜</h1>\\n\\n    <div class=\"grid-16-8 clearfix\">\\n        \\n        \\n        <div class=\"article\">\\n               \\n<div class=\"mod\">\\n\\n<h2>\\n    <span>本周音乐人最热单曲榜&nbsp;&nbsp;</span>\\n    <span class=\"span-player-btn\">\\n        <i class=\"icon icon-play\">\\ue80a</i>\\n    </span>\\n</h2>\\n\\n<ul class=\"col5\">\\n    \\n    <li class=\"clearfix\">\\n        <span class=\"green-num-box\">1</span>\\n        <a class=\"face\" href=\"https://site.douban.com/tiaogezi/\" target=\"_blank\">\\n            <img src=\"https://img9.doubanio.com/view/site/small/public/7e7752822836a02.jpg\">\\n        </a>\\n        <div class=\"intro\">\\n            <h3 class=\"icon-play\" data-sid=\"755490\">\\n              <a href=\"javascript:;\">送艾力</a>\\n            </h3>\\n\\n            <p>跳格子&nbsp;/&nbsp;1141次播放</p>\\n        </div>\\n        <span class=\"days\">(上榜6天)</span>\\n        <span class=\"trend arrow-stay\"> 0 </span>\\n    </li>\\n    \\n    <li class=\"clearfix\">\\n        <span class=\"green-num-box\">2</span>\\n        <a class=\"face\" href=\"https://site.douban.com/xiaohe/\" target=\"_blank\">\\n            <img src=\"https://img9.doubanio.com/view/site/small/public/9c0b8609d3ffc13.jpg\">\\n        </a>\\n        <div class=\"intro\">\\n            <h3 class=\"icon-play\" data-sid=\"755085\">\\n              <a href=\"javascript:;\">《你正梦着我的梦》電影《巴鐵女孩》片尾曲</a>\\n            </h3>\\n\\n            <p>小河&nbsp;/&nbsp;558次播放</p>\\n        </div>\\n        <span class=\"days\">(上榜6天)</span>\\n        <span class=\"trend arrow-stay\"> 0 </span>\\n    </li>\\n    \\n    <li class=\"clearfix\">\\n        <span class=\"green-num-box\">3</span>\\n        <a class=\"face\" href=\"https://site.douban.com/demonobeats/\" target=\"_blank\">\\n            <img src=\"https://img9.doubanio.com/view/site/small/public/07b28a5e3b31a55.jpg\">\\n        </a>\\n        <div class=\"intro\">\\n            <h3 class=\"icon-play\" data-sid=\"754937\">\\n              <a href=\"javascript:;\">03 I am a Man</a>\\n            </h3>\\n\\n            <p>尹力&nbsp;/&nbsp;256次播放</p>\\n        </div>\\n        <span class=\"days\">(上榜4天)</span>\\n        <span class=\"trend arrow-up\"> 2 </span>\\n    </li>\\n    \\n    <li class=\"clearfix\">\\n        <span class=\"green-num-box\">4</span>\\n        <a class=\"face\" href=\"https://site.douban.com/sparkylee/\" target=\"_blank\">\\n            <img src=\"https://img9.doubanio.com/view/site/small/public/f4ecb88ef6c170f.jpg\">\\n        </a>\\n        <div class=\"intro\">\\n            <h3 class=\"icon-play\" data-sid=\"755461\">\\n              <a href=\"javascript:;\">Sink A Feud, Finally</a>\\n            </h3>\\n\\n            <p>拟 白&nbsp;/&nbsp;1173次播放</p>\\n        </div>\\n        <span class=\"days\">(上榜9天)</span>\\n        <span class=\"trend arrow-down\"> 1 </span>\\n    </li>\\n    \\n    <li class=\"clearfix\">\\n        <span class=\"green-num-box\">5</span>\\n        <a class=\"face\" href=\"https://site.douban.com/left/\" target=\"_blank\">\\n            <img src=\"https://img9.doubanio.com/view/site/small/public/a88538f0a4438fd.jpg\">\\n        </a>\\n        <div class=\"intro\">\\n            <h3 class=\"icon-play\" data-sid=\"755739\">\\n              <a href=\"javascript:;\">我们都感染了病毒</a>\\n            </h3>\\n\\n            <p>熊熊作业&nbsp;/&nbsp;140次播放</p>\\n        </div>\\n        <span class=\"days\">(上榜4天)</span>\\n        <span class=\"trend arrow-up\"> 3 </span>\\n    </li>\\n    \\n    <li class=\"clearfix\">\\n        <span class=\"green-num-box\">6</span>\\n        <a class=\"face\" href=\"https://site.douban.com/justinblue/\" target=\"_blank\">\\n            <img src=\"https://img9.doubanio.com/view/site/small/public/f362e744dcb61c7.jpg\">\\n        </a>\\n        <div class=\"intro\">\\n            <h3 class=\"icon-play\" data-sid=\"754726\">\\n              <a href=\"javascript:;\">Ex&#39;s and Oh&#39;s (Live Cover)</a>\\n            </h3>\\n\\n            <p>蓝色的小刀&nbsp;/&nbsp;181次播放</p>\\n        </div>\\n        <span class=\"days\">(上榜4天)</span>\\n        <span class=\"trend arrow-up\"> 3 </span>\\n    </li>\\n    \\n    <li class=\"clearfix\">\\n        <span class=\"green-num-box\">7</span>\\n        <a class=\"face\" href=\"https://site.douban.com/guyangming/\" target=\"_blank\">\\n            <img src=\"https://img9.doubanio.com/view/site/small/public/add9e4c152c3d35.jpg\">\\n        </a>\\n        <div class=\"intro\">\\n            <h3 class=\"icon-play\" data-sid=\"755271\">\\n              <a href=\"javascript:;\">｢因梦寻湖山｣﹣小坠</a>\\n            </h3>\\n\\n            <p>大♂古&nbsp;/&nbsp;224次播放</p>\\n        </div>\\n        <span class=\"days\">(上榜9天)</span>\\n        <span class=\"trend arrow-down\"> 1 </span>\\n    </li>\\n    \\n    <li class=\"clearfix\">\\n        <span class=\"green-num-box\">8</span>\\n        <a class=\"face\" href=\"https://site.douban.com/yuzhoumusic/\" target=\"_blank\">\\n            <img src=\"https://img9.doubanio.com/view/site/small/public/5af355b611901eb.jpg\">\\n        </a>\\n        <div class=\"intro\">\\n            <h3 class=\"icon-play\" data-sid=\"755189\">\\n              <a href=\"javascript:;\">春风轻轻地吹</a>\\n            </h3>\\n\\n            <p>渔舟&nbsp;/&nbsp;400次播放</p>\\n        </div>\\n        <span class=\"days\">(上榜11天)</span>\\n        <span class=\"trend arrow-down\"> 4 </span>\\n    </li>\\n    \\n    <li class=\"clearfix\">\\n        <span class=\"green-num-box\">9</span>\\n        <a class=\"face\" href=\"https://site.douban.com/huhufox/\" target=\"_blank\">\\n            <img src=\"https://img9.doubanio.com/view/site/small/public/9345bb397206406.jpg\">\\n        </a>\\n        <div class=\"intro\">\\n            <h3 class=\"icon-play\" data-sid=\"755297\">\\n              <a href=\"javascript:;\">嗷呜 demo</a>\\n            </h3>\\n\\n            <p>有狐绥绥&nbsp;/&nbsp;367次播放</p>\\n        </div>\\n        <span class=\"days\">(上榜13天)</span>\\n        <span class=\"trend arrow-down\"> 2 </span>\\n    </li>\\n    \\n    <li class=\"clearfix\">\\n        <span class=\"green-num-box\">10</span>\\n        <a class=\"face\" href=\"https://site.douban.com/jes/\" target=\"_blank\">\\n            <img src=\"https://img9.doubanio.com/view/site/small/public/b3c7211e28fce8e.jpg\">\\n        </a>\\n        <div class=\"intro\">\\n            <h3 class=\"icon-play\" data-sid=\"755239\">\\n              <a href=\"javascript:;\">Demo-遗失的海鸟-20200228</a>\\n            </h3>\\n\\n            <p>Jes&nbsp;/&nbsp;349次播放</p>\\n        </div>\\n        <span class=\"days\">(上榜13天)</span>\\n        <span class=\"trend arrow-stay\"> 0 </span>\\n    </li>\\n\\n    \\n    <li class=\"clearfix\">\\n        <span class=\"green-num-box\">11</span>\\n        <div class=\"intro\">\\n            <p class=\"icon-play\" data-sid=\"755454\">\\n                <a href=\"javascript:;\">Darling</a>\\n                Alysia&nbsp;/&nbsp;63次播放\\n            </p>\\n        </div>\\n        <span class=\"days\">(上榜2天)</span>\\n        <span class=\"trend arrow-up\"> 10 </span>\\n    </li>\\n    \\n    <li class=\"clearfix\">\\n        <span class=\"green-num-box\">12</span>\\n        <div class=\"intro\">\\n            <p class=\"icon-play\" data-sid=\"755004\">\\n                <a href=\"javascript:;\">3.1415926</a>\\n                李蚂蚁&nbsp;/&nbsp;21次播放\\n            </p>\\n        </div>\\n        <span class=\"days\">(上榜2天)</span>\\n        <span class=\"trend arrow-up\"> 9 </span>\\n    </li>\\n    \\n    <li class=\"clearfix\">\\n        <span class=\"green-num-box\">13</span>\\n        <div class=\"intro\">\\n            <p class=\"icon-play\" data-sid=\"755108\">\\n                <a href=\"javascript:;\">我们不是朋友（已售）</a>\\n                博友文化音乐工作室&nbsp;/&nbsp;25次播放\\n            </p>\\n        </div>\\n        <span class=\"days\">(上榜2天)</span>\\n        <span class=\"trend arrow-up\"> 8 </span>\\n    </li>\\n    \\n    <li class=\"clearfix\">\\n        <span class=\"green-num-box\">14</span>\\n        <div class=\"intro\">\\n            <p class=\"icon-play\" data-sid=\"755801\">\\n                <a href=\"javascript:;\">Project 2 - 26:2:20, 22.00</a>\\n                贾博昊&nbsp;/&nbsp;8次播放\\n            </p>\\n        </div>\\n        <span class=\"days\">(上榜2天)</span>\\n        <span class=\"trend arrow-up\"> 7 </span>\\n    </li>\\n    \\n    <li class=\"clearfix\">\\n        <span class=\"green-num-box\">15</span>\\n        <div class=\"intro\">\\n            <p class=\"icon-play\" data-sid=\"754719\">\\n                <a href=\"javascript:;\">邓演说一百九十一</a>\\n                邓赟崽&nbsp;/&nbsp;5次播放\\n            </p>\\n        </div>\\n        <span class=\"days\">(上榜2天)</span>\\n        <span class=\"trend arrow-up\"> 6 </span>\\n    </li>\\n    \\n    <li class=\"clearfix\">\\n        <span class=\"green-num-box\">16</span>\\n        <div class=\"intro\">\\n            <p class=\"icon-play\" data-sid=\"755759\">\\n                <a href=\"javascript:;\">over the rainbow（翻唱）</a>\\n                Naomi&nbsp;/&nbsp;7次播放\\n            </p>\\n        </div>\\n        <span class=\"days\">(上榜2天)</span>\\n        <span class=\"trend arrow-up\"> 5 </span>\\n    </li>\\n    \\n    <li class=\"clearfix\">\\n        <span class=\"green-num-box\">17</span>\\n        <div class=\"intro\">\\n            <p class=\"icon-play\" data-sid=\"755665\">\\n                <a href=\"javascript:;\">我要骂你咯</a>\\n                超级喜欢彩虹啊&nbsp;/&nbsp;23次播放\\n            </p>\\n        </div>\\n        <span class=\"days\">(上榜2天)</span>\\n        <span class=\"trend arrow-up\"> 4 </span>\\n    </li>\\n    \\n    <li class=\"clearfix\">\\n        <span class=\"green-num-box\">18</span>\\n        <div class=\"intro\">\\n            <p class=\"icon-play\" data-sid=\"754980\">\\n                <a href=\"javascript:;\">我眼里的你</a>\\n                太红健&nbsp;/&nbsp;190次播放\\n            </p>\\n        </div>\\n        <span class=\"days\">(上榜2天)</span>\\n        <span class=\"trend arrow-up\"> 3 </span>\\n    </li>\\n    \\n    <li class=\"clearfix\">\\n        <span class=\"green-num-box\">19</span>\\n        <div class=\"intro\">\\n            <p class=\"icon-play\" data-sid=\"755476\">\\n                <a href=\"javascript:;\">Manta（纯人声版 Cover 刘柏辛）</a>\\n                寻声人声乐团&nbsp;/&nbsp;544次播放\\n            </p>\\n        </div>\\n        <span class=\"days\">(上榜2天)</span>\\n        <span class=\"trend arrow-up\"> 2 </span>\\n    </li>\\n    \\n    <li class=\"clearfix\">\\n        <span class=\"green-num-box\">20</span>\\n        <div class=\"intro\">\\n            <p class=\"icon-play\" data-sid=\"755276\">\\n                <a href=\"javascript:;\">breeze and clouds</a>\\n                Falling Into Fall&nbsp;/&nbsp;79次播放\\n            </p>\\n        </div>\\n        <span class=\"days\">(上榜13天)</span>\\n        <span class=\"trend arrow-down\"> 4 </span>\\n    </li>\\n</ul>\\n</div>\\n<script>$(\\'.col5 h3, .col5 .icon-play\\').click(function(){document.location=$(\\'a\\', this).attr(\\'href\\');})</script>\\n\\n        </div>\\n        <div class=\"aside\">\\n                \\n\\n<div class=\"mod\">\\n    <h2>豆瓣新碟榜&nbsp;&nbsp;· · · · · ·</h2>\\n    <ul class=\"col3\">\\n    \\n    <li class=\"clearfix\">\\n        <span class=\"rank\">1</span>\\n        <p class=\"entry\">\\n            <a href=\"https://music.douban.com/subject/34964557/\">面面</a>\\n            &nbsp;/&nbsp;苏慧伦 Tarcy Su\\n        </p>\\n        <span class=\"days\"> 上榜5天 </span>\\n    </li>\\n    \\n    <li class=\"clearfix\">\\n        <span class=\"rank\">2</span>\\n        <p class=\"entry\">\\n            <a href=\"https://music.douban.com/subject/34969402/\">IT&#39;z ME</a>\\n            &nbsp;/&nbsp;있지\\n        </p>\\n        <span class=\"days\"> 上榜5天 </span>\\n    </li>\\n    \\n    <li class=\"clearfix\">\\n        <span class=\"rank\">3</span>\\n        <p class=\"entry\">\\n            <a href=\"https://music.douban.com/subject/34967704/\">2집 NCT #127 Neo Zone</a>\\n            &nbsp;/&nbsp;NCT 127\\n        </p>\\n        <span class=\"days\"> 上榜7天 </span>\\n    </li>\\n    \\n    <li class=\"clearfix\">\\n        <span class=\"rank\">4</span>\\n        <p class=\"entry\">\\n            <a href=\"https://music.douban.com/subject/34941831/\">4집 MAP OF THE SOUL : 7</a>\\n            &nbsp;/&nbsp;방탄소년단\\n        </p>\\n        <span class=\"days\"> 上榜31天 </span>\\n    </li>\\n    \\n    <li class=\"clearfix\">\\n        <span class=\"rank\">5</span>\\n        <p class=\"entry\">\\n            <a href=\"https://music.douban.com/subject/34914490/\">~how i’m feeling~</a>\\n            &nbsp;/&nbsp;Lauv\\n        </p>\\n        <span class=\"days\"> 上榜8天 </span>\\n    </li>\\n    \\n    <li class=\"clearfix\">\\n        <span class=\"rank\">6</span>\\n        <p class=\"entry\">\\n            <a href=\"https://music.douban.com/subject/34964810/\">歌手·当打之年 第1期</a>\\n            &nbsp;/&nbsp;华晨宇\\n        </p>\\n        <span class=\"days\"> 上榜32天 </span>\\n    </li>\\n    \\n    <li class=\"clearfix\">\\n        <span class=\"rank\">7</span>\\n        <p class=\"entry\">\\n            <a href=\"https://music.douban.com/subject/34963681/\">黑马王子</a>\\n            &nbsp;/&nbsp;马思唯\\n        </p>\\n        <span class=\"days\"> 上榜15天 </span>\\n    </li>\\n    \\n    <li class=\"clearfix\">\\n        <span class=\"rank\">8</span>\\n        <p class=\"entry\">\\n            <a href=\"https://music.douban.com/subject/34972182/\">爱不隔离</a>\\n            &nbsp;/&nbsp;韩磊 Lei.Han\\n        </p>\\n        <span class=\"days\"> 上榜1天 </span>\\n    </li>\\n    \\n    <li class=\"clearfix\">\\n        <span class=\"rank\">9</span>\\n        <p class=\"entry\">\\n            <a href=\"https://music.douban.com/subject/34958774/\">Changes</a>\\n            &nbsp;/&nbsp;Justin Bieber\\n        </p>\\n        <span class=\"days\"> 上榜29天 </span>\\n    </li>\\n    \\n    <li class=\"clearfix\">\\n        <span class=\"rank\">10</span>\\n        <p class=\"entry\">\\n            <a href=\"https://music.douban.com/subject/34874601/\">1집 BLOOM*IZ</a>\\n            &nbsp;/&nbsp;아이즈원\\n        </p>\\n        <span class=\"days\"> 上榜21天 </span>\\n    </li>\\n    </ul>\\n</div>\\n\\n\\n<!-- douban ad begin -->\\n<div id=\"dale_music_chart_top_right\"></div>\\n<!-- douban ad end -->\\n\\n\\n<div id=\"pop_artist\" class=\"mod\">\\n    <h2>本周流行音乐人&nbsp;&nbsp;· · · · · ·</h2>\\n    <ul class=\"col3\">\\n    <li class=\"clearfix\">\\n        <span class=\"green-num-box\"> 1 </span>\\n        <a class=\"face\" href=\"https://site.douban.com/tiaogezi/\">\\n            <img src=\"https://img9.doubanio.com/view/site/small/public/7e7752822836a02.jpg\">\\n        </a>\\n        <div class=\"intro\">\\n            <h3><a href=\"https://site.douban.com/tiaogezi/\">跳格子</a></h3>\\n            <p>\\n                流派: 民谣 Folk<br>1817人关注\\n            </p>\\n        </div>\\n    </li>\\n    <li class=\"clearfix\">\\n        <span class=\"green-num-box\"> 2 </span>\\n        <a class=\"face\" href=\"https://site.douban.com/sparkylee/\">\\n            <img src=\"https://img9.doubanio.com/view/site/small/public/f4ecb88ef6c170f.jpg\">\\n        </a>\\n        <div class=\"intro\">\\n            <h3><a href=\"https://site.douban.com/sparkylee/\">拟 白</a></h3>\\n            <p>\\n                流派: 电子 Electronica<br>160人关注\\n            </p>\\n        </div>\\n    </li>\\n    <li class=\"clearfix\">\\n        <span class=\"green-num-box\"> 3 </span>\\n        <a class=\"face\" href=\"https://site.douban.com/left/\">\\n            <img src=\"https://img9.doubanio.com/view/site/small/public/a88538f0a4438fd.jpg\">\\n        </a>\\n        <div class=\"intro\">\\n            <h3><a href=\"https://site.douban.com/left/\">熊熊作业</a></h3>\\n            <p>\\n                流派: 原声 Soundtrack<br>2293人关注\\n            </p>\\n        </div>\\n    </li>\\n    <li class=\"clearfix\">\\n        <span class=\"green-num-box\"> 4 </span>\\n        <a class=\"face\" href=\"https://site.douban.com/xiaohe/\">\\n            <img src=\"https://img9.doubanio.com/view/site/small/public/9c0b8609d3ffc13.jpg\">\\n        </a>\\n        <div class=\"intro\">\\n            <h3><a href=\"https://site.douban.com/xiaohe/\">小河</a></h3>\\n            <p>\\n                流派: 民谣 Folk<br>25782人关注\\n            </p>\\n        </div>\\n    </li>\\n    <li class=\"clearfix\">\\n        <span class=\"green-num-box\"> 5 </span>\\n        <a class=\"face\" href=\"https://site.douban.com/demonobeats/\">\\n            <img src=\"https://img9.doubanio.com/view/site/small/public/07b28a5e3b31a55.jpg\">\\n        </a>\\n        <div class=\"intro\">\\n            <h3><a href=\"https://site.douban.com/demonobeats/\">尹力</a></h3>\\n            <p>\\n                流派: 电子 Electronica<br>63人关注\\n            </p>\\n        </div>\\n    </li>\\n    <li class=\"clearfix\">\\n        <span class=\"green-num-box\"> 6 </span>\\n        <a class=\"face\" href=\"https://site.douban.com/guyangming/\">\\n            <img src=\"https://img9.doubanio.com/view/site/small/public/add9e4c152c3d35.jpg\">\\n        </a>\\n        <div class=\"intro\">\\n            <h3><a href=\"https://site.douban.com/guyangming/\">大♂古</a></h3>\\n            <p>\\n                流派: 世界音乐 World<br>187人关注\\n            </p>\\n        </div>\\n    </li>\\n    <li class=\"clearfix\">\\n        <span class=\"green-num-box\"> 7 </span>\\n        <a class=\"face\" href=\"https://site.douban.com/mayi12121/\">\\n            <img src=\"https://img9.doubanio.com/view/site/small/public/35f69caea851f5d.jpg\">\\n        </a>\\n        <div class=\"intro\">\\n            <h3><a href=\"https://site.douban.com/mayi12121/\">李蚂蚁</a></h3>\\n            <p>\\n                流派: 民谣 Folk<br>77人关注\\n            </p>\\n        </div>\\n    </li>\\n    <li class=\"clearfix\">\\n        <span class=\"green-num-box\"> 8 </span>\\n        <a class=\"face\" href=\"https://site.douban.com/findavox/\">\\n            <img src=\"https://img9.doubanio.com/view/site/small/public/52a77664b7cb165.jpg\">\\n        </a>\\n        <div class=\"intro\">\\n            <h3><a href=\"https://site.douban.com/findavox/\">寻声人声乐团</a></h3>\\n            <p>\\n                流派: 流行 Pop<br>1235人关注\\n            </p>\\n        </div>\\n    </li>\\n    <li class=\"clearfix\">\\n        <span class=\"green-num-box\"> 9 </span>\\n        <a class=\"face\" href=\"https://site.douban.com/westhill/\">\\n            <img src=\"https://img9.doubanio.com/view/site/small/public/7d2aed077a13584.jpg\">\\n        </a>\\n        <div class=\"intro\">\\n            <h3><a href=\"https://site.douban.com/westhill/\">冯佳界&amp;西山</a></h3>\\n            <p>\\n                流派: 民谣 Folk<br>1911人关注\\n            </p>\\n        </div>\\n    </li>\\n    <li class=\"clearfix\">\\n        <span class=\"green-num-box\"> 10 </span>\\n        <a class=\"face\" href=\"https://site.douban.com/kindlethemoor/\">\\n            <img src=\"https://img9.doubanio.com/view/site/small/public/9335e3d2b1919d2.jpg\">\\n        </a>\\n        <div class=\"intro\">\\n            <h3><a href=\"https://site.douban.com/kindlethemoor/\">刘陆伟释魂乐队冥燚</a></h3>\\n            <p>\\n                流派: 摇滚 Rock<br>1897人关注\\n            </p>\\n        </div>\\n    </li>\\n    </ul>\\n</div>\\n\\n\\n        </div>\\n        <div class=\"extra\">\\n            \\n    <!-- douban ad begin -->\\n    <div id=\"dale_music_chart_bottom_banner\"></div>\\n    <!-- douban ad end -->\\n\\n        </div>\\n    </div>\\n</div>\\n\\n        \\n<div id=\"footer\">\\n    \\n<span id=\"icp\" class=\"fleft gray-link\">\\n    &copy; 2005－2020 douban.com, all rights reserved 北京豆网科技有限公司\\n</span>\\n\\n<a href=\"https://www.douban.com/hnypt/variformcyst.py\" style=\"display: none;\"></a>\\n\\n<span class=\"fright\">\\n    <a href=\"https://www.douban.com/about\">关于豆瓣</a>\\n    · <a href=\"https://www.douban.com/jobs\">在豆瓣工作</a>\\n    · <a href=\"https://www.douban.com/about?topic=contactus\">联系我们</a>\\n    · <a href=\"https://www.douban.com/about/legal\">法律声明</a>\\n    \\n    · <a href=\"https://help.douban.com/?app=music\" target=\"_blank\">帮助中心</a>\\n    · <a href=\"https://douban.fm/app\">手机音乐</a>\\n    · <a href=\"https://www.douban.com/partner/\">豆瓣广告</a>\\n</span>\\n\\n</div>\\n\\n    </div>\\n    \\n    \\n\\n    <script type=\"text/javascript\" src=\"https://img9.doubanio.com/misc/mixed_static/6191aeb7f9a85a6f.js\"></script>\\n    \\n<script src=\"https://img9.doubanio.com/f/shire/4b1bbfaa49f8fb30d2719ec0ec08a11f24412ff5/js/core/do/_init_.js\" data-cfg-corelib=\"https://img9.doubanio.com/f/shire/72ced6df41d4d158420cebdd254f9562942464e3/js/jquery.min.js\"></script>\\n\\n\\n\\n\\n\\n<script type=\"text/javascript\">\\n    Do(\\'artistplayer\\', function(){\\n        var isPlayerLoaded = false;\\n        artistsPlayer.ready(function(artistsPlayer, hasPlayer){\\n            isPlayerLoaded = true;\\n        });\\n        var playCallback = function(e){\\n            e.preventDefault();\\n            e.stopPropagation();\\n            var el = $(this);\\n            var songid = el.data(\\'sid\\');\\n            if(songid){\\n                isPlayerLoaded && artistsPlayer.play(songid);\\n            }\\n            return;\\n        };\\n\\n        $(document).delegate(\\'.col5 .icon-play\\', \\'click\\', playCallback);\\n        $(document).delegate(\\'.span-player-btn\\', \\'click\\', function(e){\\n                            var iconplay = $(\\'.icon-play\\');\\n                            var sids = $.map(iconplay, function(el){\\n                                return $(el).attr(\\'data-sid\\');});\\n                            isPlayerLoaded && artistsPlayer.play(sids);\\n                            })\\n        $(document).delegate(\\'.span-player-btn\\', \\'hover\\', function(e){\\n                            if (e.type == \\'mouseenter\\') {\\n                                $(this).addClass(\\'hover\\');\\n                            } else {\\n                                $(this).removeClass(\\'hover\\');\\n                            }\\n                            });\\n    });\\n</script>\\n<!-- douban ad begin -->\\n\\n\\n\\n\\n\\n    \\n<script type=\"text/javascript\">\\n    (function (global) {\\n        var newNode = global.document.createElement(\\'script\\'),\\n            existingNode = global.document.getElementsByTagName(\\'script\\')[0],\\n            adSource = \\'//erebor.douban.com/\\',\\n            userId = \\'\\',\\n            browserId = \\'qsm/3TYT2UQ\\',\\n            criteria = \\'3:/chart\\',\\n            preview = \\'\\',\\n            debug = false,\\n            adSlots = [\\'dale_music_chart_top_right\\', \\'dale_music_chart_bottom_banner\\'];\\n\\n        global.DoubanAdRequest = {src: adSource, uid: userId, bid: browserId, crtr: criteria, prv: preview, debug: debug};\\n        global.DoubanAdSlots = (global.DoubanAdSlots || []).concat(adSlots);\\n\\n        newNode.setAttribute(\\'type\\', \\'text/javascript\\');\\n        newNode.setAttribute(\\'src\\', \\'//img1.doubanio.com/eDRjYjNvdi9mL2FkanMvZTQ2YTNkMjgwYjBiMzc2OWE4YTI3MWFhMzI0NTQwMTBlMWY3OTYzMy9hZC5yZWxlYXNlLmpz\\');\\n        newNode.setAttribute(\\'async\\', true);\\n        existingNode.parentNode.insertBefore(newNode, existingNode);\\n    })(this);\\n</script>\\n\\n\\n\\n\\n\\n\\n\\n\\n\\n\\n<!-- douban ad end -->\\n\\n    \\n    \\n\\n\\n\\n\\n\\n\\n\\n\\n\\n<!-- Google Tag Manager -->\\n<noscript><iframe src=\"//www.googletagmanager.com/ns.html?id=GTM-5WP579\" height=\"0\" width=\"0\" style=\"display:none;visibility:hidden\"></iframe></noscript>\\n<script>(function(w,d,s,l,i){w[l]=w[l]||[];w[l].push({\\'gtm.start\\':new Date().getTime(),event:\\'gtm.js\\'});var f=d.getElementsByTagName(s)[0],j=d.createElement(s),dl=l!=\\'dataLayer\\'?\\'&l=\\'+l:\\'\\';j.async=true;j.src=\\'//www.googletagmanager.com/gtm.js?id=\\'+i+dl;f.parentNode.insertBefore(j,f);})(window,document,\\'script\\',\\'dataLayer\\',\\'GTM-5WP579\\');</script>\\n<!-- End Google Tag Manager -->\\n\\n\\n<script type=\"text/javascript\">\\nvar _paq = _paq || [];\\n_paq.push([\\'trackPageView\\']);\\n_paq.push([\\'enableLinkTracking\\']);\\n(function() {\\n    var p=((\\'https:\\' == document.location.protocol) ? \\'https\\' : \\'http\\'), u=p+\\'://fundin.douban.com/\\';\\n    _paq.push([\\'setTrackerUrl\\', u+\\'piwik\\']);\\n    _paq.push([\\'setSiteId\\', \\'100001\\']);\\n    var d=document, g=d.createElement(\\'script\\'), s=d.getElementsByTagName(\\'script\\')[0];\\n    g.type=\\'text/javascript\\';\\n    g.defer=true;\\n    g.async=true;\\n    g.src=p+\\'://img3.doubanio.com/dae/fundin/piwik.js\\';\\n    s.parentNode.insertBefore(g,s);\\n})();\\n</script>\\n\\n<script type=\"text/javascript\">\\nvar _gaq = _gaq || [];\\n_gaq.push([\\'_setAccount\\', \\'UA-7019765-1\\']);\\n_gaq.push([\\'_setCampNameKey\\', \\'dcn\\']);\\n_gaq.push([\\'_setCampSourceKey\\', \\'dcs\\']);\\n_gaq.push([\\'_setCampMediumKey\\', \\'dcm\\']);\\n_gaq.push([\\'_setCampTermKey\\', \\'dct\\']);\\n_gaq.push([\\'_setCampContentKey\\', \\'dcc\\']);\\n_gaq.push([\\'_addOrganic\\', \\'baidu\\', \\'word\\']);\\n_gaq.push([\\'_addOrganic\\', \\'soso\\', \\'w\\']);\\n_gaq.push([\\'_addOrganic\\', \\'3721\\', \\'name\\']);\\n_gaq.push([\\'_addOrganic\\', \\'youdao\\', \\'q\\']);\\n_gaq.push([\\'_addOrganic\\', \\'so.360.cn\\', \\'q\\']);\\n_gaq.push([\\'_addOrganic\\', \\'vnet\\', \\'kw\\']);\\n_gaq.push([\\'_addOrganic\\', \\'sogou\\', \\'query\\']);\\n_gaq.push([\\'_addIgnoredOrganic\\', \\'豆瓣\\']);\\n_gaq.push([\\'_addIgnoredOrganic\\', \\'douban\\']);\\n_gaq.push([\\'_addIgnoredOrganic\\', \\'豆瓣网\\']);\\n_gaq.push([\\'_addIgnoredOrganic\\', \\'www.douban.com\\']);\\n_gaq.push([\\'_setDomainName\\', \\'.douban.com\\']);\\n\\n\\n    _gaq.push([\\'_setCustomVar\\', 1, \\'responsive_view_mode\\', \\'desktop\\', 3]);\\n\\n_gaq.push([\\'_trackPageview\\']);\\n_gaq.push([\\'_trackPageLoadTime\\']);\\n\\nwindow._ga_init = function() {\\n    var ga = document.createElement(\\'script\\');\\n    ga.src = (\\'https:\\' == document.location.protocol ? \\'https://ssl\\' : \\'http://www\\') + \\'.google-analytics.com/ga.js\\';\\n    ga.setAttribute(\\'async\\', \\'true\\');\\n    document.documentElement.firstChild.appendChild(ga);\\n};\\nif (window.addEventListener) {\\n    window.addEventListener(\\'load\\', _ga_init, false);\\n} else {\\n    window.attachEvent(\\'onload\\', _ga_init);\\n}\\n</script>\\n\\n\\n\\n\\n\\n    <!-- dae-web-music--default-5899c445cd-bblzm-->\\n\\n  <script>_SPLITTEST=\\'\\'</script>\\n</body>\\n\\n</html>\\n\\n\\n'"
      ]
     },
     "execution_count": 2,
     "metadata": {},
     "output_type": "execute_result"
    }
   ],
   "source": [
    "url = \"https://music.douban.com/chart\"\n",
    "\n",
    "headers = {\"user-agent\":\"Mozilla/5.0 (Windows NT 10.0; Win64; x64) AppleWebKit/537.36 (KHTML, like Gecko) Chrome/80.0.3987.132 Safari/537.36\"}\n",
    "\n",
    "web =requests.get(url, headers = headers)\n",
    "\n",
    "web.status_code\n",
    "\n",
    "web_text = web.text\n",
    "web_text"
   ]
  },
  {
   "cell_type": "markdown",
   "metadata": {},
   "source": [
    "# 第一题\n",
    "#1、取出所有音乐图片的网址，并循环打印出"
   ]
  },
  {
   "cell_type": "code",
   "execution_count": 3,
   "metadata": {},
   "outputs": [
    {
     "name": "stdout",
     "output_type": "stream",
     "text": [
      "https://img9.doubanio.com/view/site/small/public/7e7752822836a02.jpg\n",
      "https://img9.doubanio.com/view/site/small/public/9c0b8609d3ffc13.jpg\n",
      "https://img9.doubanio.com/view/site/small/public/07b28a5e3b31a55.jpg\n",
      "https://img9.doubanio.com/view/site/small/public/f4ecb88ef6c170f.jpg\n",
      "https://img9.doubanio.com/view/site/small/public/a88538f0a4438fd.jpg\n",
      "https://img9.doubanio.com/view/site/small/public/f362e744dcb61c7.jpg\n",
      "https://img9.doubanio.com/view/site/small/public/add9e4c152c3d35.jpg\n",
      "https://img9.doubanio.com/view/site/small/public/5af355b611901eb.jpg\n",
      "https://img9.doubanio.com/view/site/small/public/9345bb397206406.jpg\n",
      "https://img9.doubanio.com/view/site/small/public/b3c7211e28fce8e.jpg\n",
      "https://img9.doubanio.com/view/site/small/public/7e7752822836a02.jpg\n",
      "https://img9.doubanio.com/view/site/small/public/f4ecb88ef6c170f.jpg\n",
      "https://img9.doubanio.com/view/site/small/public/a88538f0a4438fd.jpg\n",
      "https://img9.doubanio.com/view/site/small/public/9c0b8609d3ffc13.jpg\n",
      "https://img9.doubanio.com/view/site/small/public/07b28a5e3b31a55.jpg\n",
      "https://img9.doubanio.com/view/site/small/public/add9e4c152c3d35.jpg\n",
      "https://img9.doubanio.com/view/site/small/public/35f69caea851f5d.jpg\n",
      "https://img9.doubanio.com/view/site/small/public/52a77664b7cb165.jpg\n",
      "https://img9.doubanio.com/view/site/small/public/7d2aed077a13584.jpg\n",
      "https://img9.doubanio.com/view/site/small/public/9335e3d2b1919d2.jpg\n"
     ]
    }
   ],
   "source": [
    "t = re.findall('<li.*?class=\"clearfix\".*?src=\"(.*?)\".*?</a>',web_text,re.S)\n",
    "for i in t:\n",
    "    print(i)"
   ]
  },
  {
   "cell_type": "markdown",
   "metadata": {},
   "source": [
    "# 第二题\n",
    "#2、取出所有歌名，并循环打印出"
   ]
  },
  {
   "cell_type": "code",
   "execution_count": 4,
   "metadata": {},
   "outputs": [
    {
     "name": "stdout",
     "output_type": "stream",
     "text": [
      "送艾力\n",
      "《你正梦着我的梦》電影《巴鐵女孩》片尾曲\n",
      "03 I am a Man\n",
      "Sink A Feud, Finally\n",
      "我们都感染了病毒\n",
      "Ex&#39;s and Oh&#39;s (Live Cover)\n",
      "｢因梦寻湖山｣﹣小坠\n",
      "春风轻轻地吹\n",
      "嗷呜 demo\n",
      "Demo-遗失的海鸟-20200228\n",
      "Darling\n",
      "3.1415926\n",
      "我们不是朋友（已售）\n",
      "Project 2 - 26:2:20, 22.00\n",
      "邓演说一百九十一\n",
      "over the rainbow（翻唱）\n",
      "我要骂你咯\n",
      "我眼里的你\n",
      "Manta（纯人声版 Cover 刘柏辛）\n",
      "breeze and clouds\n"
     ]
    }
   ],
   "source": [
    "m = re.findall('<div class=\"intro\">.*?<(h3|p) class=\"icon-play\".*?<a href=.*?>(.*?)</a>',web_text,re.S)\n",
    "for i in m:\n",
    "    print(i[1])"
   ]
  },
  {
   "cell_type": "markdown",
   "metadata": {},
   "source": [
    "# 第三题\n",
    "#3、取出所有歌手与播放次数，并循环打印出"
   ]
  },
  {
   "cell_type": "code",
   "execution_count": 7,
   "metadata": {},
   "outputs": [
    {
     "name": "stdout",
     "output_type": "stream",
     "text": [
      "('跳格子', '1141次播放')\n",
      "('小河', '558次播放')\n",
      "('尹力', '256次播放')\n",
      "('拟 白', '1173次播放')\n",
      "('熊熊作业', '140次播放')\n",
      "('蓝色的小刀', '181次播放')\n",
      "('大♂古', '224次播放')\n",
      "('渔舟', '400次播放')\n",
      "('有狐绥绥', '367次播放')\n",
      "('Jes', '349次播放')\n"
     ]
    }
   ],
   "source": [
    "m = re.findall('li.*?class=\"clearfix\".*?<p>(.*?)&nbsp;/&nbsp;(.*?)</p>',web_text,re.S)\n",
    "for i in m:\n",
    "    print(i)"
   ]
  },
  {
   "cell_type": "markdown",
   "metadata": {},
   "source": [
    "# 第四题\n",
    "#4、取出所有上榜天数，并循环打印出"
   ]
  },
  {
   "cell_type": "code",
   "execution_count": 8,
   "metadata": {},
   "outputs": [
    {
     "name": "stdout",
     "output_type": "stream",
     "text": [
      "(上榜6天)\n",
      "(上榜6天)\n",
      "(上榜4天)\n",
      "(上榜9天)\n",
      "(上榜4天)\n",
      "(上榜4天)\n",
      "(上榜9天)\n",
      "(上榜11天)\n",
      "(上榜13天)\n",
      "(上榜13天)\n",
      "(上榜2天)\n",
      "(上榜2天)\n",
      "(上榜2天)\n",
      "(上榜2天)\n",
      "(上榜2天)\n",
      "(上榜2天)\n",
      "(上榜2天)\n",
      "(上榜2天)\n",
      "(上榜2天)\n",
      "(上榜13天)\n",
      " 上榜5天 \n",
      " 上榜5天 \n",
      " 上榜7天 \n",
      " 上榜31天 \n",
      " 上榜8天 \n",
      " 上榜32天 \n",
      " 上榜15天 \n",
      " 上榜1天 \n",
      " 上榜29天 \n",
      " 上榜21天 \n"
     ]
    }
   ],
   "source": [
    "s = re.findall('<span class=\"days\">(.*?)</span>',web_text,re.S)\n",
    "for i in s:\n",
    "    print(i)"
   ]
  },
  {
   "cell_type": "markdown",
   "metadata": {},
   "source": [
    "# 第五题\n",
    "#5、取出所有trend arrow-up（上榜趋势），并循环打印出"
   ]
  },
  {
   "cell_type": "code",
   "execution_count": 10,
   "metadata": {},
   "outputs": [
    {
     "name": "stdout",
     "output_type": "stream",
     "text": [
      "0 \n",
      "0 \n",
      "2 \n",
      "1 \n",
      "3 \n",
      "3 \n",
      "1 \n",
      "4 \n",
      "2 \n",
      "0 \n",
      "10 \n",
      "9 \n",
      "8 \n",
      "7 \n",
      "6 \n",
      "5 \n",
      "4 \n",
      "3 \n",
      "2 \n",
      "4 \n"
     ]
    }
   ],
   "source": [
    "a = re.findall('li.*?class=\"clearfix\".*?<span class=\"trend.*?\"> (.*?)</span>',web_text,re.S)\n",
    "for i in a:\n",
    "    print(i)"
   ]
  },
  {
   "cell_type": "code",
   "execution_count": null,
   "metadata": {},
   "outputs": [],
   "source": []
  }
 ],
 "metadata": {
  "kernelspec": {
   "display_name": "Python 3",
   "language": "python",
   "name": "python3"
  },
  "language_info": {
   "codemirror_mode": {
    "name": "ipython",
    "version": 3
   },
   "file_extension": ".py",
   "mimetype": "text/x-python",
   "name": "python",
   "nbconvert_exporter": "python",
   "pygments_lexer": "ipython3",
   "version": "3.7.6"
  },
  "latex_envs": {
   "LaTeX_envs_menu_present": true,
   "autoclose": false,
   "autocomplete": true,
   "bibliofile": "biblio.bib",
   "cite_by": "apalike",
   "current_citInitial": 1,
   "eqLabelWithNumbers": true,
   "eqNumInitial": 1,
   "hotkeys": {
    "equation": "Ctrl-E",
    "itemize": "Ctrl-I"
   },
   "labels_anchors": false,
   "latex_user_defs": false,
   "report_style_numbering": false,
   "user_envs_cfg": false
  }
 },
 "nbformat": 4,
 "nbformat_minor": 2
}
