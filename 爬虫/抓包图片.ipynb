{
 "cells": [
  {
   "cell_type": "code",
   "execution_count": 1,
   "metadata": {
    "ExecuteTime": {
     "end_time": "2020-11-10T02:04:31.060005Z",
     "start_time": "2020-11-10T02:04:31.051029Z"
    }
   },
   "outputs": [],
   "source": [
    "import argparse\n",
    "import os\n",
    "import re\n",
    "import sys\n",
    "import urllib\n",
    "import json\n",
    "import socket\n",
    "import urllib.request\n",
    "import urllib.parse\n",
    "import urllib.error"
   ]
  },
  {
   "cell_type": "code",
   "execution_count": 2,
   "metadata": {
    "ExecuteTime": {
     "end_time": "2020-11-10T02:04:36.994360Z",
     "start_time": "2020-11-10T02:04:36.988407Z"
    }
   },
   "outputs": [],
   "source": [
    "# 设置超时\n",
    "import time\n",
    "\n",
    "timeout = 5\n",
    "socket.setdefaulttimeout(timeout)\n"
   ]
  },
  {
   "cell_type": "code",
   "execution_count": 4,
   "metadata": {
    "ExecuteTime": {
     "end_time": "2020-11-10T02:08:18.822834Z",
     "start_time": "2020-11-10T02:08:18.797851Z"
    }
   },
   "outputs": [],
   "source": [
    "class Crawler:\n",
    "    # 睡眠时长\n",
    "    __time_sleep = 0.1\n",
    "    __amount = 0\n",
    "    __start_amount = 0\n",
    "    __counter = 0\n",
    "    headers = {'User-Agent': 'Mozilla/5.0 (Windows NT 6.1; WOW64; rv:23.0) Gecko/20100101 Firefox/23.0'}\n",
    "    __per_page = 30\n",
    "\n",
    "    # 获取图片url内容等\n",
    "    # t 下载图片时间间隔\n",
    "    def __init__(self, t=0.1):\n",
    "        self.time_sleep = t\n",
    "\n",
    "    # 获取后缀名\n",
    "    @staticmethod\n",
    "    def get_suffix(name):\n",
    "        m = re.search(r'\\.[^\\.]*$', name)\n",
    "        if m.group(0) and len(m.group(0)) <= 5:\n",
    "            return m.group(0)\n",
    "        else:\n",
    "            return '.jpg'\n",
    "\n",
    "    # 保存图片\n",
    "    def save_image(self, rsp_data, word):\n",
    "        if not os.path.exists(\"F:/大三（上）/深度学习/TASK2.3：AI可以自动识别性别/性别识别/\" + word):\n",
    "            os.mkdir(\"F:/大三（上）/深度学习/TASK2.3：AI可以自动识别性别/性别识别/\" + word)\n",
    "        # 判断名字是否重复，获取图片长度\n",
    "        self.__counter = len(os.listdir('F:/大三（上）/深度学习/TASK2.3：AI可以自动识别性别/性别识别/' + word)) + 1\n",
    "        for image_info in rsp_data['data']:\n",
    "            try:\n",
    "                if 'replaceUrl' not in image_info or len(image_info['replaceUrl']) < 1:\n",
    "                    continue\n",
    "                obj_url = image_info['replaceUrl'][0]['ObjUrl']\n",
    "                thumb_url = image_info['thumbURL']\n",
    "                url = 'https://image.baidu.com/search/down?tn=download&ipn=dwnl&word=download&ie=utf8&fr=result&url=%s&thumburl=%s' % (urllib.parse.quote(obj_url), urllib.parse.quote(thumb_url))\n",
    "                time.sleep(self.time_sleep)\n",
    "                suffix = self.get_suffix(obj_url)\n",
    "                # 指定UA和referrer，减少403\n",
    "                opener = urllib.request.build_opener()\n",
    "                opener.addheaders = [\n",
    "                    ('User-agent', 'Mozilla/5.0 (Windows NT 10.0; Win64; x64) AppleWebKit/537.36 (KHTML, like Gecko) Chrome/83.0.4103.116 Safari/537.36'),\n",
    "                ]\n",
    "                urllib.request.install_opener(opener)\n",
    "                # 保存图片\n",
    "                filepath = './%s/%s' % (word, str(self.__counter) + str(suffix))\n",
    "                urllib.request.urlretrieve(url, filepath)\n",
    "                if os.path.getsize(filepath) < 5:\n",
    "                    print(\"下载到了空文件，跳过!\")\n",
    "                    os.unlink(filepath)\n",
    "                    continue\n",
    "            except urllib.error.HTTPError as urllib_err:\n",
    "                print(urllib_err)\n",
    "                continue\n",
    "            except Exception as err:\n",
    "                time.sleep(1)\n",
    "                print(err)\n",
    "                print(\"产生未知错误，放弃保存\")\n",
    "                continue\n",
    "            else:\n",
    "                print(\"ftw+1,已有\" + str(self.__counter) + \"ftw\")\n",
    "                self.__counter += 1\n",
    "        return\n",
    "\n",
    "    # 开始获取\n",
    "    def get_images(self, word):\n",
    "        search = urllib.parse.quote(word)\n",
    "        # pn int 图片数\n",
    "        pn = self.__start_amount\n",
    "        while pn < self.__amount:\n",
    "\n",
    "            url = 'https://image.baidu.com/search/acjson?tn=resultjson_com&ipn=rj&ct=201326592&is=&fp=result&queryWord=%s&cl=2&lm=-1&ie=utf-8&oe=utf-8&adpicid=&st=-1&z=&ic=&hd=&latest=&copyright=&word=%s&s=&se=&tab=&width=&height=&face=0&istype=2&qc=&nc=1&fr=&expermode=&force=&pn=%s&rn=%d&gsm=1e&1594447993172=' % (search, search, str(pn), self.__per_page)\n",
    "            # 设置header防403\n",
    "            try:\n",
    "                time.sleep(self.time_sleep)\n",
    "                req = urllib.request.Request(url=url, headers=self.headers)\n",
    "                page = urllib.request.urlopen(req)\n",
    "                rsp = page.read()\n",
    "            except UnicodeDecodeError as e:\n",
    "                print(e)\n",
    "                print('-----UnicodeDecodeErrorurl:', url)\n",
    "            except urllib.error.URLError as e:\n",
    "                print(e)\n",
    "                print(\"-----urlErrorurl:\", url)\n",
    "            except socket.timeout as e:\n",
    "                print(e)\n",
    "                print(\"-----socket timout:\", url)\n",
    "            else:\n",
    "                # 解析json\n",
    "                rsp_data = json.loads(rsp)\n",
    "                self.save_image(rsp_data, word)\n",
    "                # 读取下一页\n",
    "                print(\"下载下一页\")\n",
    "                pn += 60\n",
    "            finally:\n",
    "                page.close()\n",
    "        print(\"下载任务结束\")\n",
    "        return\n",
    "\n",
    "    def start(self, word, total_page=1, start_page=1, per_page=30):\n",
    "        \"\"\"\n",
    "        爬虫入口\n",
    "        :param word: 抓取的关键词\n",
    "        :param total_page: 需要抓取数据页数 总抓取图片数量为 页数 x per_page\n",
    "        :param start_page:起始页码\n",
    "        :param per_page: 每页数量\n",
    "        :return:\n",
    "        \"\"\"\n",
    "        self.__per_page = per_page\n",
    "        self.__start_amount = (start_page - 1) * self.__per_page\n",
    "        self.__amount = total_page * self.__per_page + self.__start_amount\n",
    "        self.get_images(word)\n"
   ]
  },
  {
   "cell_type": "code",
   "execution_count": 5,
   "metadata": {
    "ExecuteTime": {
     "end_time": "2020-11-10T02:08:21.699093Z",
     "start_time": "2020-11-10T02:08:21.639362Z"
    }
   },
   "outputs": [
    {
     "name": "stderr",
     "output_type": "stream",
     "text": [
      "usage: ipykernel_launcher.py [-h] -w WORD -tp TOTAL_PAGE -sp START_PAGE\n",
      "                             [-pp [{10,20,30,40,50,60,70,80,90,100}]]\n",
      "                             [-d DELAY]\n",
      "ipykernel_launcher.py: error: the following arguments are required: -w/--word, -tp/--total_page, -sp/--start_page\n"
     ]
    },
    {
     "ename": "SystemExit",
     "evalue": "2",
     "output_type": "error",
     "traceback": [
      "An exception has occurred, use %tb to see the full traceback.\n",
      "\u001b[1;31mSystemExit\u001b[0m\u001b[1;31m:\u001b[0m 2\n"
     ]
    },
    {
     "name": "stderr",
     "output_type": "stream",
     "text": [
      "E:\\Anaconda3\\anaconda3\\lib\\site-packages\\IPython\\core\\interactiveshell.py:3339: UserWarning: To exit: use 'exit', 'quit', or Ctrl-D.\n",
      "  warn(\"To exit: use 'exit', 'quit', or Ctrl-D.\", stacklevel=1)\n"
     ]
    }
   ],
   "source": [
    "if __name__ == '__main__':\n",
    "    if len(sys.argv) > 1:\n",
    "        parser = argparse.ArgumentParser()\n",
    "        parser.add_argument(\"-w\", \"--word\", type=str, help=\"抓取关键词\", required=True)\n",
    "        parser.add_argument(\"-tp\", \"--total_page\", type=int, help=\"需要抓取的总页数\", required=True)\n",
    "        parser.add_argument(\"-sp\", \"--start_page\", type=int, help=\"起始页数\", required=True)\n",
    "        parser.add_argument(\"-pp\", \"--per_page\", type=int, help=\"每页大小\", choices=[10, 20, 30, 40, 50, 60, 70, 80, 90, 100], default=30, nargs='?')\n",
    "        parser.add_argument(\"-d\", \"--delay\", type=float, help=\"抓取延时（间隔）\", default=0.05)\n",
    "        args = parser.parse_args()\n",
    "\n",
    "        crawler = Crawler(args.delay)\n",
    "        crawler.start(args.word, args.total_page, args.start_page, args.per_page)  # 抓取关键词为 “美女”，总数为 1 页（即总共 1*60=60 张），开始页码为 2\n",
    "    else:\n",
    "        # 如果不指定参数，那么程序会按照下面进行执行\n",
    "        crawler = Crawler(0.05)  # 抓取延迟为 0.05\n",
    "\n",
    "        crawler.start('美女', 10, 2, 30)  # 抓取关键词为 “美女”，总数为 1 页，开始页码为 2，每页30张（即总共 2*30=60 张）\n",
    "        # crawler.start('二次元 美女', 10, 1)  # 抓取关键词为 “二次元 美女”\n",
    "        # crawler.start('帅哥', 5)  # 抓取关键词为 “帅哥”"
   ]
  },
  {
   "cell_type": "code",
   "execution_count": null,
   "metadata": {},
   "outputs": [],
   "source": []
  }
 ],
 "metadata": {
  "hide_input": false,
  "kernelspec": {
   "display_name": "Python 3",
   "language": "python",
   "name": "python3"
  },
  "language_info": {
   "codemirror_mode": {
    "name": "ipython",
    "version": 3
   },
   "file_extension": ".py",
   "mimetype": "text/x-python",
   "name": "python",
   "nbconvert_exporter": "python",
   "pygments_lexer": "ipython3",
   "version": "3.7.6"
  },
  "latex_envs": {
   "LaTeX_envs_menu_present": true,
   "autoclose": false,
   "autocomplete": true,
   "bibliofile": "biblio.bib",
   "cite_by": "apalike",
   "current_citInitial": 1,
   "eqLabelWithNumbers": true,
   "eqNumInitial": 1,
   "hotkeys": {
    "equation": "Ctrl-E",
    "itemize": "Ctrl-I"
   },
   "labels_anchors": false,
   "latex_user_defs": false,
   "report_style_numbering": false,
   "user_envs_cfg": false
  },
  "nbTranslate": {
   "displayLangs": [
    "*"
   ],
   "hotkey": "alt-t",
   "langInMainMenu": true,
   "sourceLang": "en",
   "targetLang": "fr",
   "useGoogleTranslate": true
  },
  "toc": {
   "base_numbering": 1,
   "nav_menu": {},
   "number_sections": true,
   "sideBar": true,
   "skip_h1_title": false,
   "title_cell": "Table of Contents",
   "title_sidebar": "Contents",
   "toc_cell": false,
   "toc_position": {},
   "toc_section_display": true,
   "toc_window_display": false
  },
  "varInspector": {
   "cols": {
    "lenName": 16,
    "lenType": 16,
    "lenVar": 40
   },
   "kernels_config": {
    "python": {
     "delete_cmd_postfix": "",
     "delete_cmd_prefix": "del ",
     "library": "var_list.py",
     "varRefreshCmd": "print(var_dic_list())"
    },
    "r": {
     "delete_cmd_postfix": ") ",
     "delete_cmd_prefix": "rm(",
     "library": "var_list.r",
     "varRefreshCmd": "cat(var_dic_list()) "
    }
   },
   "types_to_exclude": [
    "module",
    "function",
    "builtin_function_or_method",
    "instance",
    "_Feature"
   ],
   "window_display": false
  }
 },
 "nbformat": 4,
 "nbformat_minor": 4
}
