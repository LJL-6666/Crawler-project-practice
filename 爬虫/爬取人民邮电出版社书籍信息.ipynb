{
 "cells": [
  {
   "cell_type": "code",
   "execution_count": 18,
   "metadata": {
    "collapsed": true
   },
   "outputs": [],
   "source": [
    "import os\n",
    "os.getcwd()\n",
    "os.chdir(\"G:/CDO/\")"
   ]
  },
  {
   "cell_type": "code",
   "execution_count": 20,
   "metadata": {},
   "outputs": [
    {
     "name": "stdout",
     "output_type": "stream",
     "text": [
      "请输入开始爬取的页码：1\n",
      "请输入结束爬取的页码：50\n",
      "恭喜你第1页保存成功啦！\n",
      "恭喜你第2页保存成功啦！\n",
      "恭喜你第3页保存成功啦！\n",
      "恭喜你第4页保存成功啦！\n",
      "恭喜你第5页保存成功啦！\n",
      "恭喜你第6页保存成功啦！\n",
      "恭喜你第7页保存成功啦！\n",
      "恭喜你第8页保存成功啦！\n",
      "恭喜你第9页保存成功啦！\n",
      "恭喜你第10页保存成功啦！\n",
      "恭喜你第11页保存成功啦！\n",
      "恭喜你第12页保存成功啦！\n",
      "恭喜你第13页保存成功啦！\n",
      "恭喜你第14页保存成功啦！\n",
      "恭喜你第15页保存成功啦！\n",
      "恭喜你第16页保存成功啦！\n",
      "恭喜你第17页保存成功啦！\n",
      "恭喜你第18页保存成功啦！\n",
      "恭喜你第19页保存成功啦！\n",
      "恭喜你第20页保存成功啦！\n",
      "恭喜你第21页保存成功啦！\n",
      "恭喜你第22页保存成功啦！\n",
      "恭喜你第23页保存成功啦！\n",
      "恭喜你第24页保存成功啦！\n",
      "恭喜你第25页保存成功啦！\n",
      "恭喜你第26页保存成功啦！\n",
      "恭喜你第27页保存成功啦！\n",
      "恭喜你第28页保存成功啦！\n",
      "恭喜你第29页保存成功啦！\n",
      "恭喜你第30页保存成功啦！\n",
      "恭喜你第31页保存成功啦！\n",
      "恭喜你第32页保存成功啦！\n",
      "恭喜你第33页保存成功啦！\n",
      "恭喜你第34页保存成功啦！\n",
      "恭喜你第35页保存成功啦！\n",
      "恭喜你第36页保存成功啦！\n",
      "恭喜你第37页保存成功啦！\n",
      "恭喜你第38页保存成功啦！\n",
      "恭喜你第39页保存成功啦！\n",
      "恭喜你第40页保存成功啦！\n",
      "恭喜你第41页保存成功啦！\n",
      "恭喜你第42页保存成功啦！\n",
      "恭喜你第43页保存成功啦！\n",
      "恭喜你第44页保存成功啦！\n",
      "恭喜你第45页保存成功啦！\n",
      "恭喜你第46页保存成功啦！\n",
      "恭喜你第47页保存成功啦！\n",
      "恭喜你第48页保存成功啦！\n",
      "恭喜你第49页保存成功啦！\n",
      "恭喜你第50页保存成功啦！\n"
     ]
    }
   ],
   "source": [
    "import requests\n",
    "\n",
    "def get_page(url):\n",
    "\n",
    "    headers={'User-Agent':'Mozilla/5.0 (Windows NT 10.0; WOW64) AppleWebKit/537.36 (KHTML, like Gecko) Chrome/81.0.4044.9 Safari/537.36'}\n",
    "    \n",
    "    try:\n",
    "        r=requests.get(url,headers=headers)\n",
    "        r.raise_for_status()\n",
    "        r.encoding='utf-8'\n",
    "        return r.json()\n",
    "    except:\n",
    "        return \"\"\n",
    "\n",
    "import pandas as pd\n",
    "def parse_page(data_json):\n",
    "    pagebook=data_json['data']['data']\n",
    "    bookdata=[]\n",
    "    for j in pagebook:\n",
    "        temp={}\n",
    "        temp[\"书名\"]=j[\"bookName\"]\n",
    "        temp[\"作者\"]=j[\"author\"]\n",
    "        temp[\"ISBN\"]=j[\"isbn\"]\n",
    "        temp[\"价格\"]=j[\"price\"]\n",
    "        bookdata.append(temp)\n",
    "    result=pd.DataFrame(bookdata)\n",
    "    return result    \n",
    "    #数据存储\n",
    "def save_file(data_df,filename):\n",
    " \n",
    "    columns=['书名','作者','ISBN','价格']\n",
    "    if os.path.exists('人民邮电出版社书籍信息.csv'):\n",
    "        data_df.to_csv('人民邮电出版社书籍信息.csv',index=False,columns=columns,encoding='gbk',mode='a',header=False)\n",
    "    else:\n",
    "        data_df.to_csv('人民邮电出版社书籍信息.csv',index=False,columns=columns,encoding='gbk',header=True)\n",
    "    print(\"恭喜你\"+filename+\"保存成功啦！\" )    \n",
    "   #主函数\n",
    "if __name__ == '__main__':\n",
    "    url='https://www.ptpress.com.cn/bookinfo/getBookListForWSNewBook?rows=9&'\n",
    "    begin=int(input(\"请输入开始爬取的页码：\"))\n",
    "    end=int(input(\"请输入结束爬取的页码：\"))\n",
    "    for i in range(begin,end+1):\n",
    "        full_url=url+'page={}'.format(i)\n",
    "        filename='第{}页'.format(i)\n",
    "        html=get_page(full_url)\n",
    "        allbookdata=parse_page(html)\n",
    "        save_file(allbookdata,filename)\n"
   ]
  },
  {
   "cell_type": "code",
   "execution_count": null,
   "metadata": {
    "collapsed": true
   },
   "outputs": [],
   "source": []
  }
 ],
 "metadata": {
  "kernelspec": {
   "display_name": "Python 3",
   "language": "python",
   "name": "python3"
  },
  "language_info": {
   "codemirror_mode": {
    "name": "ipython",
    "version": 3
   },
   "file_extension": ".py",
   "mimetype": "text/x-python",
   "name": "python",
   "nbconvert_exporter": "python",
   "pygments_lexer": "ipython3",
   "version": "3.7.6"
  },
  "latex_envs": {
   "LaTeX_envs_menu_present": true,
   "autoclose": false,
   "autocomplete": true,
   "bibliofile": "biblio.bib",
   "cite_by": "apalike",
   "current_citInitial": 1,
   "eqLabelWithNumbers": true,
   "eqNumInitial": 1,
   "hotkeys": {
    "equation": "Ctrl-E",
    "itemize": "Ctrl-I"
   },
   "labels_anchors": false,
   "latex_user_defs": false,
   "report_style_numbering": false,
   "user_envs_cfg": false
  },
  "nbTranslate": {
   "displayLangs": [
    "*"
   ],
   "hotkey": "alt-t",
   "langInMainMenu": true,
   "sourceLang": "en",
   "targetLang": "fr",
   "useGoogleTranslate": true
  },
  "toc": {
   "base_numbering": 1,
   "nav_menu": {},
   "number_sections": true,
   "sideBar": true,
   "skip_h1_title": false,
   "title_cell": "Table of Contents",
   "title_sidebar": "Contents",
   "toc_cell": false,
   "toc_position": {},
   "toc_section_display": true,
   "toc_window_display": false
  }
 },
 "nbformat": 4,
 "nbformat_minor": 2
}
