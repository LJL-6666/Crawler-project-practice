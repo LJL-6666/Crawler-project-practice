{
 "cells": [
  {
   "cell_type": "code",
   "execution_count": 1,
   "metadata": {},
   "outputs": [],
   "source": [
    "import os\n",
    "os.getcwd()\n",
    "os.chdir(\"G:/CDO/数据存储和获取/\")\n",
    "import requests\n",
    "import re\n",
    "import xlwt\n",
    "import pandas as pd"
   ]
  },
  {
   "cell_type": "code",
   "execution_count": 2,
   "metadata": {},
   "outputs": [
    {
     "data": {
      "text/plain": [
       "'<!DOCTYPE html>\\n\\n<!--[if IE 8]><html class=\"ie8\"><![endif]-->\\n<!--[if IE 9]><html class=\"ie9\"><![endif]-->\\n<!--[if gt IE 9]><!--><html><!--<![endif]-->\\n<head>\\n  <title>TOP100榜 - 猫眼电影 - 一网打尽好电影</title>\\n  \\n  <link rel=\"dns-prefetch\" href=\"//p0.meituan.net\"  />\\n  <link rel=\"dns-prefetch\" href=\"//p1.meituan.net\"  />\\n  <link rel=\"dns-prefetch\" href=\"//ms0.meituan.net\" />\\n  <link rel=\"dns-prefetch\" href=\"//s0.meituan.net\" />\\n  <link rel=\"dns-prefetch\" href=\"//ms1.meituan.net\" />\\n  <link rel=\"dns-prefetch\" href=\"//analytics.meituan.com\" />\\n  <link rel=\"dns-prefetch\" href=\"//report.meituan.com\" />\\n  <link rel=\"dns-prefetch\" href=\"//frep.meituan.com\" />\\n\\n  \\n  <meta charset=\"utf-8\">\\n  <meta name=\"keywords\" content=\"猫眼电影,电影排行榜,热映口碑榜,最受期待榜,国内票房榜,北美票房榜,猫眼TOP100\">\\n  <meta name=\"description\" content=\"猫眼电影热门榜单,包括热映口碑榜,最受期待榜,国内票房榜,北美票房榜,猫眼TOP100,多维度为用户进行选片决策\">\\n  <meta http-equiv=\"cleartype\" content=\"yes\" />\\n  <meta http-equiv=\"X-UA-Compatible\" content=\"IE=edge\" />\\n  <meta name=\"renderer\" content=\"webkit\" />\\n\\n  <meta name=\"HandheldFriendly\" content=\"true\" />\\n  <meta name=\"format-detection\" content=\"email=no\" />\\n  <meta name=\"format-detection\" content=\"telephone=no\" />\\n  <meta name=\"viewport\" content=\"width=device-width, initial-scale=1\">\\n\\n  \\n  <script>\"use strict\";!function(){var i=0<arguments.length&&void 0!==arguments[0]?arguments[0]:\"_Owl_\",n=window;n[i]||(n[i]={isRunning:!1,isReady:!1,preTasks:[],dataSet:[],use:function(i,t){this.isReady&&n.Owl&&n.Owl[i](t),this.preTasks.push({api:i,data:[t]})},add:function(i){this.dataSet.push(i)},run:function(){var t=this;if(!this.isRunning){this.isRunning=!0;var i=n.onerror;n.onerror=function(){this.isReady||this.add({type:\"jsError\",data:arguments}),i&&i.apply(n,arguments)}.bind(this),(n.addEventListener||n.attachEvent)(\"error\",function(i){t.isReady||t.add({type:\"resError\",data:[i]})},!0)}}},n[i].run())}();</script>\\n  <script>\\n  cid = \"c_wx6zb55\";\\n  ci = 10;\\nval = {\"subnavId\":4};    window.system = {};\\n\\n  window.openPlatform = \\'\\';\\n  window.openPlatformSub = \\'\\';\\n  window.$mtsiFlag = \\'0\\';\\n\\n  </script>\\n  <link rel=\"stylesheet\" href=\"//s3plus.meituan.net/v1/mss_e2821d7f0cfe4ac1bf9202ecf9590e67/cdn-prod/file:5788b470/common.d1d257d3.css\"/>\\n<link rel=\"stylesheet\" href=\"//s3plus.meituan.net/v1/mss_e2821d7f0cfe4ac1bf9202ecf9590e67/cdn-prod/file:5788b470/board-index.92a06072.css\"/>\\n  <script crossorigin=\"anonymous\" src=\"//s3plus.meituan.net/v1/mss_e2821d7f0cfe4ac1bf9202ecf9590e67/cdn-prod/file:5788b470/stat.88d57c80.js\"></script>\\n  <script>if(window.devicePixelRatio >= 2) { document.write(\\'<link rel=\"stylesheet\" href=\"//s3plus.meituan.net/v1/mss_e2821d7f0cfe4ac1bf9202ecf9590e67/cdn-prod/file:5788b470/image-2x.8ba7074d.css\"/>\\') }</script>\\n  <style>\\n    @font-face {\\n      font-family: stonefont;\\n      src: url(\\'//vfile.meituan.net/colorstone/4782fa1a36f8a0aee2f47b46517dac6e3408.eot\\');\\n      src: url(\\'//vfile.meituan.net/colorstone/4782fa1a36f8a0aee2f47b46517dac6e3408.eot?#iefix\\') format(\\'embedded-opentype\\'),\\n           url(\\'//vfile.meituan.net/colorstone/54ac847782a00633d7946e3a6712aa382276.woff\\') format(\\'woff\\');\\n    }\\n\\n    .stonefont {\\n      font-family: stonefont;\\n    }\\n  </style>\\n  <script>\\n  var _hmt = _hmt || [];\\n  (function() {\\n  var hm = document.createElement(\"script\");\\n  hm.src = \"https://hm.baidu.com/hm.js?703e94591e87be68cc8da0da7cbd0be2\";\\n  var s = document.getElementsByTagName(\"script\")[0];\\n  s.parentNode.insertBefore(hm, s);\\n  })();\\n  </script>\\n</head>\\n<body>\\n\\n\\n<div class=\"header\">\\n  <div class=\"header-inner\">\\n          <a href=\"//maoyan.com\" class=\"logo\" data-act=\"icon-click\"></a>\\n        <div class=\"city-container\" data-val=\"{currentcityid:10 }\">\\n            <div class=\"city-selected\">\\n                <div class=\"city-name\">\\n                  上海\\n                  <span class=\"caret\"></span>\\n                </div>\\n            </div>\\n            <div class=\"city-list\" data-val=\"{ localcityid: 10 }\">\\n                <div class=\"city-list-header\">定位城市：<a class=\"js-geo-city\" data-ci=\"10\">上海</a></div>\\n                \\n            </div>\\n        </div>\\n\\n\\n        <div class=\"nav\">\\n            <ul class=\"navbar\">\\n                <li><a href=\"/\" data-act=\"home-click\"  >首页</a></li>\\n                <li><a href=\"/films\" data-act=\"movies-click\" >电影</a></li>\\n                <li><a href=\"/cinemas\" data-act=\"cinemas-click\" >影院</a></li> \\n                <li><a href=\"http://www.gewara.com\">演出</a></li>\\n                \\n                <li><a href=\"/board\" data-act=\"board-click\"  class=\"active\" >榜单</a></li>\\n                <li><a href=\"/news\" data-act=\"hotNews-click\" >热点</a></li>\\n                <li><a href=\"/edimall\"  >商城</a></li>\\n            </ul>\\n        </div>\\n\\n        <div class=\"user-info\">\\n            <div class=\"user-avatar J-login\">\\n              <img src=\"https://p0.meituan.net/movie/7dd82a16316ab32c8359debdb04396ef2897.png\">\\n              <span class=\"caret\"></span>\\n              <ul class=\"user-menu no-login-menu\">\\n                <li><a href=\"javascript:void 0\">登录</a></li>\\n              </ul>\\n            </div>\\n        </div>\\n\\n        <form action=\"/query\" target=\"_blank\" class=\"search-form\" data-actform=\"search-click\">\\n            <input name=\"kw\" class=\"search\" type=\"search\" maxlength=\"32\" placeholder=\"找影视剧、影人、影院\" autocomplete=\"off\">\\n            <input class=\"submit\" type=\"submit\" value=\"\">\\n        </form>\\n\\n        <div class=\"app-download\">\\n          <a href=\"/app\" target=\"_blank\">\\n            <span class=\"iphone-icon\"></span>\\n            <span class=\"apptext\">APP下载</span>\\n            <span class=\"caret\"></span>\\n            <div class=\"download-icon\">\\n                <p class=\"down-title\">扫码下载APP</p>\\n                <p class=\\'down-content\\'>选座更优惠</p>\\n            </div>\\n          </a>\\n        </div>\\n    \\n  </div>\\n</div>\\n<div class=\"header-placeholder\"></div>\\n\\n<div class=\"subnav\">\\n  <ul class=\"navbar\">\\n    <li>\\n      <a data-act=\"subnav-click\" data-val=\"{subnavClick:7}\"\\n          href=\"/board/7\"\\n      >热映口碑榜</a>\\n    </li>\\n    <li>\\n      <a data-act=\"subnav-click\" data-val=\"{subnavClick:6}\"\\n          href=\"/board/6\"\\n      >最受期待榜</a>\\n    </li>\\n    <li>\\n      <a data-act=\"subnav-click\" data-val=\"{subnavClick:1}\"\\n          href=\"/board/1\"\\n      >国内票房榜</a>\\n    </li>\\n    <li>\\n      <a data-act=\"subnav-click\" data-val=\"{subnavClick:2}\"\\n          href=\"/board/2\"\\n      >北美票房榜</a>\\n    </li>\\n    <li>\\n      <a data-act=\"subnav-click\" data-val=\"{subnavClick:4}\"\\n          data-state-val=\"{subnavId:4}\"\\n          class=\"active\" href=\"javascript:void(0);\"\\n      >TOP100榜</a>\\n    </li>\\n  </ul>\\n</div>\\n\\n\\n    <div class=\"container\" id=\"app\" class=\"page-board/index\" >\\n\\n<div class=\"content\">\\n    <div class=\"wrapper\">\\n        <div class=\"main\">\\n            <p class=\"update-time\">2020-07-03<span class=\"has-fresh-text\">已更新</span></p>\\n            <p class=\"board-content\">榜单规则：将猫眼电影库中的经典影片，按照评分和评分人数从高到低综合排序取前100名，每天上午10点更新。相关数据来源于“猫眼电影库”。</p>\\n            <dl class=\"board-wrapper\">\\n                <dd>\\n                        <i class=\"board-index board-index-1\">1</i>\\n    <a href=\"/films/1375\" title=\"活着\" class=\"image-link\" data-act=\"boarditem-click\" data-val=\"{movieId:1375}\">\\n      <img src=\"//s3plus.meituan.net/v1/mss_e2821d7f0cfe4ac1bf9202ecf9590e67/cdn-prod/file:5788b470/image/loading_2.e3d934bf.png\" alt=\"\" class=\"poster-default\" />\\n      <img data-src=\"https://p0.meituan.net/movie/4c41068ef7608c1d4fbfbe6016e589f7204391.jpg@160w_220h_1e_1c\" alt=\"活着\" class=\"board-img\" />\\n    </a>\\n    <div class=\"board-item-main\">\\n      <div class=\"board-item-content\">\\n              <div class=\"movie-item-info\">\\n        <p class=\"name\"><a href=\"/films/1375\" title=\"活着\" data-act=\"boarditem-click\" data-val=\"{movieId:1375}\">活着</a></p>\\n        <p class=\"star\">\\n                主演：葛优,巩俐,牛犇（bēn）\\n        </p>\\n<p class=\"releasetime\">上映时间：1994-05-17(法国)</p>    </div>\\n    <div class=\"movie-item-number score-num\">\\n<p class=\"score\"><i class=\"integer\">9.</i><i class=\"fraction\">0</i></p>        \\n    </div>\\n\\n      </div>\\n    </div>\\n\\n                </dd>\\n                <dd>\\n                        <i class=\"board-index board-index-2\">2</i>\\n    <a href=\"/films/4883\" title=\"钢琴家\" class=\"image-link\" data-act=\"boarditem-click\" data-val=\"{movieId:4883}\">\\n      <img src=\"//s3plus.meituan.net/v1/mss_e2821d7f0cfe4ac1bf9202ecf9590e67/cdn-prod/file:5788b470/image/loading_2.e3d934bf.png\" alt=\"\" class=\"poster-default\" />\\n      <img data-src=\"https://p0.meituan.net/movie/bcbe59fc51580317adf94537a61a1a26142090.jpg@160w_220h_1e_1c\" alt=\"钢琴家\" class=\"board-img\" />\\n    </a>\\n    <div class=\"board-item-main\">\\n      <div class=\"board-item-content\">\\n              <div class=\"movie-item-info\">\\n        <p class=\"name\"><a href=\"/films/4883\" title=\"钢琴家\" data-act=\"boarditem-click\" data-val=\"{movieId:4883}\">钢琴家</a></p>\\n        <p class=\"star\">\\n                主演：艾德里安·布洛迪,艾米莉娅·福克斯,米哈乌·热布罗夫斯基\\n        </p>\\n<p class=\"releasetime\">上映时间：2002-05-24(法国)</p>    </div>\\n    <div class=\"movie-item-number score-num\">\\n<p class=\"score\"><i class=\"integer\">8.</i><i class=\"fraction\">8</i></p>        \\n    </div>\\n\\n      </div>\\n    </div>\\n\\n                </dd>\\n                <dd>\\n                        <i class=\"board-index board-index-3\">3</i>\\n    <a href=\"/films/3294\" title=\"勇敢的心\" class=\"image-link\" data-act=\"boarditem-click\" data-val=\"{movieId:3294}\">\\n      <img src=\"//s3plus.meituan.net/v1/mss_e2821d7f0cfe4ac1bf9202ecf9590e67/cdn-prod/file:5788b470/image/loading_2.e3d934bf.png\" alt=\"\" class=\"poster-default\" />\\n      <img data-src=\"https://p0.meituan.net/movie/5e2aaddb1c0c9ea4c36dc465245cc5ab290967.jpg@160w_220h_1e_1c\" alt=\"勇敢的心\" class=\"board-img\" />\\n    </a>\\n    <div class=\"board-item-main\">\\n      <div class=\"board-item-content\">\\n              <div class=\"movie-item-info\">\\n        <p class=\"name\"><a href=\"/films/3294\" title=\"勇敢的心\" data-act=\"boarditem-click\" data-val=\"{movieId:3294}\">勇敢的心</a></p>\\n        <p class=\"star\">\\n                主演：梅尔·吉布森,苏菲·玛索,帕特里克·麦高汉\\n        </p>\\n<p class=\"releasetime\">上映时间：1995-05-18(美国)</p>    </div>\\n    <div class=\"movie-item-number score-num\">\\n<p class=\"score\"><i class=\"integer\">8.</i><i class=\"fraction\">8</i></p>        \\n    </div>\\n\\n      </div>\\n    </div>\\n\\n                </dd>\\n                <dd>\\n                        <i class=\"board-index board-index-4\">4</i>\\n    <a href=\"/films/11237\" title=\"阿飞正传\" class=\"image-link\" data-act=\"boarditem-click\" data-val=\"{movieId:11237}\">\\n      <img src=\"//s3plus.meituan.net/v1/mss_e2821d7f0cfe4ac1bf9202ecf9590e67/cdn-prod/file:5788b470/image/loading_2.e3d934bf.png\" alt=\"\" class=\"poster-default\" />\\n      <img data-src=\"https://p0.meituan.net/movie/85215b28d568ea8e2c97766edd95f890210522.jpg@160w_220h_1e_1c\" alt=\"阿飞正传\" class=\"board-img\" />\\n    </a>\\n    <div class=\"board-item-main\">\\n      <div class=\"board-item-content\">\\n              <div class=\"movie-item-info\">\\n        <p class=\"name\"><a href=\"/films/11237\" title=\"阿飞正传\" data-act=\"boarditem-click\" data-val=\"{movieId:11237}\">阿飞正传</a></p>\\n        <p class=\"star\">\\n                主演：张国荣,张曼玉,刘德华\\n        </p>\\n<p class=\"releasetime\">上映时间：2018-06-25</p>    </div>\\n    <div class=\"movie-item-number score-num\">\\n<p class=\"score\"><i class=\"integer\">8.</i><i class=\"fraction\">8</i></p>        \\n    </div>\\n\\n      </div>\\n    </div>\\n\\n                </dd>\\n                <dd>\\n                        <i class=\"board-index board-index-5\">5</i>\\n    <a href=\"/films/13824\" title=\"射雕英雄传之东成西就\" class=\"image-link\" data-act=\"boarditem-click\" data-val=\"{movieId:13824}\">\\n      <img src=\"//s3plus.meituan.net/v1/mss_e2821d7f0cfe4ac1bf9202ecf9590e67/cdn-prod/file:5788b470/image/loading_2.e3d934bf.png\" alt=\"\" class=\"poster-default\" />\\n      <img data-src=\"https://p0.meituan.net/movie/dbe36495adc4dc6e09769fc3d51fef9a282911.jpg@160w_220h_1e_1c\" alt=\"射雕英雄传之东成西就\" class=\"board-img\" />\\n    </a>\\n    <div class=\"board-item-main\">\\n      <div class=\"board-item-content\">\\n              <div class=\"movie-item-info\">\\n        <p class=\"name\"><a href=\"/films/13824\" title=\"射雕英雄传之东成西就\" data-act=\"boarditem-click\" data-val=\"{movieId:13824}\">射雕英雄传之东成西就</a></p>\\n        <p class=\"star\">\\n                主演：张国荣,梁朝伟,张学友\\n        </p>\\n<p class=\"releasetime\">上映时间：1993-02-05(中国香港)</p>    </div>\\n    <div class=\"movie-item-number score-num\">\\n<p class=\"score\"><i class=\"integer\">8.</i><i class=\"fraction\">8</i></p>        \\n    </div>\\n\\n      </div>\\n    </div>\\n\\n                </dd>\\n                <dd>\\n                        <i class=\"board-index board-index-6\">6</i>\\n    <a href=\"/films/6796\" title=\"爱·回家\" class=\"image-link\" data-act=\"boarditem-click\" data-val=\"{movieId:6796}\">\\n      <img src=\"//s3plus.meituan.net/v1/mss_e2821d7f0cfe4ac1bf9202ecf9590e67/cdn-prod/file:5788b470/image/loading_2.e3d934bf.png\" alt=\"\" class=\"poster-default\" />\\n      <img data-src=\"https://p0.meituan.net/movie/de1142a5dceb901eb939eb0bcfc2f88470909.jpg@160w_220h_1e_1c\" alt=\"爱·回家\" class=\"board-img\" />\\n    </a>\\n    <div class=\"board-item-main\">\\n      <div class=\"board-item-content\">\\n              <div class=\"movie-item-info\">\\n        <p class=\"name\"><a href=\"/films/6796\" title=\"爱·回家\" data-act=\"boarditem-click\" data-val=\"{movieId:6796}\">爱·回家</a></p>\\n        <p class=\"star\">\\n                主演：俞承豪,金艺芬,童孝熙\\n        </p>\\n<p class=\"releasetime\">上映时间：2002-04-05(韩国)</p>    </div>\\n    <div class=\"movie-item-number score-num\">\\n<p class=\"score\"><i class=\"integer\">9.</i><i class=\"fraction\">0</i></p>        \\n    </div>\\n\\n      </div>\\n    </div>\\n\\n                </dd>\\n                <dd>\\n                        <i class=\"board-index board-index-7\">7</i>\\n    <a href=\"/films/263\" title=\"初恋这件小事\" class=\"image-link\" data-act=\"boarditem-click\" data-val=\"{movieId:263}\">\\n      <img src=\"//s3plus.meituan.net/v1/mss_e2821d7f0cfe4ac1bf9202ecf9590e67/cdn-prod/file:5788b470/image/loading_2.e3d934bf.png\" alt=\"\" class=\"poster-default\" />\\n      <img data-src=\"https://p0.meituan.net/movie/4be3dda6873054115658bddd133708ce89845.jpg@160w_220h_1e_1c\" alt=\"初恋这件小事\" class=\"board-img\" />\\n    </a>\\n    <div class=\"board-item-main\">\\n      <div class=\"board-item-content\">\\n              <div class=\"movie-item-info\">\\n        <p class=\"name\"><a href=\"/films/263\" title=\"初恋这件小事\" data-act=\"boarditem-click\" data-val=\"{movieId:263}\">初恋这件小事</a></p>\\n        <p class=\"star\">\\n                主演：马里奥·毛瑞尔,平采娜·乐维瑟派布恩,阿查拉那·阿瑞亚卫考\\n        </p>\\n<p class=\"releasetime\">上映时间：2012-06-05</p>    </div>\\n    <div class=\"movie-item-number score-num\">\\n<p class=\"score\"><i class=\"integer\">8.</i><i class=\"fraction\">8</i></p>        \\n    </div>\\n\\n      </div>\\n    </div>\\n\\n                </dd>\\n                <dd>\\n                        <i class=\"board-index board-index-8\">8</i>\\n    <a href=\"/films/267\" title=\"泰坦尼克号\" class=\"image-link\" data-act=\"boarditem-click\" data-val=\"{movieId:267}\">\\n      <img src=\"//s3plus.meituan.net/v1/mss_e2821d7f0cfe4ac1bf9202ecf9590e67/cdn-prod/file:5788b470/image/loading_2.e3d934bf.png\" alt=\"\" class=\"poster-default\" />\\n      <img data-src=\"https://p1.meituan.net/movie/b607fba7513e7f15eab170aac1e1400d878112.jpg@160w_220h_1e_1c\" alt=\"泰坦尼克号\" class=\"board-img\" />\\n    </a>\\n    <div class=\"board-item-main\">\\n      <div class=\"board-item-content\">\\n              <div class=\"movie-item-info\">\\n        <p class=\"name\"><a href=\"/films/267\" title=\"泰坦尼克号\" data-act=\"boarditem-click\" data-val=\"{movieId:267}\">泰坦尼克号</a></p>\\n        <p class=\"star\">\\n                主演：莱昂纳多·迪卡普里奥,凯特·温丝莱特,比利·赞恩\\n        </p>\\n<p class=\"releasetime\">上映时间：1998-04-03</p>    </div>\\n    <div class=\"movie-item-number score-num\">\\n<p class=\"score\"><i class=\"integer\">9.</i><i class=\"fraction\">4</i></p>        \\n    </div>\\n\\n      </div>\\n    </div>\\n\\n                </dd>\\n                <dd>\\n                        <i class=\"board-index board-index-9\">9</i>\\n    <a href=\"/films/1346\" title=\"迁徙的鸟\" class=\"image-link\" data-act=\"boarditem-click\" data-val=\"{movieId:1346}\">\\n      <img src=\"//s3plus.meituan.net/v1/mss_e2821d7f0cfe4ac1bf9202ecf9590e67/cdn-prod/file:5788b470/image/loading_2.e3d934bf.png\" alt=\"\" class=\"poster-default\" />\\n      <img data-src=\"https://p1.meituan.net/movie/a1634f4e49c8517ae0a3e4adcac6b0dc43994.jpg@160w_220h_1e_1c\" alt=\"迁徙的鸟\" class=\"board-img\" />\\n    </a>\\n    <div class=\"board-item-main\">\\n      <div class=\"board-item-content\">\\n              <div class=\"movie-item-info\">\\n        <p class=\"name\"><a href=\"/films/1346\" title=\"迁徙的鸟\" data-act=\"boarditem-click\" data-val=\"{movieId:1346}\">迁徙的鸟</a></p>\\n        <p class=\"star\">\\n                主演：雅克·贝汉,Philippe Labro\\n        </p>\\n<p class=\"releasetime\">上映时间：2001-12-12(法国)</p>    </div>\\n    <div class=\"movie-item-number score-num\">\\n<p class=\"score\"><i class=\"integer\">9.</i><i class=\"fraction\">0</i></p>        \\n    </div>\\n\\n      </div>\\n    </div>\\n\\n                </dd>\\n                <dd>\\n                        <i class=\"board-index board-index-10\">10</i>\\n    <a href=\"/films/790\" title=\"蝙蝠侠：黑暗骑士\" class=\"image-link\" data-act=\"boarditem-click\" data-val=\"{movieId:790}\">\\n      <img src=\"//s3plus.meituan.net/v1/mss_e2821d7f0cfe4ac1bf9202ecf9590e67/cdn-prod/file:5788b470/image/loading_2.e3d934bf.png\" alt=\"\" class=\"poster-default\" />\\n      <img data-src=\"https://p0.meituan.net/movie/09658109acfea0e248a63932337d8e6a4268980.jpg@160w_220h_1e_1c\" alt=\"蝙蝠侠：黑暗骑士\" class=\"board-img\" />\\n    </a>\\n    <div class=\"board-item-main\">\\n      <div class=\"board-item-content\">\\n              <div class=\"movie-item-info\">\\n        <p class=\"name\"><a href=\"/films/790\" title=\"蝙蝠侠：黑暗骑士\" data-act=\"boarditem-click\" data-val=\"{movieId:790}\">蝙蝠侠：黑暗骑士</a></p>\\n        <p class=\"star\">\\n                主演：克里斯蒂安·贝尔,希斯·莱杰,阿伦·伊克哈特\\n        </p>\\n<p class=\"releasetime\">上映时间：2008-07-14(阿根廷)</p>    </div>\\n    <div class=\"movie-item-number score-num\">\\n<p class=\"score\"><i class=\"integer\">9.</i><i class=\"fraction\">3</i></p>        \\n    </div>\\n\\n      </div>\\n    </div>\\n\\n                </dd>\\n            </dl>\\n\\n        </div>\\n            <div class=\"pager-main\">\\n                \\n  \\n  <ul class=\"list-pager\">\\n\\n\\n\\n  \\n      <li class=\"active\">\\n    <a class=\"page_1\"\\n      href=\"javascript:void(0);\" style=\"cursor: default\"\\n  >1</a>\\n\\n</li>\\n  <li >\\n    <a class=\"page_2\"\\n      href=\"?offset=10\"\\n  >2</a>\\n\\n</li>\\n  <li >\\n    <a class=\"page_3\"\\n      href=\"?offset=20\"\\n  >3</a>\\n\\n</li>\\n  <li >\\n    <a class=\"page_4\"\\n      href=\"?offset=30\"\\n  >4</a>\\n\\n</li>\\n  <li >\\n    <a class=\"page_5\"\\n      href=\"?offset=40\"\\n  >5</a>\\n\\n</li>\\n\\n    <li class=\"sep\">...</li>\\n      <li >\\n    <a class=\"page_10\"\\n      href=\"?offset=90\"\\n  >10</a>\\n\\n</li>\\n\\n  \\n\\n<li>  <a class=\"page_2\"\\n      href=\"?offset=10\"\\n  >下一页</a>\\n</li>\\n</ul>\\n\\n\\n            </div>\\n    </div>\\n</div>\\n\\n    </div>\\n\\n<div class=\"footer\">\\n  <p class=\"friendly-links\">\\n    关于猫眼 :\\n    <a href=\"http://ir.maoyan.com/s/index.php#pageScroll0\" target=\"_blank\">关于我们</a>\\n    <span></span>\\n    <a href=\"http://ir.maoyan.com/s/index.php#pageScroll1\" target=\"_blank\">管理团队</a>\\n    <span></span>\\n    <a href=\"http://ir.maoyan.com/s/index.php#pageScroll2\" target=\"_blank\">投资者关系</a>\\n    &nbsp;&nbsp;&nbsp;&nbsp;\\n    友情链接 :\\n    <a href=\"http://www.meituan.com\" data-query=\"utm_source=wwwmaoyan\" target=\"_blank\">美团网</a>\\n    <span></span>\\n    <a href=\"http://www.gewara.com\" data-query=\"utm_source=wwwmaoyan\">格瓦拉</a>\\n    <span></span>\\n    <a href=\"http://i.meituan.com/client\" data-query=\"utm_source=wwwmaoyan\" target=\"_blank\">美团下载</a>\\n    <span></span>\\n    <a href=\"https://www.huanxi.com\" data-query=\"utm_source=maoyan_pc\" target=\"_blank\">欢喜首映</a>\\n  </p>\\n  <p class=\"friendly-links\">\\n    商务合作邮箱：v@maoyan.com\\n    客服电话：10105335\\n    违法和不良信息举报电话：4006018900\\n  </p>\\n  <p class=\"friendly-links\">\\n    用户投诉邮箱：tousujubao@meituan.com\\n    舞弊线索举报邮箱：wubijubao@maoyan.com\\n  </p>\\n  <p class=\"friendly-links  credentials\">\\n    <a href=\"/about/licence/1\" target=\"_blank\">中华人民共和国增值电信业务经营许可证 京B2-20190350</a>\\n    <span></span>\\n    <a href=\"/about/licence/4\" target=\"_blank\">营业性演出许可证 京演（机构）（2019）4094号</a>\\n  </p>\\n  <p class=\"friendly-links  credentials\">\\n    <a href=\"/about/licence/3\" target=\"_blank\">广播电视节目制作经营许可证 （京）字第08478号</a>\\n    <span></span>\\n    <a href=\"/about/licence/2\" target=\"_blank\">网络文化经营许可证 京网文（2019）3837-369号 </a>\\n  </p>\\n  <p class=\"friendly-links  credentials\">\\n    <a href=\"/rules/agreement\" target=\"_blank\">猫眼用户服务协议 </a>\\n    <span></span>\\n    <a href=\"/rules/rule\" target=\"_blank\">猫眼平台交易规则总则 </a>\\n    <span></span>\\n    <a href=\"/rules/privacy\" target=\"_blank\">隐私政策 </a>\\n  </p>\\n  <p class=\"friendly-links  credentials\">\\n    <a href=\"http://www.beian.gov.cn/portal/registerSystemInfo?recordcode=11010102003232\" target=\"_blank\">京公网安备\\n      11010102003232号</a>\\n    <span></span>\\n    <a href=\"http://www.beian.miit.gov.cn/\" target=\"_blank\">京ICP备16022489号</a>\\n  </p>\\n  <p>北京猫眼文化传媒有限公司</p>\\n  <p>\\n    &copy;<span class=\"my-footer-year\">2016</span>\\n    猫眼电影 maoyan.com</p>\\n  <div class=\"certificate\">\\n    <a href=\"http://sq.ccm.gov.cn:80/ccnt/sczr/service/business/emark/toDetail/350CF8BCA8416C4FE0530140A8C0957E\"\\n      target=\"_blank\">\\n      <img src=\"http://p0.meituan.net/moviemachine/e54374ccf134d1f7b2c5b075a74fca525326.png\" />\\n    </a>\\n    <a href=\"/about/licence/5\" target=\"_blank\">\\n      <img src=\"http://p1.meituan.net/moviemachine/805f605d5cf1b1a02a4e3a5e29df003b8376.png\" />\\n    </a>\\n    <a href=\"https://www.12377.cn\" target=\"_blank\">\\n      <img src=\"http://p0.meituan.net/scarlett/3cd2a9b7dc179531d20d27a5fd686e783787.png\" />\\n    </a>\\n  </div>\\n</div>\\n\\n    <script crossorigin=\"anonymous\" src=\"//www.dpfile.com/app/owl/static/owl_1.7.11.js\"></script>\\n    <script>\\n      Owl.start({\\n        project: \\'com.sankuai.movie.fe.mywww\\',\\n        pageUrl: location.href.split(\\'?\\')[0].replace(/\\\\/\\\\d+/g, \\'/:id\\'),\\n        devMode: false\\n      })\\n    </script>\\n    <script src=\"//s0.meituan.net/bs/?f=myfe/canary:mojo-0.1.2.js\"></script>\\n    <script>\\n      MAInit({\\n        appkey: \\'com.sankuai.movie.fe.mywww\\',\\n        app_name: \\'maoyan-pc-web\\',\\n        app_version: \\'1.0.0\\',\\n      })\\n    </script>\\n    <!--[if IE 8]><script crossorigin=\"anonymous\" src=\"//s3plus.meituan.net/v1/mss_e2821d7f0cfe4ac1bf9202ecf9590e67/cdn-prod/file:5788b470/es5-shim.bbad933f.js\"></script><![endif]-->\\n    <!--[if IE 8]><script crossorigin=\"anonymous\" src=\"//s3plus.meituan.net/v1/mss_e2821d7f0cfe4ac1bf9202ecf9590e67/cdn-prod/file:5788b470/es5-sham.d6ea26f4.js\"></script><![endif]-->\\n    <script crossorigin=\"anonymous\" src=\"//s3plus.meituan.net/v1/mss_e2821d7f0cfe4ac1bf9202ecf9590e67/cdn-prod/file:5788b470/common.00a7ce61.js\"></script>\\n<script crossorigin=\"anonymous\" src=\"//s3plus.meituan.net/v1/mss_e2821d7f0cfe4ac1bf9202ecf9590e67/cdn-prod/file:5788b470/board-index.e144d497.js\"></script>\\n</body>\\n</html>\\n'"
      ]
     },
     "execution_count": 2,
     "metadata": {},
     "output_type": "execute_result"
    }
   ],
   "source": [
    "url = \"https://maoyan.com/board/4\"\n",
    "\n",
    "headers = {'User-Agent':\"Mozilla/5.0 (Windows NT 10.0; Win64; x64) AppleWebKit/537.36 (KHTML, like Gecko) Chrome/80.0.3987.149 Safari/537.36\"}\n",
    "web =requests.get(url, headers = headers)\n",
    "\n",
    "web.status_code\n",
    "\n",
    "web_text = web.text\n",
    "web_text"
   ]
  },
  {
   "cell_type": "markdown",
   "metadata": {},
   "source": [
    "取出所有音乐图片的网址，并循环打印出"
   ]
  },
  {
   "cell_type": "code",
   "execution_count": 59,
   "metadata": {},
   "outputs": [
    {
     "name": "stdout",
     "output_type": "stream",
     "text": [
      "https://p0.meituan.net/movie/ce4da3e03e655b5b88ed31b5cd7896cf62472.jpg@160w_220h_1e_1c\n",
      "https://p0.meituan.net/movie/283292171619cdfd5b240c8fd093f1eb255670.jpg@160w_220h_1e_1c\n",
      "https://p1.meituan.net/movie/6bea9af4524dfbd0b668eaa7e187c3df767253.jpg@160w_220h_1e_1c\n",
      "https://p0.meituan.net/movie/289f98ceaa8a0ae737d3dc01cd05ab052213631.jpg@160w_220h_1e_1c\n",
      "https://p1.meituan.net/movie/b607fba7513e7f15eab170aac1e1400d878112.jpg@160w_220h_1e_1c\n",
      "https://p0.meituan.net/movie/223c3e186db3ab4ea3bb14508c709400427933.jpg@160w_220h_1e_1c\n",
      "https://p0.meituan.net/movie/da64660f82b98cdc1b8a3804e69609e041108.jpg@160w_220h_1e_1c\n",
      "https://p0.meituan.net/movie/58782fa5439c25d764713f711ebecd1e201941.jpg@160w_220h_1e_1c\n",
      "https://p0.meituan.net/movie/b0d986a8bf89278afbb19f6abaef70f31206570.jpg@160w_220h_1e_1c\n",
      "https://p0.meituan.net/movie/1f0d671f6a37f9d7b015e4682b8b113e174332.jpg@160w_220h_1e_1c\n"
     ]
    }
   ],
   "source": [
    "m1 = re.findall('<dd>.*?class=\"image-link\".*?data-src=\"(.*?)\"',web_text,re.S)\n",
    "for i in m1:\n",
    "    print(i)"
   ]
  },
  {
   "cell_type": "markdown",
   "metadata": {},
   "source": [
    "排名"
   ]
  },
  {
   "cell_type": "code",
   "execution_count": 60,
   "metadata": {},
   "outputs": [
    {
     "name": "stdout",
     "output_type": "stream",
     "text": [
      "1\n",
      "2\n",
      "3\n",
      "4\n",
      "5\n",
      "6\n",
      "7\n",
      "8\n",
      "9\n",
      "10\n"
     ]
    }
   ],
   "source": [
    "m2 = re.findall('<i class=.*?board-index.*?>(.*?)</i>',web_text,re.S)\n",
    "for i in m2:\n",
    "    print(i)"
   ]
  },
  {
   "cell_type": "markdown",
   "metadata": {},
   "source": [
    "电影名称"
   ]
  },
  {
   "cell_type": "code",
   "execution_count": 61,
   "metadata": {},
   "outputs": [
    {
     "name": "stdout",
     "output_type": "stream",
     "text": [
      "霸王别姬\n",
      "肖申克的救赎\n",
      "这个杀手不太冷\n",
      "罗马假日\n",
      "泰坦尼克号\n",
      "乱世佳人\n",
      "唐伯虎点秋香\n",
      "魂断蓝桥\n",
      "辛德勒的名单\n",
      "喜剧之王\n"
     ]
    }
   ],
   "source": [
    "m3 = re.findall('<p class=\"name\">.*?title=\"(.*?)\".*?</p>',web_text,re.S)\n",
    "for i in m3:\n",
    "    print(i)"
   ]
  },
  {
   "cell_type": "markdown",
   "metadata": {},
   "source": [
    "主演"
   ]
  },
  {
   "cell_type": "code",
   "execution_count": 62,
   "metadata": {
    "scrolled": true
   },
   "outputs": [
    {
     "name": "stdout",
     "output_type": "stream",
     "text": [
      "\n",
      "                主演：张国荣,张丰毅,巩俐\n",
      "        \n",
      "\n",
      "                主演：蒂姆·罗宾斯,摩根·弗里曼,鲍勃·冈顿\n",
      "        \n",
      "\n",
      "                主演：让·雷诺,加里·奥德曼,娜塔莉·波特曼\n",
      "        \n",
      "\n",
      "                主演：格利高里·派克,奥黛丽·赫本,埃迪·艾伯特\n",
      "        \n",
      "\n",
      "                主演：莱昂纳多·迪卡普里奥,凯特·温丝莱特,比利·赞恩\n",
      "        \n",
      "\n",
      "                主演：费雯·丽,克拉克·盖博,奥利维娅·德哈维兰\n",
      "        \n",
      "\n",
      "                主演：周星驰,巩俐,郑佩佩\n",
      "        \n",
      "\n",
      "                主演：费雯·丽,罗伯特·泰勒,露塞尔·沃特森\n",
      "        \n",
      "\n",
      "                主演：连姆·尼森,拉尔夫·费因斯,本·金斯利\n",
      "        \n",
      "\n",
      "                主演：周星驰,莫文蔚,张柏芝\n",
      "        \n"
     ]
    }
   ],
   "source": [
    "m4 = re.findall('.*?star.*?>(.*?)</p>',web_text,re.S)\n",
    "for i in m4:\n",
    "    print(i)"
   ]
  },
  {
   "cell_type": "code",
   "execution_count": 79,
   "metadata": {
    "collapsed": true
   },
   "outputs": [],
   "source": [
    "star=[]\n",
    "for st in m4:\n",
    "    star.append(st.strip())"
   ]
  },
  {
   "cell_type": "code",
   "execution_count": 80,
   "metadata": {},
   "outputs": [
    {
     "data": {
      "text/plain": [
       "['主演：张国荣,张丰毅,巩俐',\n",
       " '主演：蒂姆·罗宾斯,摩根·弗里曼,鲍勃·冈顿',\n",
       " '主演：让·雷诺,加里·奥德曼,娜塔莉·波特曼',\n",
       " '主演：格利高里·派克,奥黛丽·赫本,埃迪·艾伯特',\n",
       " '主演：莱昂纳多·迪卡普里奥,凯特·温丝莱特,比利·赞恩',\n",
       " '主演：费雯·丽,克拉克·盖博,奥利维娅·德哈维兰',\n",
       " '主演：周星驰,巩俐,郑佩佩',\n",
       " '主演：费雯·丽,罗伯特·泰勒,露塞尔·沃特森',\n",
       " '主演：连姆·尼森,拉尔夫·费因斯,本·金斯利',\n",
       " '主演：周星驰,莫文蔚,张柏芝']"
      ]
     },
     "execution_count": 80,
     "metadata": {},
     "output_type": "execute_result"
    }
   ],
   "source": [
    "star"
   ]
  },
  {
   "cell_type": "markdown",
   "metadata": {},
   "source": [
    "发布时间"
   ]
  },
  {
   "cell_type": "code",
   "execution_count": 75,
   "metadata": {},
   "outputs": [
    {
     "name": "stdout",
     "output_type": "stream",
     "text": [
      "上映时间：1993-07-26\n",
      "上映时间：1994-09-10(加拿大)\n",
      "上映时间：1994-09-14(法国)\n",
      "上映时间：1953-08-20(意大利)\n",
      "上映时间：1998-04-03\n",
      "上映时间：1939-12-15(美国)\n",
      "上映时间：1993-07-01(中国香港)\n",
      "上映时间：1940-05-17(美国)\n",
      "上映时间：1993-11-30(美国)\n",
      "上映时间：1999-02-13(中国香港)\n"
     ]
    }
   ],
   "source": [
    "m5 = re.findall('<p\\sclass=\"releasetime\">(.*?)</p>',web_text,re.S)\n",
    "for i in m5:\n",
    "    print(i)"
   ]
  },
  {
   "cell_type": "code",
   "execution_count": 69,
   "metadata": {},
   "outputs": [
    {
     "name": "stdout",
     "output_type": "stream",
     "text": [
      "[('9.', '5'), ('9.', '5'), ('9.', '5'), ('9.', '0'), ('9.', '4'), ('9.', '1'), ('9.', '1'), ('9.', '2'), ('9.', '2'), ('9.', '1')]\n"
     ]
    }
   ],
   "source": [
    "m6=re.compile('<p\\sclass=\"score\">.*?>(.*?)</i>.*?>(.*?)</i>',re.S)\n",
    "score=re.findall(m6,web_text)\n",
    "print(score)"
   ]
  },
  {
   "cell_type": "code",
   "execution_count": 70,
   "metadata": {},
   "outputs": [
    {
     "name": "stdout",
     "output_type": "stream",
     "text": [
      "('9.', '5')\n",
      "('9.', '5')\n",
      "('9.', '5')\n",
      "('9.', '0')\n",
      "('9.', '4')\n",
      "('9.', '1')\n",
      "('9.', '1')\n",
      "('9.', '2')\n",
      "('9.', '2')\n",
      "('9.', '1')\n"
     ]
    }
   ],
   "source": [
    "scorenew=[]\n",
    "for em in score:\n",
    "    print(em)\n",
    "    scorenew.append(em[0]+em[1])"
   ]
  },
  {
   "cell_type": "code",
   "execution_count": 71,
   "metadata": {},
   "outputs": [
    {
     "data": {
      "text/plain": [
       "['9.5', '9.5', '9.5', '9.0', '9.4', '9.1', '9.1', '9.2', '9.2', '9.1']"
      ]
     },
     "execution_count": 71,
     "metadata": {},
     "output_type": "execute_result"
    }
   ],
   "source": [
    "scorenew"
   ]
  },
  {
   "cell_type": "code",
   "execution_count": 81,
   "metadata": {},
   "outputs": [
    {
     "data": {
      "text/html": [
       "<div>\n",
       "<style scoped>\n",
       "    .dataframe tbody tr th:only-of-type {\n",
       "        vertical-align: middle;\n",
       "    }\n",
       "\n",
       "    .dataframe tbody tr th {\n",
       "        vertical-align: top;\n",
       "    }\n",
       "\n",
       "    .dataframe thead th {\n",
       "        text-align: right;\n",
       "    }\n",
       "</style>\n",
       "<table border=\"1\" class=\"dataframe\">\n",
       "  <thead>\n",
       "    <tr style=\"text-align: right;\">\n",
       "      <th></th>\n",
       "      <th>排名</th>\n",
       "      <th>图片链接</th>\n",
       "      <th>影片</th>\n",
       "      <th>主演</th>\n",
       "      <th>上映时间</th>\n",
       "      <th>评分</th>\n",
       "    </tr>\n",
       "  </thead>\n",
       "  <tbody>\n",
       "    <tr>\n",
       "      <th>0</th>\n",
       "      <td>1</td>\n",
       "      <td>https://p0.meituan.net/movie/ce4da3e03e655b5b8...</td>\n",
       "      <td>霸王别姬</td>\n",
       "      <td>主演：张国荣,张丰毅,巩俐</td>\n",
       "      <td>上映时间：1993-07-26</td>\n",
       "      <td>9.5</td>\n",
       "    </tr>\n",
       "    <tr>\n",
       "      <th>1</th>\n",
       "      <td>2</td>\n",
       "      <td>https://p0.meituan.net/movie/283292171619cdfd5...</td>\n",
       "      <td>肖申克的救赎</td>\n",
       "      <td>主演：蒂姆·罗宾斯,摩根·弗里曼,鲍勃·冈顿</td>\n",
       "      <td>上映时间：1994-09-10(加拿大)</td>\n",
       "      <td>9.5</td>\n",
       "    </tr>\n",
       "    <tr>\n",
       "      <th>2</th>\n",
       "      <td>3</td>\n",
       "      <td>https://p1.meituan.net/movie/6bea9af4524dfbd0b...</td>\n",
       "      <td>这个杀手不太冷</td>\n",
       "      <td>主演：让·雷诺,加里·奥德曼,娜塔莉·波特曼</td>\n",
       "      <td>上映时间：1994-09-14(法国)</td>\n",
       "      <td>9.5</td>\n",
       "    </tr>\n",
       "    <tr>\n",
       "      <th>3</th>\n",
       "      <td>4</td>\n",
       "      <td>https://p0.meituan.net/movie/289f98ceaa8a0ae73...</td>\n",
       "      <td>罗马假日</td>\n",
       "      <td>主演：格利高里·派克,奥黛丽·赫本,埃迪·艾伯特</td>\n",
       "      <td>上映时间：1953-08-20(意大利)</td>\n",
       "      <td>9.0</td>\n",
       "    </tr>\n",
       "    <tr>\n",
       "      <th>4</th>\n",
       "      <td>5</td>\n",
       "      <td>https://p1.meituan.net/movie/b607fba7513e7f15e...</td>\n",
       "      <td>泰坦尼克号</td>\n",
       "      <td>主演：莱昂纳多·迪卡普里奥,凯特·温丝莱特,比利·赞恩</td>\n",
       "      <td>上映时间：1998-04-03</td>\n",
       "      <td>9.4</td>\n",
       "    </tr>\n",
       "  </tbody>\n",
       "</table>\n",
       "</div>"
      ],
      "text/plain": [
       "  排名                                               图片链接       影片  \\\n",
       "0  1  https://p0.meituan.net/movie/ce4da3e03e655b5b8...     霸王别姬   \n",
       "1  2  https://p0.meituan.net/movie/283292171619cdfd5...   肖申克的救赎   \n",
       "2  3  https://p1.meituan.net/movie/6bea9af4524dfbd0b...  这个杀手不太冷   \n",
       "3  4  https://p0.meituan.net/movie/289f98ceaa8a0ae73...     罗马假日   \n",
       "4  5  https://p1.meituan.net/movie/b607fba7513e7f15e...    泰坦尼克号   \n",
       "\n",
       "                            主演                  上映时间   评分  \n",
       "0                主演：张国荣,张丰毅,巩俐       上映时间：1993-07-26  9.5  \n",
       "1       主演：蒂姆·罗宾斯,摩根·弗里曼,鲍勃·冈顿  上映时间：1994-09-10(加拿大)  9.5  \n",
       "2       主演：让·雷诺,加里·奥德曼,娜塔莉·波特曼   上映时间：1994-09-14(法国)  9.5  \n",
       "3     主演：格利高里·派克,奥黛丽·赫本,埃迪·艾伯特  上映时间：1953-08-20(意大利)  9.0  \n",
       "4  主演：莱昂纳多·迪卡普里奥,凯特·温丝莱特,比利·赞恩       上映时间：1998-04-03  9.4  "
      ]
     },
     "execution_count": 81,
     "metadata": {},
     "output_type": "execute_result"
    }
   ],
   "source": [
    "columns={'排名':m2,'图片链接':m1,'影片':m3,'主演':star,'上映时间':m5,'评分':scorenew}\n",
    "data=pd.DataFrame(columns)  \n",
    "data.head()"
   ]
  },
  {
   "cell_type": "code",
   "execution_count": 10,
   "metadata": {},
   "outputs": [],
   "source": [
    "n1=[]\n",
    "n2=[]\n",
    "n3=[]\n",
    "n4=[]\n",
    "n5=[]\n",
    "n6=[]\n",
    "b='__mta=175584541.1584608364963.1593827768331.1593828028434.23; _lxsdk_cuid=170f204c958c8-02a3311cf8072e-f313f6d-100200-170f204c958c8; mojo-uuid=ea8e21a2d24f1c5765a23bd32085e4ad; t_lxid=17185e5addcc8-0c1e23ae92407-5313f6f-100200-17185e5addcc8-tid; __mta=175584541.1584608364963.1587089363345.1587089913697.21; uuid_n_v=v1; uuid=5BC6C2A0BD9911EA80CEB10117801C921F7566ECE7CA4612B0B13BF1347E5C93; _csrf=940d25eefec3035408da319a09169d5881dc70bc4f244e07e6ca32629381c3e9; _lxsdk=5BC6C2A0BD9911EA80CEB10117801C921F7566ECE7CA4612B0B13BF1347E5C93; mojo-session-id={\"id\":\"37a852e6446e1dcc0d91368da614f6c8\",\"time\":1593827699286}; lt=azFqWSyiyJVrSt1l1yUYcIG72OoAAAAAAwsAANG4nqQtb7lcmoM60pvxWf2NyPNU9YTXY8KDfbhhWNz1V6u20hgJJ6zpzCdg5fFAPg; lt.sig=GTXHvEhKEbTiA-hZweoykjUkxHk; mojo-trace-id=4; Hm_lvt_703e94591e87be68cc8da0da7cbd0be2=1593827698,1593828028; Hm_lpvt_703e94591e87be68cc8da0da7cbd0be2=1593828028; _lxsdk_s=1731788a8f6-faf-3c1-9cc%7C%7C4'\n",
    "line=b.split(';')\n",
    "cookie={}\n",
    "for i in line:\n",
    "    key,value = i.split('=',1)\n",
    "    cookie[key] = value"
   ]
  },
  {
   "cell_type": "code",
   "execution_count": 12,
   "metadata": {},
   "outputs": [
    {
     "name": "stderr",
     "output_type": "stream",
     "text": [
      "C:\\Users\\hp\\AppData\\Roaming\\Python\\Python37\\site-packages\\urllib3\\connectionpool.py:1004: InsecureRequestWarning: Unverified HTTPS request is being made to host '127.0.0.1'. Adding certificate verification is strongly advised. See: https://urllib3.readthedocs.io/en/latest/advanced-usage.html#ssl-warnings\n",
      "  InsecureRequestWarning,\n"
     ]
    },
    {
     "ename": "SSLError",
     "evalue": "HTTPSConnectionPool(host='maoyan.com', port=443): Max retries exceeded with url: /board/4?offset=10 (Caused by SSLError(SSLError(\"bad handshake: SysCallError(-1, 'Unexpected EOF')\")))",
     "output_type": "error",
     "traceback": [
      "\u001b[1;31m---------------------------------------------------------------------------\u001b[0m",
      "\u001b[1;31mSysCallError\u001b[0m                              Traceback (most recent call last)",
      "\u001b[1;32m~\\AppData\\Roaming\\Python\\Python37\\site-packages\\urllib3\\contrib\\pyopenssl.py\u001b[0m in \u001b[0;36mwrap_socket\u001b[1;34m(self, sock, server_side, do_handshake_on_connect, suppress_ragged_eofs, server_hostname)\u001b[0m\n\u001b[0;32m    484\u001b[0m             \u001b[1;32mtry\u001b[0m\u001b[1;33m:\u001b[0m\u001b[1;33m\u001b[0m\u001b[1;33m\u001b[0m\u001b[0m\n\u001b[1;32m--> 485\u001b[1;33m                 \u001b[0mcnx\u001b[0m\u001b[1;33m.\u001b[0m\u001b[0mdo_handshake\u001b[0m\u001b[1;33m(\u001b[0m\u001b[1;33m)\u001b[0m\u001b[1;33m\u001b[0m\u001b[1;33m\u001b[0m\u001b[0m\n\u001b[0m\u001b[0;32m    486\u001b[0m             \u001b[1;32mexcept\u001b[0m \u001b[0mOpenSSL\u001b[0m\u001b[1;33m.\u001b[0m\u001b[0mSSL\u001b[0m\u001b[1;33m.\u001b[0m\u001b[0mWantReadError\u001b[0m\u001b[1;33m:\u001b[0m\u001b[1;33m\u001b[0m\u001b[1;33m\u001b[0m\u001b[0m\n",
      "\u001b[1;32mE:\\Anaconda3\\lib\\site-packages\\OpenSSL\\SSL.py\u001b[0m in \u001b[0;36mdo_handshake\u001b[1;34m(self)\u001b[0m\n\u001b[0;32m   1933\u001b[0m         \u001b[0mresult\u001b[0m \u001b[1;33m=\u001b[0m \u001b[0m_lib\u001b[0m\u001b[1;33m.\u001b[0m\u001b[0mSSL_do_handshake\u001b[0m\u001b[1;33m(\u001b[0m\u001b[0mself\u001b[0m\u001b[1;33m.\u001b[0m\u001b[0m_ssl\u001b[0m\u001b[1;33m)\u001b[0m\u001b[1;33m\u001b[0m\u001b[1;33m\u001b[0m\u001b[0m\n\u001b[1;32m-> 1934\u001b[1;33m         \u001b[0mself\u001b[0m\u001b[1;33m.\u001b[0m\u001b[0m_raise_ssl_error\u001b[0m\u001b[1;33m(\u001b[0m\u001b[0mself\u001b[0m\u001b[1;33m.\u001b[0m\u001b[0m_ssl\u001b[0m\u001b[1;33m,\u001b[0m \u001b[0mresult\u001b[0m\u001b[1;33m)\u001b[0m\u001b[1;33m\u001b[0m\u001b[1;33m\u001b[0m\u001b[0m\n\u001b[0m\u001b[0;32m   1935\u001b[0m \u001b[1;33m\u001b[0m\u001b[0m\n",
      "\u001b[1;32mE:\\Anaconda3\\lib\\site-packages\\OpenSSL\\SSL.py\u001b[0m in \u001b[0;36m_raise_ssl_error\u001b[1;34m(self, ssl, result)\u001b[0m\n\u001b[0;32m   1663\u001b[0m                         \u001b[1;32mraise\u001b[0m \u001b[0mSysCallError\u001b[0m\u001b[1;33m(\u001b[0m\u001b[0merrno\u001b[0m\u001b[1;33m,\u001b[0m \u001b[0merrorcode\u001b[0m\u001b[1;33m.\u001b[0m\u001b[0mget\u001b[0m\u001b[1;33m(\u001b[0m\u001b[0merrno\u001b[0m\u001b[1;33m)\u001b[0m\u001b[1;33m)\u001b[0m\u001b[1;33m\u001b[0m\u001b[1;33m\u001b[0m\u001b[0m\n\u001b[1;32m-> 1664\u001b[1;33m                 \u001b[1;32mraise\u001b[0m \u001b[0mSysCallError\u001b[0m\u001b[1;33m(\u001b[0m\u001b[1;33m-\u001b[0m\u001b[1;36m1\u001b[0m\u001b[1;33m,\u001b[0m \u001b[1;34m\"Unexpected EOF\"\u001b[0m\u001b[1;33m)\u001b[0m\u001b[1;33m\u001b[0m\u001b[1;33m\u001b[0m\u001b[0m\n\u001b[0m\u001b[0;32m   1665\u001b[0m             \u001b[1;32melse\u001b[0m\u001b[1;33m:\u001b[0m\u001b[1;33m\u001b[0m\u001b[1;33m\u001b[0m\u001b[0m\n",
      "\u001b[1;31mSysCallError\u001b[0m: (-1, 'Unexpected EOF')",
      "\nDuring handling of the above exception, another exception occurred:\n",
      "\u001b[1;31mSSLError\u001b[0m                                  Traceback (most recent call last)",
      "\u001b[1;32m~\\AppData\\Roaming\\Python\\Python37\\site-packages\\urllib3\\connectionpool.py\u001b[0m in \u001b[0;36murlopen\u001b[1;34m(self, method, url, body, headers, retries, redirect, assert_same_host, timeout, pool_timeout, release_conn, chunked, body_pos, **response_kw)\u001b[0m\n\u001b[0;32m    661\u001b[0m             \u001b[1;32mif\u001b[0m \u001b[0mis_new_proxy_conn\u001b[0m\u001b[1;33m:\u001b[0m\u001b[1;33m\u001b[0m\u001b[1;33m\u001b[0m\u001b[0m\n\u001b[1;32m--> 662\u001b[1;33m                 \u001b[0mself\u001b[0m\u001b[1;33m.\u001b[0m\u001b[0m_prepare_proxy\u001b[0m\u001b[1;33m(\u001b[0m\u001b[0mconn\u001b[0m\u001b[1;33m)\u001b[0m\u001b[1;33m\u001b[0m\u001b[1;33m\u001b[0m\u001b[0m\n\u001b[0m\u001b[0;32m    663\u001b[0m \u001b[1;33m\u001b[0m\u001b[0m\n",
      "\u001b[1;32m~\\AppData\\Roaming\\Python\\Python37\\site-packages\\urllib3\\connectionpool.py\u001b[0m in \u001b[0;36m_prepare_proxy\u001b[1;34m(self, conn)\u001b[0m\n\u001b[0;32m    947\u001b[0m         \u001b[0mconn\u001b[0m\u001b[1;33m.\u001b[0m\u001b[0mset_tunnel\u001b[0m\u001b[1;33m(\u001b[0m\u001b[0mself\u001b[0m\u001b[1;33m.\u001b[0m\u001b[0m_proxy_host\u001b[0m\u001b[1;33m,\u001b[0m \u001b[0mself\u001b[0m\u001b[1;33m.\u001b[0m\u001b[0mport\u001b[0m\u001b[1;33m,\u001b[0m \u001b[0mself\u001b[0m\u001b[1;33m.\u001b[0m\u001b[0mproxy_headers\u001b[0m\u001b[1;33m)\u001b[0m\u001b[1;33m\u001b[0m\u001b[1;33m\u001b[0m\u001b[0m\n\u001b[1;32m--> 948\u001b[1;33m         \u001b[0mconn\u001b[0m\u001b[1;33m.\u001b[0m\u001b[0mconnect\u001b[0m\u001b[1;33m(\u001b[0m\u001b[1;33m)\u001b[0m\u001b[1;33m\u001b[0m\u001b[1;33m\u001b[0m\u001b[0m\n\u001b[0m\u001b[0;32m    949\u001b[0m \u001b[1;33m\u001b[0m\u001b[0m\n",
      "\u001b[1;32m~\\AppData\\Roaming\\Python\\Python37\\site-packages\\urllib3\\connection.py\u001b[0m in \u001b[0;36mconnect\u001b[1;34m(self)\u001b[0m\n\u001b[0;32m    359\u001b[0m             \u001b[0mserver_hostname\u001b[0m\u001b[1;33m=\u001b[0m\u001b[0mserver_hostname\u001b[0m\u001b[1;33m,\u001b[0m\u001b[1;33m\u001b[0m\u001b[1;33m\u001b[0m\u001b[0m\n\u001b[1;32m--> 360\u001b[1;33m             \u001b[0mssl_context\u001b[0m\u001b[1;33m=\u001b[0m\u001b[0mcontext\u001b[0m\u001b[1;33m,\u001b[0m\u001b[1;33m\u001b[0m\u001b[1;33m\u001b[0m\u001b[0m\n\u001b[0m\u001b[0;32m    361\u001b[0m         )\n",
      "\u001b[1;32m~\\AppData\\Roaming\\Python\\Python37\\site-packages\\urllib3\\util\\ssl_.py\u001b[0m in \u001b[0;36mssl_wrap_socket\u001b[1;34m(sock, keyfile, certfile, cert_reqs, ca_certs, server_hostname, ssl_version, ciphers, ssl_context, ca_cert_dir, key_password)\u001b[0m\n\u001b[0;32m    369\u001b[0m         \u001b[1;32mif\u001b[0m \u001b[0mHAS_SNI\u001b[0m \u001b[1;32mand\u001b[0m \u001b[0mserver_hostname\u001b[0m \u001b[1;32mis\u001b[0m \u001b[1;32mnot\u001b[0m \u001b[1;32mNone\u001b[0m\u001b[1;33m:\u001b[0m\u001b[1;33m\u001b[0m\u001b[1;33m\u001b[0m\u001b[0m\n\u001b[1;32m--> 370\u001b[1;33m             \u001b[1;32mreturn\u001b[0m \u001b[0mcontext\u001b[0m\u001b[1;33m.\u001b[0m\u001b[0mwrap_socket\u001b[0m\u001b[1;33m(\u001b[0m\u001b[0msock\u001b[0m\u001b[1;33m,\u001b[0m \u001b[0mserver_hostname\u001b[0m\u001b[1;33m=\u001b[0m\u001b[0mserver_hostname\u001b[0m\u001b[1;33m)\u001b[0m\u001b[1;33m\u001b[0m\u001b[1;33m\u001b[0m\u001b[0m\n\u001b[0m\u001b[0;32m    371\u001b[0m \u001b[1;33m\u001b[0m\u001b[0m\n",
      "\u001b[1;32m~\\AppData\\Roaming\\Python\\Python37\\site-packages\\urllib3\\contrib\\pyopenssl.py\u001b[0m in \u001b[0;36mwrap_socket\u001b[1;34m(self, sock, server_side, do_handshake_on_connect, suppress_ragged_eofs, server_hostname)\u001b[0m\n\u001b[0;32m    490\u001b[0m             \u001b[1;32mexcept\u001b[0m \u001b[0mOpenSSL\u001b[0m\u001b[1;33m.\u001b[0m\u001b[0mSSL\u001b[0m\u001b[1;33m.\u001b[0m\u001b[0mError\u001b[0m \u001b[1;32mas\u001b[0m \u001b[0me\u001b[0m\u001b[1;33m:\u001b[0m\u001b[1;33m\u001b[0m\u001b[1;33m\u001b[0m\u001b[0m\n\u001b[1;32m--> 491\u001b[1;33m                 \u001b[1;32mraise\u001b[0m \u001b[0mssl\u001b[0m\u001b[1;33m.\u001b[0m\u001b[0mSSLError\u001b[0m\u001b[1;33m(\u001b[0m\u001b[1;34m\"bad handshake: %r\"\u001b[0m \u001b[1;33m%\u001b[0m \u001b[0me\u001b[0m\u001b[1;33m)\u001b[0m\u001b[1;33m\u001b[0m\u001b[1;33m\u001b[0m\u001b[0m\n\u001b[0m\u001b[0;32m    492\u001b[0m             \u001b[1;32mbreak\u001b[0m\u001b[1;33m\u001b[0m\u001b[1;33m\u001b[0m\u001b[0m\n",
      "\u001b[1;31mSSLError\u001b[0m: (\"bad handshake: SysCallError(-1, 'Unexpected EOF')\",)",
      "\nDuring handling of the above exception, another exception occurred:\n",
      "\u001b[1;31mMaxRetryError\u001b[0m                             Traceback (most recent call last)",
      "\u001b[1;32m~\\AppData\\Roaming\\Python\\Python37\\site-packages\\requests\\adapters.py\u001b[0m in \u001b[0;36msend\u001b[1;34m(self, request, stream, timeout, verify, cert, proxies)\u001b[0m\n\u001b[0;32m    448\u001b[0m                     \u001b[0mretries\u001b[0m\u001b[1;33m=\u001b[0m\u001b[0mself\u001b[0m\u001b[1;33m.\u001b[0m\u001b[0mmax_retries\u001b[0m\u001b[1;33m,\u001b[0m\u001b[1;33m\u001b[0m\u001b[1;33m\u001b[0m\u001b[0m\n\u001b[1;32m--> 449\u001b[1;33m                     \u001b[0mtimeout\u001b[0m\u001b[1;33m=\u001b[0m\u001b[0mtimeout\u001b[0m\u001b[1;33m\u001b[0m\u001b[1;33m\u001b[0m\u001b[0m\n\u001b[0m\u001b[0;32m    450\u001b[0m                 )\n",
      "\u001b[1;32m~\\AppData\\Roaming\\Python\\Python37\\site-packages\\urllib3\\connectionpool.py\u001b[0m in \u001b[0;36murlopen\u001b[1;34m(self, method, url, body, headers, retries, redirect, assert_same_host, timeout, pool_timeout, release_conn, chunked, body_pos, **response_kw)\u001b[0m\n\u001b[0;32m    719\u001b[0m             retries = retries.increment(\n\u001b[1;32m--> 720\u001b[1;33m                 \u001b[0mmethod\u001b[0m\u001b[1;33m,\u001b[0m \u001b[0murl\u001b[0m\u001b[1;33m,\u001b[0m \u001b[0merror\u001b[0m\u001b[1;33m=\u001b[0m\u001b[0me\u001b[0m\u001b[1;33m,\u001b[0m \u001b[0m_pool\u001b[0m\u001b[1;33m=\u001b[0m\u001b[0mself\u001b[0m\u001b[1;33m,\u001b[0m \u001b[0m_stacktrace\u001b[0m\u001b[1;33m=\u001b[0m\u001b[0msys\u001b[0m\u001b[1;33m.\u001b[0m\u001b[0mexc_info\u001b[0m\u001b[1;33m(\u001b[0m\u001b[1;33m)\u001b[0m\u001b[1;33m[\u001b[0m\u001b[1;36m2\u001b[0m\u001b[1;33m]\u001b[0m\u001b[1;33m\u001b[0m\u001b[1;33m\u001b[0m\u001b[0m\n\u001b[0m\u001b[0;32m    721\u001b[0m             )\n",
      "\u001b[1;32m~\\AppData\\Roaming\\Python\\Python37\\site-packages\\urllib3\\util\\retry.py\u001b[0m in \u001b[0;36mincrement\u001b[1;34m(self, method, url, response, error, _pool, _stacktrace)\u001b[0m\n\u001b[0;32m    435\u001b[0m         \u001b[1;32mif\u001b[0m \u001b[0mnew_retry\u001b[0m\u001b[1;33m.\u001b[0m\u001b[0mis_exhausted\u001b[0m\u001b[1;33m(\u001b[0m\u001b[1;33m)\u001b[0m\u001b[1;33m:\u001b[0m\u001b[1;33m\u001b[0m\u001b[1;33m\u001b[0m\u001b[0m\n\u001b[1;32m--> 436\u001b[1;33m             \u001b[1;32mraise\u001b[0m \u001b[0mMaxRetryError\u001b[0m\u001b[1;33m(\u001b[0m\u001b[0m_pool\u001b[0m\u001b[1;33m,\u001b[0m \u001b[0murl\u001b[0m\u001b[1;33m,\u001b[0m \u001b[0merror\u001b[0m \u001b[1;32mor\u001b[0m \u001b[0mResponseError\u001b[0m\u001b[1;33m(\u001b[0m\u001b[0mcause\u001b[0m\u001b[1;33m)\u001b[0m\u001b[1;33m)\u001b[0m\u001b[1;33m\u001b[0m\u001b[1;33m\u001b[0m\u001b[0m\n\u001b[0m\u001b[0;32m    437\u001b[0m \u001b[1;33m\u001b[0m\u001b[0m\n",
      "\u001b[1;31mMaxRetryError\u001b[0m: HTTPSConnectionPool(host='maoyan.com', port=443): Max retries exceeded with url: /board/4?offset=10 (Caused by SSLError(SSLError(\"bad handshake: SysCallError(-1, 'Unexpected EOF')\")))",
      "\nDuring handling of the above exception, another exception occurred:\n",
      "\u001b[1;31mSSLError\u001b[0m                                  Traceback (most recent call last)",
      "\u001b[1;32m<ipython-input-12-23dd5765afc6>\u001b[0m in \u001b[0;36m<module>\u001b[1;34m\u001b[0m\n\u001b[0;32m      3\u001b[0m     \u001b[0murl\u001b[0m\u001b[1;33m=\u001b[0m\u001b[1;34m'https://maoyan.com/board/4?offset='\u001b[0m\u001b[1;33m+\u001b[0m\u001b[0mstr\u001b[0m\u001b[1;33m(\u001b[0m\u001b[1;36m10\u001b[0m\u001b[1;33m*\u001b[0m\u001b[0mi\u001b[0m\u001b[1;33m)\u001b[0m\u001b[1;33m\u001b[0m\u001b[1;33m\u001b[0m\u001b[0m\n\u001b[0;32m      4\u001b[0m     \u001b[0mheaders\u001b[0m\u001b[1;33m=\u001b[0m\u001b[1;33m{\u001b[0m\u001b[1;34m'User-Agent'\u001b[0m\u001b[1;33m:\u001b[0m \u001b[1;34m'Mozilla/5.0 (Windows NT 10.0; Win64; x64) AppleWebKit/537.36 (KHTML, like Gecko) Chrome/83.0.4103.116 Safari/537.36'\u001b[0m\u001b[1;33m}\u001b[0m\u001b[1;33m\u001b[0m\u001b[1;33m\u001b[0m\u001b[0m\n\u001b[1;32m----> 5\u001b[1;33m     \u001b[0mres\u001b[0m\u001b[1;33m=\u001b[0m\u001b[0mrequests\u001b[0m\u001b[1;33m.\u001b[0m\u001b[0mget\u001b[0m\u001b[1;33m(\u001b[0m\u001b[0murl\u001b[0m\u001b[1;33m,\u001b[0m\u001b[0mheaders\u001b[0m\u001b[1;33m=\u001b[0m\u001b[0mheaders\u001b[0m\u001b[1;33m,\u001b[0m\u001b[0mcookies\u001b[0m\u001b[1;33m=\u001b[0m\u001b[0mcookie\u001b[0m\u001b[1;33m,\u001b[0m\u001b[0mverify\u001b[0m\u001b[1;33m=\u001b[0m\u001b[1;32mFalse\u001b[0m\u001b[1;33m)\u001b[0m\u001b[1;33m\u001b[0m\u001b[1;33m\u001b[0m\u001b[0m\n\u001b[0m\u001b[0;32m      6\u001b[0m     \u001b[0mhtml\u001b[0m\u001b[1;33m=\u001b[0m\u001b[0mres\u001b[0m\u001b[1;33m.\u001b[0m\u001b[0mtext\u001b[0m\u001b[1;33m\u001b[0m\u001b[1;33m\u001b[0m\u001b[0m\n\u001b[0;32m      7\u001b[0m     \u001b[0mpattern1\u001b[0m\u001b[1;33m=\u001b[0m\u001b[0mre\u001b[0m\u001b[1;33m.\u001b[0m\u001b[0mcompile\u001b[0m\u001b[1;33m(\u001b[0m\u001b[1;34m'<dd>.*?board-index.*?>(.*?)</i>'\u001b[0m\u001b[1;33m,\u001b[0m\u001b[0mre\u001b[0m\u001b[1;33m.\u001b[0m\u001b[0mS\u001b[0m\u001b[1;33m)\u001b[0m\u001b[1;33m\u001b[0m\u001b[1;33m\u001b[0m\u001b[0m\n",
      "\u001b[1;32m~\\AppData\\Roaming\\Python\\Python37\\site-packages\\requests\\api.py\u001b[0m in \u001b[0;36mget\u001b[1;34m(url, params, **kwargs)\u001b[0m\n\u001b[0;32m     73\u001b[0m \u001b[1;33m\u001b[0m\u001b[0m\n\u001b[0;32m     74\u001b[0m     \u001b[0mkwargs\u001b[0m\u001b[1;33m.\u001b[0m\u001b[0msetdefault\u001b[0m\u001b[1;33m(\u001b[0m\u001b[1;34m'allow_redirects'\u001b[0m\u001b[1;33m,\u001b[0m \u001b[1;32mTrue\u001b[0m\u001b[1;33m)\u001b[0m\u001b[1;33m\u001b[0m\u001b[1;33m\u001b[0m\u001b[0m\n\u001b[1;32m---> 75\u001b[1;33m     \u001b[1;32mreturn\u001b[0m \u001b[0mrequest\u001b[0m\u001b[1;33m(\u001b[0m\u001b[1;34m'get'\u001b[0m\u001b[1;33m,\u001b[0m \u001b[0murl\u001b[0m\u001b[1;33m,\u001b[0m \u001b[0mparams\u001b[0m\u001b[1;33m=\u001b[0m\u001b[0mparams\u001b[0m\u001b[1;33m,\u001b[0m \u001b[1;33m**\u001b[0m\u001b[0mkwargs\u001b[0m\u001b[1;33m)\u001b[0m\u001b[1;33m\u001b[0m\u001b[1;33m\u001b[0m\u001b[0m\n\u001b[0m\u001b[0;32m     76\u001b[0m \u001b[1;33m\u001b[0m\u001b[0m\n\u001b[0;32m     77\u001b[0m \u001b[1;33m\u001b[0m\u001b[0m\n",
      "\u001b[1;32m~\\AppData\\Roaming\\Python\\Python37\\site-packages\\requests\\api.py\u001b[0m in \u001b[0;36mrequest\u001b[1;34m(method, url, **kwargs)\u001b[0m\n\u001b[0;32m     58\u001b[0m     \u001b[1;31m# cases, and look like a memory leak in others.\u001b[0m\u001b[1;33m\u001b[0m\u001b[1;33m\u001b[0m\u001b[1;33m\u001b[0m\u001b[0m\n\u001b[0;32m     59\u001b[0m     \u001b[1;32mwith\u001b[0m \u001b[0msessions\u001b[0m\u001b[1;33m.\u001b[0m\u001b[0mSession\u001b[0m\u001b[1;33m(\u001b[0m\u001b[1;33m)\u001b[0m \u001b[1;32mas\u001b[0m \u001b[0msession\u001b[0m\u001b[1;33m:\u001b[0m\u001b[1;33m\u001b[0m\u001b[1;33m\u001b[0m\u001b[0m\n\u001b[1;32m---> 60\u001b[1;33m         \u001b[1;32mreturn\u001b[0m \u001b[0msession\u001b[0m\u001b[1;33m.\u001b[0m\u001b[0mrequest\u001b[0m\u001b[1;33m(\u001b[0m\u001b[0mmethod\u001b[0m\u001b[1;33m=\u001b[0m\u001b[0mmethod\u001b[0m\u001b[1;33m,\u001b[0m \u001b[0murl\u001b[0m\u001b[1;33m=\u001b[0m\u001b[0murl\u001b[0m\u001b[1;33m,\u001b[0m \u001b[1;33m**\u001b[0m\u001b[0mkwargs\u001b[0m\u001b[1;33m)\u001b[0m\u001b[1;33m\u001b[0m\u001b[1;33m\u001b[0m\u001b[0m\n\u001b[0m\u001b[0;32m     61\u001b[0m \u001b[1;33m\u001b[0m\u001b[0m\n\u001b[0;32m     62\u001b[0m \u001b[1;33m\u001b[0m\u001b[0m\n",
      "\u001b[1;32m~\\AppData\\Roaming\\Python\\Python37\\site-packages\\requests\\sessions.py\u001b[0m in \u001b[0;36mrequest\u001b[1;34m(self, method, url, params, data, headers, cookies, files, auth, timeout, allow_redirects, proxies, hooks, stream, verify, cert, json)\u001b[0m\n\u001b[0;32m    531\u001b[0m         }\n\u001b[0;32m    532\u001b[0m         \u001b[0msend_kwargs\u001b[0m\u001b[1;33m.\u001b[0m\u001b[0mupdate\u001b[0m\u001b[1;33m(\u001b[0m\u001b[0msettings\u001b[0m\u001b[1;33m)\u001b[0m\u001b[1;33m\u001b[0m\u001b[1;33m\u001b[0m\u001b[0m\n\u001b[1;32m--> 533\u001b[1;33m         \u001b[0mresp\u001b[0m \u001b[1;33m=\u001b[0m \u001b[0mself\u001b[0m\u001b[1;33m.\u001b[0m\u001b[0msend\u001b[0m\u001b[1;33m(\u001b[0m\u001b[0mprep\u001b[0m\u001b[1;33m,\u001b[0m \u001b[1;33m**\u001b[0m\u001b[0msend_kwargs\u001b[0m\u001b[1;33m)\u001b[0m\u001b[1;33m\u001b[0m\u001b[1;33m\u001b[0m\u001b[0m\n\u001b[0m\u001b[0;32m    534\u001b[0m \u001b[1;33m\u001b[0m\u001b[0m\n\u001b[0;32m    535\u001b[0m         \u001b[1;32mreturn\u001b[0m \u001b[0mresp\u001b[0m\u001b[1;33m\u001b[0m\u001b[1;33m\u001b[0m\u001b[0m\n",
      "\u001b[1;32m~\\AppData\\Roaming\\Python\\Python37\\site-packages\\requests\\sessions.py\u001b[0m in \u001b[0;36msend\u001b[1;34m(self, request, **kwargs)\u001b[0m\n\u001b[0;32m    644\u001b[0m \u001b[1;33m\u001b[0m\u001b[0m\n\u001b[0;32m    645\u001b[0m         \u001b[1;31m# Send the request\u001b[0m\u001b[1;33m\u001b[0m\u001b[1;33m\u001b[0m\u001b[1;33m\u001b[0m\u001b[0m\n\u001b[1;32m--> 646\u001b[1;33m         \u001b[0mr\u001b[0m \u001b[1;33m=\u001b[0m \u001b[0madapter\u001b[0m\u001b[1;33m.\u001b[0m\u001b[0msend\u001b[0m\u001b[1;33m(\u001b[0m\u001b[0mrequest\u001b[0m\u001b[1;33m,\u001b[0m \u001b[1;33m**\u001b[0m\u001b[0mkwargs\u001b[0m\u001b[1;33m)\u001b[0m\u001b[1;33m\u001b[0m\u001b[1;33m\u001b[0m\u001b[0m\n\u001b[0m\u001b[0;32m    647\u001b[0m \u001b[1;33m\u001b[0m\u001b[0m\n\u001b[0;32m    648\u001b[0m         \u001b[1;31m# Total elapsed time of the request (approximately)\u001b[0m\u001b[1;33m\u001b[0m\u001b[1;33m\u001b[0m\u001b[1;33m\u001b[0m\u001b[0m\n",
      "\u001b[1;32m~\\AppData\\Roaming\\Python\\Python37\\site-packages\\requests\\adapters.py\u001b[0m in \u001b[0;36msend\u001b[1;34m(self, request, stream, timeout, verify, cert, proxies)\u001b[0m\n\u001b[0;32m    512\u001b[0m             \u001b[1;32mif\u001b[0m \u001b[0misinstance\u001b[0m\u001b[1;33m(\u001b[0m\u001b[0me\u001b[0m\u001b[1;33m.\u001b[0m\u001b[0mreason\u001b[0m\u001b[1;33m,\u001b[0m \u001b[0m_SSLError\u001b[0m\u001b[1;33m)\u001b[0m\u001b[1;33m:\u001b[0m\u001b[1;33m\u001b[0m\u001b[1;33m\u001b[0m\u001b[0m\n\u001b[0;32m    513\u001b[0m                 \u001b[1;31m# This branch is for urllib3 v1.22 and later.\u001b[0m\u001b[1;33m\u001b[0m\u001b[1;33m\u001b[0m\u001b[1;33m\u001b[0m\u001b[0m\n\u001b[1;32m--> 514\u001b[1;33m                 \u001b[1;32mraise\u001b[0m \u001b[0mSSLError\u001b[0m\u001b[1;33m(\u001b[0m\u001b[0me\u001b[0m\u001b[1;33m,\u001b[0m \u001b[0mrequest\u001b[0m\u001b[1;33m=\u001b[0m\u001b[0mrequest\u001b[0m\u001b[1;33m)\u001b[0m\u001b[1;33m\u001b[0m\u001b[1;33m\u001b[0m\u001b[0m\n\u001b[0m\u001b[0;32m    515\u001b[0m \u001b[1;33m\u001b[0m\u001b[0m\n\u001b[0;32m    516\u001b[0m             \u001b[1;32mraise\u001b[0m \u001b[0mConnectionError\u001b[0m\u001b[1;33m(\u001b[0m\u001b[0me\u001b[0m\u001b[1;33m,\u001b[0m \u001b[0mrequest\u001b[0m\u001b[1;33m=\u001b[0m\u001b[0mrequest\u001b[0m\u001b[1;33m)\u001b[0m\u001b[1;33m\u001b[0m\u001b[1;33m\u001b[0m\u001b[0m\n",
      "\u001b[1;31mSSLError\u001b[0m: HTTPSConnectionPool(host='maoyan.com', port=443): Max retries exceeded with url: /board/4?offset=10 (Caused by SSLError(SSLError(\"bad handshake: SysCallError(-1, 'Unexpected EOF')\")))"
     ]
    }
   ],
   "source": [
    "from multiprocessing import Pool\n",
    "for i in range(10):\n",
    "    url='https://maoyan.com/board/4?offset='+str(10*i)\n",
    "    headers={'User-Agent': 'Mozilla/5.0 (Windows NT 10.0; Win64; x64) AppleWebKit/537.36 (KHTML, like Gecko) Chrome/83.0.4103.116 Safari/537.36'}\n",
    "    res=requests.get(url,headers=headers,cookies=cookie,verify=False)\n",
    "    html=res.text\n",
    "    pattern1=re.compile('<dd>.*?board-index.*?>(.*?)</i>',re.S)\n",
    "    n1.extend(re.findall(pattern1,html))\n",
    "    pattern2=re.compile('<i\\sclass=\"board-index.*?title=\"(.*?)\"',re.S)\n",
    "    n2.extend(re.findall(pattern2,html))\n",
    "    pattern3=re.compile('<dd>.*?class=\"image-link\".*?data-src=\"(.*?)\"',re.S)\n",
    "    n3.extend(re.findall(pattern3,html))\n",
    "    star=re.compile('.*?star.*?>(.*?)</p>\"',re.S)\n",
    "    n4.extend(re.findall(star,html))\n",
    "    m5=re.compile('<p\\sclass=\"releasetime\">(.*?)</p>\"',re.S)\n",
    "    n5.extend(re.findall(m5,html))\n",
    "    scorenew=re.compile('<p\\sclass=\"score\">.*?>(.*?)</i>.*?>(.*?)</i>\"',re.S)\n",
    "    n6.extend(re.findall(scorenew,html))"
   ]
  },
  {
   "cell_type": "code",
   "execution_count": null,
   "metadata": {
    "collapsed": true
   },
   "outputs": [],
   "source": [
    "columns={'排名':n1,'影片':n2,'图片链接':n3,'主演':n4,'上映时间':n5,'评分':n6}\n",
    "data=pd.DataFrame(columns)"
   ]
  },
  {
   "cell_type": "code",
   "execution_count": 50,
   "metadata": {
    "collapsed": true
   },
   "outputs": [],
   "source": [
    "data"
   ]
  },
  {
   "cell_type": "code",
   "execution_count": null,
   "metadata": {
    "collapsed": true
   },
   "outputs": [],
   "source": [
    "import requests\n",
    "import re\n",
    "import json\n",
    "for url in url:\n",
    "    headers={'User-Agent': 'Mozilla/5.0 (Windows NT 10.0; Win64; x64) AppleWebKit/537.36 (KHTML, like Gecko) Chrome/80.0.3987.149 Safari/537.36'}\n",
    "    res=requests.get(url,headers=headers)\n",
    "    html=res.text\n",
    "    pattern=re.compile('<dd>.*?board-index.*?>(.*?)</i>.*?data-src=\"(.*?)\".*?name.*?a.*?>(.*?)</a>.*?star.*?>(.*?)</p>.*?</dd>',re.S)\n",
    "    items=re.findall(pattern,html)\n",
    "    for item in items:\n",
    "        dict={}\n",
    "        dict['index']=item[0]\n",
    "        dict['image']=item[1]\n",
    "        dict['name']=item[2]\n",
    "        dict['star']=item[3].strip()\n",
    "        with open('E:/猫眼电影.xls','a',encoding='utf-8')as f:\n",
    "            f.write(json.dumps(dict,ensure_ascii=False)+'\\n')"
   ]
  },
  {
   "cell_type": "code",
   "execution_count": null,
   "metadata": {
    "collapsed": true
   },
   "outputs": [],
   "source": []
  }
 ],
 "metadata": {
  "hide_input": false,
  "kernelspec": {
   "display_name": "Python 3",
   "language": "python",
   "name": "python3"
  },
  "language_info": {
   "codemirror_mode": {
    "name": "ipython",
    "version": 3
   },
   "file_extension": ".py",
   "mimetype": "text/x-python",
   "name": "python",
   "nbconvert_exporter": "python",
   "pygments_lexer": "ipython3",
   "version": "3.8.5"
  },
  "latex_envs": {
   "LaTeX_envs_menu_present": true,
   "autoclose": false,
   "autocomplete": true,
   "bibliofile": "biblio.bib",
   "cite_by": "apalike",
   "current_citInitial": 1,
   "eqLabelWithNumbers": true,
   "eqNumInitial": 1,
   "hotkeys": {
    "equation": "Ctrl-E",
    "itemize": "Ctrl-I"
   },
   "labels_anchors": false,
   "latex_user_defs": false,
   "report_style_numbering": false,
   "user_envs_cfg": false
  },
  "nbTranslate": {
   "displayLangs": [
    "*"
   ],
   "hotkey": "alt-t",
   "langInMainMenu": true,
   "sourceLang": "en",
   "targetLang": "fr",
   "useGoogleTranslate": true
  },
  "toc": {
   "base_numbering": 1,
   "nav_menu": {},
   "number_sections": true,
   "sideBar": true,
   "skip_h1_title": false,
   "title_cell": "Table of Contents",
   "title_sidebar": "Contents",
   "toc_cell": false,
   "toc_position": {},
   "toc_section_display": true,
   "toc_window_display": false
  },
  "varInspector": {
   "cols": {
    "lenName": 16,
    "lenType": 16,
    "lenVar": 40
   },
   "kernels_config": {
    "python": {
     "delete_cmd_postfix": "",
     "delete_cmd_prefix": "del ",
     "library": "var_list.py",
     "varRefreshCmd": "print(var_dic_list())"
    },
    "r": {
     "delete_cmd_postfix": ") ",
     "delete_cmd_prefix": "rm(",
     "library": "var_list.r",
     "varRefreshCmd": "cat(var_dic_list()) "
    }
   },
   "types_to_exclude": [
    "module",
    "function",
    "builtin_function_or_method",
    "instance",
    "_Feature"
   ],
   "window_display": false
  }
 },
 "nbformat": 4,
 "nbformat_minor": 2
}
